{
 "cells": [
  {
   "cell_type": "markdown",
   "id": "behavioral-combat",
   "metadata": {},
   "source": [
    "# Matplotlib"
   ]
  },
  {
   "cell_type": "markdown",
   "id": "endless-yemen",
   "metadata": {},
   "source": [
    "**Inhaltsübersicht**\n",
    "1. [Daten](Grundlagen.html#Daten)\n",
    "    - [Daten eintragen](Grundlagen.html#Daten_eintragen)\n",
    "    - [Daten von Datei einlesen](Grundlagen.html#Daten_von_Datei_einlesen)\n",
    "    - [Funktionen](Grundlagen.html#Funktionen)\n",
    "1. [Import der Matplotlib Bibliothek](Grundlagen.html#Import)\n",
    "1. [Scatter/Linien Plot](Grundlagen.html#Scatter)\n",
    "    - [Linien (Typ , Farbe , Dicke)](Grundlagen.html#Linien)\n",
    "    - [Marker (Typ , Farbe , Dicke)](Grundlagen.html#Marker)\n",
    "1. [Beschriftungen](Grundlagen.html#Beschriftungen)\n",
    "    - [Achsenbeschriftung](Grundlagen.html#Achsenbeschriftung)\n",
    "    - [Bildüberschrift](Grundlagen.html#Bildueberschrift)\n",
    "    - [Legende](Grundlagen.html#Legende)\n",
    "1. [Wertebereich der Achsen](Grundlagen.html#WertebereichAchsen)\n",
    "1. [Gitter](Grundlagen.html#Gitter)\n",
    "1. [Bildgröße](Grundlagen.html#Bildgroesse)\n",
    "1. [Schriftgröße](Grundlagen.html#Schriftgroesse)\n",
    "1. [Bild speichern](Grundlagen.html#Speichern)"
   ]
  },
  {
   "cell_type": "markdown",
   "id": "broken-malawi",
   "metadata": {},
   "source": [
    "**Übungen**"
   ]
  },
  {
   "cell_type": "markdown",
   "id": "mediterranean-episode",
   "metadata": {},
   "source": [
    "[Übung1 - einfaches Beispiel](Uebungen1.html#Uebung1)\n",
    "![](Uebung01.png)"
   ]
  },
  {
   "cell_type": "markdown",
   "id": "documented-atlas",
   "metadata": {},
   "source": []
  },
  {
   "cell_type": "code",
   "execution_count": null,
   "id": "moral-japan",
   "metadata": {},
   "outputs": [],
   "source": []
  }
 ],
 "metadata": {
  "kernelspec": {
   "display_name": "Python 3",
   "language": "python",
   "name": "python3"
  },
  "language_info": {
   "codemirror_mode": {
    "name": "ipython",
    "version": 3
   },
   "file_extension": ".py",
   "mimetype": "text/x-python",
   "name": "python",
   "nbconvert_exporter": "python",
   "pygments_lexer": "ipython3",
   "version": "3.8.5"
  }
 },
 "nbformat": 4,
 "nbformat_minor": 5
}
