{
 "cells": [
  {
   "cell_type": "markdown",
   "id": "ready-quantum",
   "metadata": {},
   "source": [
    "# Externes Infomaterial"
   ]
  },
  {
   "cell_type": "markdown",
   "id": "psychological-rendering",
   "metadata": {},
   "source": [
    "## offizielle Dokumentationen\n",
    "- [📖 **Matplotlib** Dokumentation](https://matplotlib.org/api/_as_gen/matplotlib.pyplot.html) \n",
    "\n"
   ]
  },
  {
   "cell_type": "markdown",
   "id": "developed-engineer",
   "metadata": {},
   "source": [
    "## Cheat Sheets:\n",
    "- [📰 **Matplotlib** von Nicolas P. Rougier](https://github.com/matplotlib/cheatsheets/) \n",
    "- [📰 **Matplotlib** von DataChamp](https://s3.amazonaws.com/assets.datacamp.com/blog_assets/Python_Matplotlib_Cheat_Sheet.pdf) \n",
    "\n"
   ]
  },
  {
   "cell_type": "markdown",
   "id": "undefined-columbia",
   "metadata": {},
   "source": [
    "## Einsteiger Tutorials\n",
    "- **Matplotlib Tips** von Kimberly Fessel [📽️YouTube Playlist](https://www.youtube.com/watch?v=UUy6_ElQXBY&list=PLtPIclEQf-3dJmAj3IsSRwRoLbX-n3J81) /  [📁Jupyter Notebooks @GitHub](https://github.com/kimfetti/Videos/tree/master/Matplotlib_Tips) \n",
    "- **Matplotlib Einsteiger Tutorial** von Keith Galli [📽️YouTube Video](https://youtu.be/0P7QnIQDBJY) /  [📁Jupyter Notebooks @GitHub](https://github.com/KeithGalli/matplotlib_tutorial) "
   ]
  }
 ],
 "metadata": {
  "kernelspec": {
   "display_name": "Python 3",
   "language": "python",
   "name": "python3"
  },
  "language_info": {
   "codemirror_mode": {
    "name": "ipython",
    "version": 3
   },
   "file_extension": ".py",
   "mimetype": "text/x-python",
   "name": "python",
   "nbconvert_exporter": "python",
   "pygments_lexer": "ipython3",
   "version": "3.8.5"
  }
 },
 "nbformat": 4,
 "nbformat_minor": 5
}
