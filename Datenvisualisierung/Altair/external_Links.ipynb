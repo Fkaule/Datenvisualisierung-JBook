{
 "cells": [
  {
   "cell_type": "markdown",
   "id": "laughing-singer",
   "metadata": {},
   "source": [
    "# Externes Infomaterial"
   ]
  },
  {
   "cell_type": "markdown",
   "id": "associate-saint",
   "metadata": {},
   "source": [
    "## offizielle Dokumentationen\n",
    "- [📖 **Altair** Dokumentation](https://altair-viz.github.io/) \n",
    "\n"
   ]
  },
  {
   "cell_type": "markdown",
   "id": "economic-leave",
   "metadata": {},
   "source": [
    "## Vorträge\n",
    "\n",
    "- **How to Think about Datavisualisation** von Jake Vanderplas [📽️YouTube Video](https://youtu.be/vTingdk_pVM)"
   ]
  },
  {
   "cell_type": "markdown",
   "id": "civic-least",
   "metadata": {},
   "source": [
    "## Tutorials\n",
    "\n",
    "- **Exploratory Data Visualization with Altair** von Jake Vanderplas [📖Jupyter Book](https://altair-viz.github.io/altair-tutorial/) / [📽️YouTube Video](https://www.youtube.com/watch?v=ms29ZPUKxbU)\n"
   ]
  }
 ],
 "metadata": {
  "kernelspec": {
   "display_name": "Python 3",
   "language": "python",
   "name": "python3"
  },
  "language_info": {
   "codemirror_mode": {
    "name": "ipython",
    "version": 3
   },
   "file_extension": ".py",
   "mimetype": "text/x-python",
   "name": "python",
   "nbconvert_exporter": "python",
   "pygments_lexer": "ipython3",
   "version": "3.8.5"
  }
 },
 "nbformat": 4,
 "nbformat_minor": 5
}
