{
 "cells": [
  {
   "cell_type": "markdown",
   "id": "b5c3fbcf",
   "metadata": {},
   "source": [
    "# Externes Infomaterial"
   ]
  },
  {
   "cell_type": "markdown",
   "id": "e225976e",
   "metadata": {},
   "source": [
    "## offizielle Dokumentationen\n",
    "- [📖 **Pandas** Dokumentation](https://pandas.pydata.org/pandas-docs/stable/) "
   ]
  },
  {
   "cell_type": "markdown",
   "id": "c8a832ea",
   "metadata": {},
   "source": [
    "## Cheat Sheets:\n",
    "- [📰 **Pandas** v1 von DataChamp](http://datacamp-community-prod.s3.amazonaws.com/dbed353d-2757-4617-8206-8767ab379ab3) \n",
    "- [📰 **Pandas** v2 von DataChamp](https://s3.amazonaws.com/assets.datacamp.com/blog_assets/Python_Pandas_Cheat_Sheet_2.pdf) "
   ]
  },
  {
   "cell_type": "markdown",
   "id": "6b66430d",
   "metadata": {},
   "source": [
    "## Einsteiger Tutorials\n",
    "- [🌐 **Pandas** Tutorial von kaggle.com](https://www.kaggle.com/learn/pandas)\n",
    "- **Pandas Einsteiger Tutorial** von Keith Galli [📽️YouTube Video](https://youtu.be/vmEHCJofslg) /  [📁Jupyter Notebooks @GitHub](https://github.com/KeithGalli/pandas) \n"
   ]
  },
  {
   "cell_type": "markdown",
   "id": "924ce678",
   "metadata": {},
   "source": [
    "## Advanced Tutorials:\n",
    "- **Pandas Best Practices** von Data School [📽️YouTube Video](https://youtu.be/dPwLlJkSHLo) /  [📁Jupyter Notebooks @GitHub](https://github.com/justmarkham/pandas-videos/blob/master/top_25_pandas_tricks.ipynb)  \n",
    "- **25 Pandas Functions You Didn’t Know Existed | P(Guarantee) = 0.8**  [📰 Towards Data Science](https://towardsdatascience.com/25-pandas-functions-you-didnt-know-existed-p-guarantee-0-8-1a05dcaad5d0) "
   ]
  },
  {
   "cell_type": "code",
   "execution_count": null,
   "id": "3d1a8264",
   "metadata": {},
   "outputs": [],
   "source": []
  }
 ],
 "metadata": {
  "kernelspec": {
   "display_name": "Python 3",
   "language": "python",
   "name": "python3"
  },
  "language_info": {
   "codemirror_mode": {
    "name": "ipython",
    "version": 3
   },
   "file_extension": ".py",
   "mimetype": "text/x-python",
   "name": "python",
   "nbconvert_exporter": "python",
   "pygments_lexer": "ipython3",
   "version": "3.8.5"
  }
 },
 "nbformat": 4,
 "nbformat_minor": 5
}
