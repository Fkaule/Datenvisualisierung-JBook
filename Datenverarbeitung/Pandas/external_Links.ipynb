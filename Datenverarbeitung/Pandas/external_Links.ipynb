{
 "cells": [
  {
   "cell_type": "markdown",
   "id": "silent-separation",
   "metadata": {},
   "source": [
    "# Externes Infomaterial"
   ]
  },
  {
   "cell_type": "markdown",
   "id": "naughty-cowboy",
   "metadata": {},
   "source": [
    "## offizielle Dokumentationen\n",
    "- [📖 **Pandas** Dokumentation](https://pandas.pydata.org/pandas-docs/stable/) "
   ]
  },
  {
   "cell_type": "markdown",
   "id": "critical-typing",
   "metadata": {},
   "source": [
    "## Cheat Sheets:\n",
    "- [📰 **Pandas** v1 von DataChamp](http://datacamp-community-prod.s3.amazonaws.com/dbed353d-2757-4617-8206-8767ab379ab3) \n",
    "- [📰 **Pandas** v2 von DataChamp](https://s3.amazonaws.com/assets.datacamp.com/blog_assets/Python_Pandas_Cheat_Sheet_2.pdf) "
   ]
  },
  {
   "cell_type": "markdown",
   "id": "preliminary-memorabilia",
   "metadata": {},
   "source": [
    "## Einsteiger Tutorials\n",
    "- [🌐 **Pandas** Tutorial von kaggle.com](https://www.kaggle.com/learn/pandas)\n",
    "- **Pandas Einsteiger Tutorial** von Keith Galli [📽️YouTube Video](https://youtu.be/vmEHCJofslg) /  [📁Jupyter Notebooks @GitHub](https://github.com/KeithGalli/pandas) \n"
   ]
  },
  {
   "cell_type": "markdown",
   "id": "reasonable-singing",
   "metadata": {},
   "source": [
    "## Advanced Tutorials:\n",
    "- **Pandas Best Practices** von Data School [📽️YouTube Video](https://youtu.be/dPwLlJkSHLo) /  [📁Jupyter Notebooks @GitHub](https://github.com/justmarkham/pandas-videos/blob/master/top_25_pandas_tricks.ipynb)  "
   ]
  }
 ],
 "metadata": {
  "kernelspec": {
   "display_name": "Python 3",
   "language": "python",
   "name": "python3"
  },
  "language_info": {
   "codemirror_mode": {
    "name": "ipython",
    "version": 3
   },
   "file_extension": ".py",
   "mimetype": "text/x-python",
   "name": "python",
   "nbconvert_exporter": "python",
   "pygments_lexer": "ipython3",
   "version": "3.8.5"
  }
 },
 "nbformat": 4,
 "nbformat_minor": 5
}
