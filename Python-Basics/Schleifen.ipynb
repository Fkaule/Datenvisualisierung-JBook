{
 "cells": [
  {
   "cell_type": "markdown",
   "id": "646cc7de",
   "metadata": {},
   "source": [
    "# Schleifen"
   ]
  },
  {
   "cell_type": "markdown",
   "id": "6205fece",
   "metadata": {},
   "source": [
    "## for loop"
   ]
  },
  {
   "cell_type": "code",
   "execution_count": 4,
   "id": "ce32d43c",
   "metadata": {},
   "outputs": [
    {
     "name": "stdout",
     "output_type": "stream",
     "text": [
      "Zahl 1\n",
      "Zahl 2\n",
      "Zahl 3\n",
      "Zahl 4\n",
      "Zahl 5\n"
     ]
    }
   ],
   "source": [
    "list = [1,2,3,4,5]\n",
    "\n",
    "for i in list:\n",
    "    print('Zahl',i)"
   ]
  },
  {
   "cell_type": "markdown",
   "id": "12cc0155",
   "metadata": {},
   "source": [
    "standardmäßig wird bei `range()` mit 0 gestartet"
   ]
  },
  {
   "cell_type": "code",
   "execution_count": 5,
   "id": "9e76d8dc",
   "metadata": {},
   "outputs": [
    {
     "name": "stdout",
     "output_type": "stream",
     "text": [
      "Zahl 0\n",
      "Zahl 1\n",
      "Zahl 2\n",
      "Zahl 3\n",
      "Zahl 4\n",
      "Zahl 5\n"
     ]
    }
   ],
   "source": [
    "for i in range(6):\n",
    "    print('Zahl',i)"
   ]
  },
  {
   "cell_type": "markdown",
   "id": "887041ea",
   "metadata": {},
   "source": [
    "der startwert von `range()` kann aber auch geändert werden"
   ]
  },
  {
   "cell_type": "code",
   "execution_count": 6,
   "id": "62a0fd8e",
   "metadata": {},
   "outputs": [
    {
     "name": "stdout",
     "output_type": "stream",
     "text": [
      "Zahl 1\n",
      "Zahl 2\n",
      "Zahl 3\n",
      "Zahl 4\n",
      "Zahl 5\n"
     ]
    }
   ],
   "source": [
    "for i in range(1,6):\n",
    "    print('Zahl',i)"
   ]
  },
  {
   "cell_type": "markdown",
   "id": "5aaadb5f",
   "metadata": {},
   "source": [
    "man kann die Schleife auch als `oneliner` (also in einer Zeile) schreiben:"
   ]
  },
  {
   "cell_type": "code",
   "execution_count": 1,
   "id": "bd14a7b2",
   "metadata": {},
   "outputs": [
    {
     "name": "stdout",
     "output_type": "stream",
     "text": [
      "Zahl 1\n",
      "Zahl 2\n",
      "Zahl 3\n",
      "Zahl 4\n",
      "Zahl 5\n"
     ]
    }
   ],
   "source": [
    "for i in range(1,6): print('Zahl',i)"
   ]
  },
  {
   "cell_type": "markdown",
   "id": "105f01fc",
   "metadata": {},
   "source": [
    "## while"
   ]
  },
  {
   "cell_type": "code",
   "execution_count": 8,
   "id": "3317bc2e",
   "metadata": {},
   "outputs": [
    {
     "name": "stdout",
     "output_type": "stream",
     "text": [
      "1\n",
      "4\n",
      "19\n",
      "364\n"
     ]
    }
   ],
   "source": [
    "i = 1\n",
    "while i <= 1000: \n",
    "    print(i) \n",
    "    i = i**2 + 3 "
   ]
  }
 ],
 "metadata": {
  "kernelspec": {
   "display_name": "Python 3",
   "language": "python",
   "name": "python3"
  },
  "language_info": {
   "codemirror_mode": {
    "name": "ipython",
    "version": 3
   },
   "file_extension": ".py",
   "mimetype": "text/x-python",
   "name": "python",
   "nbconvert_exporter": "python",
   "pygments_lexer": "ipython3",
   "version": "3.8.5"
  }
 },
 "nbformat": 4,
 "nbformat_minor": 5
}
