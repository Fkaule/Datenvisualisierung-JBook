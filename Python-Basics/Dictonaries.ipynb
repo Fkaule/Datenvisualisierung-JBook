{
 "cells": [
  {
   "cell_type": "markdown",
   "id": "5e43af9f",
   "metadata": {},
   "source": [
    "# Dictonarties\n",
    "\n",
    "- Paarung von `key` und `value`\n",
    "- Ein `Dictonarty` wird `geschweiften Klammern {}` definiert, wobei der key mit `:` vom `value getrent wird. Die Elemente werden durch ein `Komma ,` getrennt \n",
    "- `keys` können `strings` oder auch `Zahlen (int,float)` sein (wobei `string` vermutlich am sinnvolsten sind)\n",
    "- `values` können `strings` oder auch `Zahlen (int,float)` sein bzw `Listen` davon"
   ]
  },
  {
   "cell_type": "markdown",
   "id": "435a308f",
   "metadata": {},
   "source": [
    "## Dictonary definieren"
   ]
  },
  {
   "cell_type": "code",
   "execution_count": 61,
   "id": "1e7b54e2",
   "metadata": {},
   "outputs": [
    {
     "name": "stdout",
     "output_type": "stream",
     "text": [
      "{'Name': 'Deutschland', 'Einwohner': 83100000, 'Anzahl Bundesländer': 16, 'Meereszugänge': ['Ostsee', 'Nordsee']}\n"
     ]
    }
   ],
   "source": [
    "Land = {\"Name\":\"Deutschland\",\"Einwohner\":83100000,\"Anzahl Bundesländer\":16,\"Meereszugänge\":[\"Ostsee\",\"Nordsee\"]}\n",
    "print(Land)"
   ]
  },
  {
   "cell_type": "markdown",
   "id": "49b6025b",
   "metadata": {},
   "source": [
    "## `value` eines `keys` ausgeben"
   ]
  },
  {
   "cell_type": "code",
   "execution_count": 62,
   "id": "31981b0f",
   "metadata": {},
   "outputs": [
    {
     "data": {
      "text/plain": [
       "'Deutschland'"
      ]
     },
     "execution_count": 62,
     "metadata": {},
     "output_type": "execute_result"
    }
   ],
   "source": [
    "Land[\"Name\"]"
   ]
  },
  {
   "cell_type": "markdown",
   "id": "4a399c16",
   "metadata": {},
   "source": [
    "mit `get()` \n",
    "\n",
    "<div class=\"alert alert-block alert-info\">\n",
    "<b>get</b> ist die bessere Variante, weil Sie kein Fehler ausgibt, sobald das Element nicht vorhanden ist\n",
    "</div>"
   ]
  },
  {
   "cell_type": "code",
   "execution_count": 63,
   "id": "77840f12",
   "metadata": {},
   "outputs": [
    {
     "data": {
      "text/plain": [
       "'Deutschland'"
      ]
     },
     "execution_count": 63,
     "metadata": {},
     "output_type": "execute_result"
    }
   ],
   "source": [
    "Land.get(\"Name\")"
   ]
  },
  {
   "cell_type": "markdown",
   "id": "588bbaa6",
   "metadata": {},
   "source": [
    "Falls das Element nicht existiert kann ein `default` Wert als zweites Argument definiert werden welches ausgegeben werden kann"
   ]
  },
  {
   "cell_type": "code",
   "execution_count": 64,
   "id": "c8267867",
   "metadata": {},
   "outputs": [
    {
     "data": {
      "text/plain": [
       "'Hauptstadt nicht definiert'"
      ]
     },
     "execution_count": 64,
     "metadata": {},
     "output_type": "execute_result"
    }
   ],
   "source": [
    "Land.get(\"Hauptstadt\",\"Hauptstadt nicht definiert\")"
   ]
  },
  {
   "cell_type": "markdown",
   "id": "70593cae",
   "metadata": {},
   "source": [
    "## Elemente hinzufügen/verändern\n",
    "\n",
    "Ist das Element bereits vorhanden, wird es mit dem neuen Wert überschrieben"
   ]
  },
  {
   "cell_type": "code",
   "execution_count": 65,
   "id": "11dee1ef",
   "metadata": {},
   "outputs": [],
   "source": [
    "Land[\"Hauptstadt\"] = \"Berlin\""
   ]
  },
  {
   "cell_type": "code",
   "execution_count": 66,
   "id": "bab51411",
   "metadata": {},
   "outputs": [
    {
     "name": "stdout",
     "output_type": "stream",
     "text": [
      "{'Name': 'Deutschland', 'Einwohner': 80000000, 'Anzahl Bundesländer': 16, 'Meereszugänge': ['Ostsee', 'Nordsee'], 'Hauptstadt': 'Berlin'}\n"
     ]
    }
   ],
   "source": [
    "Land[\"Einwohner\"] = 80000000\n",
    "print(Land)"
   ]
  },
  {
   "cell_type": "markdown",
   "id": "57053f3d",
   "metadata": {},
   "source": [
    "sollen mehrere Sachen hinzufügt/geändert werden so kann dies mit `update()` erfolgen, welches ein Dictonatry als Input verlangt"
   ]
  },
  {
   "cell_type": "code",
   "execution_count": 67,
   "id": "9d84efdb",
   "metadata": {},
   "outputs": [
    {
     "name": "stdout",
     "output_type": "stream",
     "text": [
      "{'Name': 'Deutschland', 'Einwohner': 81000000, 'Anzahl Bundesländer': 16, 'Meereszugänge': ['Ostsee', 'Nordsee'], 'Hauptstadt': 'Berlin', 'größtes Binnengewässer': 'Bodensee'}\n"
     ]
    }
   ],
   "source": [
    "Land.update({\"Einwohner\":81000000, \"größtes Binnengewässer\": \"Bodensee\"})\n",
    "print(Land)"
   ]
  },
  {
   "cell_type": "markdown",
   "id": "317badc1",
   "metadata": {},
   "source": [
    "## Elemente löschen\n",
    "\n",
    "`del` entfernt das Element"
   ]
  },
  {
   "cell_type": "code",
   "execution_count": 68,
   "id": "7952c897",
   "metadata": {},
   "outputs": [
    {
     "name": "stdout",
     "output_type": "stream",
     "text": [
      "{'Name': 'Deutschland', 'Einwohner': 81000000, 'Anzahl Bundesländer': 16, 'Meereszugänge': ['Ostsee', 'Nordsee'], 'größtes Binnengewässer': 'Bodensee'}\n"
     ]
    }
   ],
   "source": [
    "del Land[\"Hauptstadt\"]\n",
    "print(Land)"
   ]
  },
  {
   "cell_type": "markdown",
   "id": "2e63d4e1",
   "metadata": {},
   "source": [
    "`pop()` entfernt das Element und gibt dieses aus"
   ]
  },
  {
   "cell_type": "code",
   "execution_count": 69,
   "id": "9b6758b2",
   "metadata": {},
   "outputs": [
    {
     "data": {
      "text/plain": [
       "16"
      ]
     },
     "execution_count": 69,
     "metadata": {},
     "output_type": "execute_result"
    }
   ],
   "source": [
    "Land.pop(\"Anzahl Bundesländer\")"
   ]
  },
  {
   "cell_type": "markdown",
   "id": "99b0cf72",
   "metadata": {},
   "source": [
    "## Ausgabe Anzahl/Werte"
   ]
  },
  {
   "cell_type": "markdown",
   "id": "be930f1f",
   "metadata": {},
   "source": [
    "`len()` Anzahl der Keys"
   ]
  },
  {
   "cell_type": "code",
   "execution_count": 70,
   "id": "132ec3ba",
   "metadata": {},
   "outputs": [
    {
     "data": {
      "text/plain": [
       "4"
      ]
     },
     "execution_count": 70,
     "metadata": {},
     "output_type": "execute_result"
    }
   ],
   "source": [
    "len(Land)"
   ]
  },
  {
   "cell_type": "markdown",
   "id": "7a887a3b",
   "metadata": {},
   "source": [
    "`keys()` Name der Keys"
   ]
  },
  {
   "cell_type": "code",
   "execution_count": 71,
   "id": "689d3c0d",
   "metadata": {},
   "outputs": [
    {
     "data": {
      "text/plain": [
       "dict_keys(['Name', 'Einwohner', 'Meereszugänge', 'größtes Binnengewässer'])"
      ]
     },
     "execution_count": 71,
     "metadata": {},
     "output_type": "execute_result"
    }
   ],
   "source": [
    "Land.keys()"
   ]
  },
  {
   "cell_type": "markdown",
   "id": "78314330",
   "metadata": {},
   "source": [
    "`values()` Werte der values"
   ]
  },
  {
   "cell_type": "code",
   "execution_count": 72,
   "id": "bcf57d03",
   "metadata": {},
   "outputs": [
    {
     "data": {
      "text/plain": [
       "dict_values(['Deutschland', 81000000, ['Ostsee', 'Nordsee'], 'Bodensee'])"
      ]
     },
     "execution_count": 72,
     "metadata": {},
     "output_type": "execute_result"
    }
   ],
   "source": [
    "Land.values()"
   ]
  },
  {
   "cell_type": "markdown",
   "id": "2651673f",
   "metadata": {},
   "source": [
    "`items()` keys und values"
   ]
  },
  {
   "cell_type": "code",
   "execution_count": 73,
   "id": "054223f1",
   "metadata": {},
   "outputs": [
    {
     "data": {
      "text/plain": [
       "dict_items([('Name', 'Deutschland'), ('Einwohner', 81000000), ('Meereszugänge', ['Ostsee', 'Nordsee']), ('größtes Binnengewässer', 'Bodensee')])"
      ]
     },
     "execution_count": 73,
     "metadata": {},
     "output_type": "execute_result"
    }
   ],
   "source": [
    "Land.items()"
   ]
  },
  {
   "cell_type": "markdown",
   "id": "06904583",
   "metadata": {},
   "source": [
    "## Schleifen über ein Dictonary"
   ]
  },
  {
   "cell_type": "markdown",
   "id": "af0b88af",
   "metadata": {},
   "source": [
    "Schleife über alle `keys`"
   ]
  },
  {
   "cell_type": "code",
   "execution_count": 74,
   "id": "63440e03",
   "metadata": {},
   "outputs": [
    {
     "name": "stdout",
     "output_type": "stream",
     "text": [
      "Name\n",
      "Einwohner\n",
      "Meereszugänge\n",
      "größtes Binnengewässer\n"
     ]
    }
   ],
   "source": [
    "for key in Land:\n",
    "    print(key)"
   ]
  },
  {
   "cell_type": "markdown",
   "id": "114efd3d",
   "metadata": {},
   "source": [
    "Schleife über alle `keys` und `values`"
   ]
  },
  {
   "cell_type": "code",
   "execution_count": 75,
   "id": "9e89d87d",
   "metadata": {},
   "outputs": [
    {
     "name": "stdout",
     "output_type": "stream",
     "text": [
      "Name Deutschland\n",
      "Einwohner 81000000\n",
      "Meereszugänge ['Ostsee', 'Nordsee']\n",
      "größtes Binnengewässer Bodensee\n"
     ]
    }
   ],
   "source": [
    "for key,value in Land.items():\n",
    "    print(key,value)"
   ]
  }
 ],
 "metadata": {
  "kernelspec": {
   "display_name": "Python 3",
   "language": "python",
   "name": "python3"
  },
  "language_info": {
   "codemirror_mode": {
    "name": "ipython",
    "version": 3
   },
   "file_extension": ".py",
   "mimetype": "text/x-python",
   "name": "python",
   "nbconvert_exporter": "python",
   "pygments_lexer": "ipython3",
   "version": "3.8.5"
  }
 },
 "nbformat": 4,
 "nbformat_minor": 5
}
