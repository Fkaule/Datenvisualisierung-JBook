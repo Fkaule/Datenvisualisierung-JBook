{
 "cells": [
  {
   "cell_type": "markdown",
   "id": "c40d11ec",
   "metadata": {},
   "source": [
    "# andere Quellen:\n",
    "\n",
    "- [S4F Dortmund (Jupyter Notebook)](https://github.com/s4f-dortmund/open_data_notebooks/blob/master/co2_germany_since_1990.ipynb)\n",
    "- [Dashboard Global Carbon Atlas](http://www.globalcarbonatlas.org/en/CO2-emissions)\n",
    "- [Our World in Data (co2-and-other-greenhouse-gas-emissions)](https://ourworldindata.org/co2-and-other-greenhouse-gas-emissions)\n",
    "- [Our World in Data (emissions-by-sector)](https://ourworldindata.org/emissions-by-sector)"
   ]
  },
  {
   "cell_type": "code",
   "execution_count": null,
   "id": "4ca19176",
   "metadata": {},
   "outputs": [],
   "source": []
  }
 ],
 "metadata": {
  "kernelspec": {
   "display_name": "Python 3",
   "language": "python",
   "name": "python3"
  },
  "language_info": {
   "codemirror_mode": {
    "name": "ipython",
    "version": 3
   },
   "file_extension": ".py",
   "mimetype": "text/x-python",
   "name": "python",
   "nbconvert_exporter": "python",
   "pygments_lexer": "ipython3",
   "version": "3.8.5"
  }
 },
 "nbformat": 4,
 "nbformat_minor": 5
}
