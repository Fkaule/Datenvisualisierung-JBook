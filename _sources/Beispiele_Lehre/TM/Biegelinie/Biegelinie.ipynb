{
 "cells": [
  {
   "cell_type": "markdown",
   "id": "6fcb9e92",
   "metadata": {},
   "source": [
    "# Herleitung\n",
    "\n",
    "![](Biegelinie1.png)"
   ]
  },
  {
   "cell_type": "markdown",
   "id": "9f93e786",
   "metadata": {},
   "source": [
    "Imports"
   ]
  },
  {
   "cell_type": "code",
   "execution_count": 1,
   "id": "87271b38",
   "metadata": {},
   "outputs": [],
   "source": [
    "from sympy import *\n",
    "from sympy import init_printing\n",
    "init_printing() "
   ]
  },
  {
   "cell_type": "markdown",
   "id": "c44efb7b",
   "metadata": {},
   "source": [
    "Differentialgleichung definieren"
   ]
  },
  {
   "cell_type": "code",
   "execution_count": 2,
   "id": "cf542382",
   "metadata": {},
   "outputs": [
    {
     "data": {
      "image/png": "[encoded data removed]",
      "text/latex": [
       "$\\displaystyle E I_{y} \\frac{d^{2}}{d x^{2}} u{\\left(x \\right)} = - M$"
      ],
      "text/plain": [
       "        2           \n",
       "       d            \n",
       "E⋅I_y⋅───(u(x)) = -M\n",
       "        2           \n",
       "      dx            "
      ]
     },
     "execution_count": 2,
     "metadata": {},
     "output_type": "execute_result"
    }
   ],
   "source": [
    "E,Iy,x,L,F, M =symbols('E I_y x L F M')\n",
    "u=symbols('u',cls=Function)\n",
    "dglg=Eq(E*Iy*u(x).diff(x,2),-M)\n",
    "dglg"
   ]
  },
  {
   "cell_type": "markdown",
   "id": "61c6e49c",
   "metadata": {},
   "source": [
    "Momentenverlauf\n",
    "\n",
    "![](Biegelinie2.png)"
   ]
  },
  {
   "cell_type": "code",
   "execution_count": 3,
   "id": "eb530454",
   "metadata": {},
   "outputs": [],
   "source": [
    "M=F*L+F*x"
   ]
  },
  {
   "cell_type": "markdown",
   "id": "14df8373",
   "metadata": {},
   "source": [
    "Falls nicht klar ist wie man auf die Gleichung kommt, hier eine mögliche Herleitung:"
   ]
  },
  {
   "cell_type": "code",
   "execution_count": 4,
   "id": "7a80d10b",
   "metadata": {},
   "outputs": [],
   "source": [
    "# y(x=0) = FL\n",
    "x1=0\n",
    "y1=F*L \n",
    "\n",
    "# y(x=L) = 0\n",
    "x2=L\n",
    "y2=0\n",
    "\n",
    "M = (y2-y1)/(x2-x1) * (x-x1) + y1"
   ]
  },
  {
   "cell_type": "markdown",
   "id": "6737884b",
   "metadata": {},
   "source": [
    "Die komplette Differentialgleichung lautet dann wie folgt:"
   ]
  },
  {
   "cell_type": "code",
   "execution_count": 5,
   "id": "6608b26e",
   "metadata": {},
   "outputs": [
    {
     "data": {
      "image/png": "[encoded data removed]",
      "text/latex": [
       "$\\displaystyle E I_{y} \\frac{d^{2}}{d x^{2}} u{\\left(x \\right)} = - F L + F x$"
      ],
      "text/plain": [
       "        2                   \n",
       "       d                    \n",
       "E⋅I_y⋅───(u(x)) = -F⋅L + F⋅x\n",
       "        2                   \n",
       "      dx                    "
      ]
     },
     "execution_count": 5,
     "metadata": {},
     "output_type": "execute_result"
    }
   ],
   "source": [
    "dglg=Eq(E*Iy*u(x).diff(x,2),-M)\n",
    "dglg"
   ]
  },
  {
   "cell_type": "markdown",
   "id": "55ded8ad",
   "metadata": {},
   "source": [
    "Differentialgleichung lösen"
   ]
  },
  {
   "cell_type": "code",
   "execution_count": 6,
   "id": "372c73c0",
   "metadata": {},
   "outputs": [
    {
     "data": {
      "image/png": "[encoded data removed]",
      "text/latex": [
       "$\\displaystyle u{\\left(x \\right)} = C_{1} + \\frac{x \\left(C_{2} E I_{y} - \\frac{F L x}{2} + \\frac{F x^{2}}{6}\\right)}{E I_{y}}$"
      ],
      "text/plain": [
       "              ⎛                      2⎞\n",
       "              ⎜           F⋅L⋅x   F⋅x ⎟\n",
       "            x⋅⎜C₂⋅E⋅I_y - ───── + ────⎟\n",
       "              ⎝             2      6  ⎠\n",
       "u(x) = C₁ + ───────────────────────────\n",
       "                       E⋅I_y           "
      ]
     },
     "execution_count": 6,
     "metadata": {},
     "output_type": "execute_result"
    }
   ],
   "source": [
    "u=dsolve(dglg,u(x))\n",
    "u"
   ]
  },
  {
   "cell_type": "markdown",
   "id": "fb0b0b36",
   "metadata": {},
   "source": [
    "Integrationskonstanten mit Hilfe von Randbedingungen bestimmen"
   ]
  },
  {
   "cell_type": "code",
   "execution_count": 7,
   "id": "25d65219",
   "metadata": {},
   "outputs": [
    {
     "data": {
      "image/png": "[encoded data removed]",
      "text/latex": [
       "$\\displaystyle \\left\\{ C_{1} : 0, \\  C_{2} : 0\\right\\}$"
      ],
      "text/plain": [
       "{C₁: 0, C₂: 0}"
      ]
     },
     "execution_count": 7,
     "metadata": {},
     "output_type": "execute_result"
    }
   ],
   "source": [
    "bed1 = u.rhs.subs(x,0) - 0\n",
    "bed2 = u.rhs.diff(x).subs(x,0) - 0\n",
    "C = solve([bed1,bed2])\n",
    "C"
   ]
  },
  {
   "cell_type": "markdown",
   "id": "b5c674cb",
   "metadata": {},
   "source": [
    "Integrationskonstanten einsetzen"
   ]
  },
  {
   "cell_type": "code",
   "execution_count": 8,
   "id": "5e20374e",
   "metadata": {},
   "outputs": [
    {
     "data": {
      "image/png": "[encoded data removed]",
      "text/latex": [
       "$\\displaystyle u{\\left(x \\right)} = \\frac{x \\left(- \\frac{F L x}{2} + \\frac{F x^{2}}{6}\\right)}{E I_{y}}$"
      ],
      "text/plain": [
       "         ⎛             2⎞\n",
       "         ⎜  F⋅L⋅x   F⋅x ⎟\n",
       "       x⋅⎜- ───── + ────⎟\n",
       "         ⎝    2      6  ⎠\n",
       "u(x) = ──────────────────\n",
       "             E⋅I_y       "
      ]
     },
     "execution_count": 8,
     "metadata": {},
     "output_type": "execute_result"
    }
   ],
   "source": [
    "u = u.subs(C)\n",
    "u"
   ]
  },
  {
   "cell_type": "markdown",
   "id": "88c6e566",
   "metadata": {},
   "source": [
    "Gleichung vereinfachen"
   ]
  },
  {
   "cell_type": "code",
   "execution_count": 9,
   "id": "cd525a57",
   "metadata": {},
   "outputs": [
    {
     "data": {
      "image/png": "[encoded data removed]",
      "text/latex": [
       "$\\displaystyle u{\\left(x \\right)} = \\frac{F x^{2} \\left(- 3 L + x\\right)}{6 E I_{y}}$"
      ],
      "text/plain": [
       "          2           \n",
       "       F⋅x ⋅(-3⋅L + x)\n",
       "u(x) = ───────────────\n",
       "           6⋅E⋅I_y    "
      ]
     },
     "execution_count": 9,
     "metadata": {},
     "output_type": "execute_result"
    }
   ],
   "source": [
    "u.simplify()"
   ]
  },
  {
   "cell_type": "markdown",
   "id": "aeffa07e",
   "metadata": {},
   "source": [
    "Daten einsetzen"
   ]
  },
  {
   "cell_type": "code",
   "execution_count": 10,
   "id": "8d16266c",
   "metadata": {},
   "outputs": [
    {
     "data": {
      "image/png": "[encoded data removed]",
      "text/latex": [
       "$\\displaystyle \\left( x \\mapsto 4.76190476190476 \\cdot 10^{-6} x \\left(\\frac{5 x^{2}}{6} - 25 x\\right) \\right)$"
      ],
      "text/plain": [
       "                          ⎛   2       ⎞\n",
       "                          ⎜5⋅x        ⎟\n",
       "x ↦ 4.76190476190476e-6⋅x⋅⎜──── - 25⋅x⎟\n",
       "                          ⎝ 6         ⎠"
      ]
     },
     "execution_count": 10,
     "metadata": {},
     "output_type": "execute_result"
    }
   ],
   "source": [
    "data=[(F,5),(L,10),(E,210e3),(Iy,1)]\n",
    "ux = Lambda(x, u.rhs.subs(data))\n",
    "ux"
   ]
  },
  {
   "cell_type": "markdown",
   "id": "64a925a4",
   "metadata": {},
   "source": [
    "plotten"
   ]
  },
  {
   "cell_type": "code",
   "execution_count": 11,
   "id": "de5f3bc2",
   "metadata": {},
   "outputs": [
    {
     "data": {
      "image/png": "[encoded data removed]",
      "text/plain": [
       "<Figure size 432x288 with 1 Axes>"
      ]
     },
     "metadata": {
      "needs_background": "light"
     },
     "output_type": "display_data"
    }
   ],
   "source": [
    "plot(ux(x),(x,0,L.subs(data)));"
   ]
  }
 ],
 "metadata": {
  "kernelspec": {
   "display_name": "Python 3",
   "language": "python",
   "name": "python3"
  },
  "language_info": {
   "codemirror_mode": {
    "name": "ipython",
    "version": 3
   },
   "file_extension": ".py",
   "mimetype": "text/x-python",
   "name": "python",
   "nbconvert_exporter": "python",
   "pygments_lexer": "ipython3",
   "version": "3.8.5"
  }
 },
 "nbformat": 4,
 "nbformat_minor": 5
}
