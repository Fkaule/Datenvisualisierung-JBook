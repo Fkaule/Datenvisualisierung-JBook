{
 "cells": [
  {
   "cell_type": "markdown",
   "id": "d0789432",
   "metadata": {},
   "source": [
    "# Balken auf zwei Stützen mit Einzellast\n",
    "\n",
    "![](Biegelinie2a.png)"
   ]
  },
  {
   "cell_type": "markdown",
   "id": "9c2263f0",
   "metadata": {},
   "source": [
    "Imports"
   ]
  },
  {
   "cell_type": "code",
   "execution_count": 1,
   "id": "e1b1cd5e",
   "metadata": {},
   "outputs": [],
   "source": [
    "from sympy import *\n",
    "from sympy import init_printing\n",
    "init_printing() "
   ]
  },
  {
   "cell_type": "markdown",
   "id": "b3bf78a8",
   "metadata": {},
   "source": [
    "Variablen definieren"
   ]
  },
  {
   "cell_type": "code",
   "execution_count": 24,
   "id": "05f62fba",
   "metadata": {},
   "outputs": [],
   "source": [
    "E,Iy,x,a,b,F,M =symbols('E I_y x a b F M')"
   ]
  },
  {
   "cell_type": "markdown",
   "id": "bde61ecc",
   "metadata": {},
   "source": [
    "Differentialgleichung Abschnitt 1 ($0 < x < a$) definieren"
   ]
  },
  {
   "cell_type": "code",
   "execution_count": 3,
   "id": "3f81b106",
   "metadata": {},
   "outputs": [
    {
     "data": {
      "image/png": "[encoded data removed]",
      "text/latex": [
       "$\\displaystyle E I_{y} \\frac{d^{2}}{d x^{2}} \\operatorname{u_{1}}{\\left(x \\right)} = - M$"
      ],
      "text/plain": [
       "        2            \n",
       "       d             \n",
       "E⋅I_y⋅───(u₁(x)) = -M\n",
       "        2            \n",
       "      dx             "
      ]
     },
     "execution_count": 3,
     "metadata": {},
     "output_type": "execute_result"
    }
   ],
   "source": [
    "u1=symbols('u1',cls=Function)\n",
    "dglg1=Eq(E*Iy*u1(x).diff(x,2),-M)\n",
    "dglg1"
   ]
  },
  {
   "cell_type": "markdown",
   "id": "b28dd61b",
   "metadata": {},
   "source": [
    "Differentialgleichung Abschnitt 2 ($a < x < a+b$) definieren"
   ]
  },
  {
   "cell_type": "code",
   "execution_count": 4,
   "id": "17c990e9",
   "metadata": {},
   "outputs": [
    {
     "data": {
      "image/png": "[encoded data removed]",
      "text/latex": [
       "$\\displaystyle E I_{y} \\frac{d^{2}}{d x^{2}} \\operatorname{u_{2}}{\\left(x \\right)} = - M$"
      ],
      "text/plain": [
       "        2            \n",
       "       d             \n",
       "E⋅I_y⋅───(u₂(x)) = -M\n",
       "        2            \n",
       "      dx             "
      ]
     },
     "execution_count": 4,
     "metadata": {},
     "output_type": "execute_result"
    }
   ],
   "source": [
    "u2=symbols('u2',cls=Function)\n",
    "dglg2=Eq(E*Iy*u2(x).diff(x,2),-M)\n",
    "dglg2"
   ]
  },
  {
   "cell_type": "markdown",
   "id": "a7c7db85",
   "metadata": {},
   "source": [
    "Momentenverlauf\n",
    "\n",
    "![](Biegelinie2b.png)"
   ]
  },
  {
   "cell_type": "code",
   "execution_count": 5,
   "id": "987fd651",
   "metadata": {},
   "outputs": [],
   "source": [
    "M1=F*b*x/(a*(a+b))\n",
    "M2=(F*(a+b-x))/(a+b)"
   ]
  },
  {
   "cell_type": "markdown",
   "id": "fd6d4954",
   "metadata": {},
   "source": [
    "Falls nicht klar ist wie man auf die Gleichung kommt, hier eine mögliche Herleitung:"
   ]
  },
  {
   "cell_type": "code",
   "execution_count": 6,
   "id": "5e8d9d30",
   "metadata": {},
   "outputs": [
    {
     "data": {
      "image/png": "[encoded data removed]",
      "text/latex": [
       "$\\displaystyle \\frac{F b x}{a \\left(a + b\\right)}$"
      ],
      "text/plain": [
       "  F⋅b⋅x  \n",
       "─────────\n",
       "a⋅(a + b)"
      ]
     },
     "execution_count": 6,
     "metadata": {},
     "output_type": "execute_result"
    }
   ],
   "source": [
    "# y(x=0) = 0\n",
    "x1=0\n",
    "y1=0 \n",
    "\n",
    "# y(x=a) = F a\n",
    "x2=a\n",
    "y2=F*b/(a+b) \n",
    "\n",
    "M1 = (y2-y1)/(x2-x1) * (x-x1) + y1\n",
    "M1 = M1.simplify()\n",
    "M1"
   ]
  },
  {
   "cell_type": "code",
   "execution_count": 7,
   "id": "b67dd313",
   "metadata": {},
   "outputs": [
    {
     "data": {
      "image/png": "[encoded data removed]",
      "text/latex": [
       "$\\displaystyle \\frac{F \\left(a + b - x\\right)}{a + b}$"
      ],
      "text/plain": [
       "F⋅(a + b - x)\n",
       "─────────────\n",
       "    a + b    "
      ]
     },
     "execution_count": 7,
     "metadata": {},
     "output_type": "execute_result"
    }
   ],
   "source": [
    "# y(x=a) = F a\n",
    "x1=a\n",
    "y1=F*b/(a+b)\n",
    "\n",
    "# y(x=a+b) = 0\n",
    "x2=a+b\n",
    "y2=0\n",
    "\n",
    "M2 = (y2-y1)/(x2-x1) * (x-x1) + y1\n",
    "M2 = M2.simplify()\n",
    "M2"
   ]
  },
  {
   "cell_type": "markdown",
   "id": "9ffbc06a",
   "metadata": {},
   "source": [
    "Die komplette Differentialgleichungen für den Abschnitt 1 ($0 < x < a$)  lautetet dann wie folgt:"
   ]
  },
  {
   "cell_type": "code",
   "execution_count": 8,
   "id": "88eb2bf4",
   "metadata": {},
   "outputs": [
    {
     "data": {
      "image/png": "[encoded data removed]",
      "text/latex": [
       "$\\displaystyle E I_{y} \\frac{d^{2}}{d x^{2}} \\operatorname{u_{1}}{\\left(x \\right)} = - \\frac{F b x}{a \\left(a + b\\right)}$"
      ],
      "text/plain": [
       "        2                   \n",
       "       d            -F⋅b⋅x  \n",
       "E⋅I_y⋅───(u₁(x)) = ─────────\n",
       "        2          a⋅(a + b)\n",
       "      dx                    "
      ]
     },
     "execution_count": 8,
     "metadata": {},
     "output_type": "execute_result"
    }
   ],
   "source": [
    "dglg1=Eq(E*Iy*u1(x).diff(x,2),-M1)\n",
    "dglg1"
   ]
  },
  {
   "cell_type": "markdown",
   "id": "479d2d5a",
   "metadata": {},
   "source": [
    "Die komplette Differentialgleichungen für den Abschnitt 2 ($a < x < a+b$)  lautetet dann wie folgt:"
   ]
  },
  {
   "cell_type": "code",
   "execution_count": 9,
   "id": "24788dc9",
   "metadata": {},
   "outputs": [
    {
     "data": {
      "image/png": "[encoded data removed]",
      "text/latex": [
       "$\\displaystyle E I_{y} \\frac{d^{2}}{d x^{2}} \\operatorname{u_{2}}{\\left(x \\right)} = - \\frac{F \\left(a + b - x\\right)}{a + b}$"
      ],
      "text/plain": [
       "        2                         \n",
       "       d           -F⋅(a + b - x) \n",
       "E⋅I_y⋅───(u₂(x)) = ───────────────\n",
       "        2               a + b     \n",
       "      dx                          "
      ]
     },
     "execution_count": 9,
     "metadata": {},
     "output_type": "execute_result"
    }
   ],
   "source": [
    "dglg2=Eq(E*Iy*u2(x).diff(x,2),-M2)\n",
    "dglg2"
   ]
  },
  {
   "cell_type": "markdown",
   "id": "baf2f7c4",
   "metadata": {},
   "source": [
    "Differentialgleichung lösen"
   ]
  },
  {
   "cell_type": "code",
   "execution_count": 10,
   "id": "3f6a8e6f",
   "metadata": {},
   "outputs": [
    {
     "data": {
      "image/png": "[encoded data removed]",
      "text/latex": [
       "$\\displaystyle \\left[ \\operatorname{u_{1}}{\\left(x \\right)} = C_{1} + C_{2} x - \\frac{F b x^{3}}{6 E I_{y} a \\left(a + b\\right)}, \\  \\operatorname{u_{2}}{\\left(x \\right)} = C_{3} + C_{4} x + \\frac{F x^{3}}{6 E I_{y} \\left(a + b\\right)} - \\frac{F x^{2}}{2 E I_{y}}\\right]$"
      ],
      "text/plain": [
       "⎡                               3                                    3        \n",
       "⎢                          F⋅b⋅x                                  F⋅x         \n",
       "⎢u₁(x) = C₁ + C₂⋅x - ─────────────────, u₂(x) = C₃ + C₄⋅x + ─────────────── - \n",
       "⎣                    6⋅E⋅I_y⋅a⋅(a + b)                      6⋅E⋅I_y⋅(a + b)   \n",
       "\n",
       "     2 ⎤\n",
       "  F⋅x  ⎥\n",
       "───────⎥\n",
       "2⋅E⋅I_y⎦"
      ]
     },
     "execution_count": 10,
     "metadata": {},
     "output_type": "execute_result"
    }
   ],
   "source": [
    "sln=dsolve((dglg1,dglg2))\n",
    "sln"
   ]
  },
  {
   "cell_type": "code",
   "execution_count": 11,
   "id": "0c0be1da",
   "metadata": {},
   "outputs": [
    {
     "data": {
      "image/png": "[encoded data removed]",
      "text/latex": [
       "$\\displaystyle \\operatorname{u_{1}}{\\left(x \\right)} = C_{1} + C_{2} x - \\frac{F b x^{3}}{6 E I_{y} a \\left(a + b\\right)}$"
      ],
      "text/plain": [
       "                               3     \n",
       "                          F⋅b⋅x      \n",
       "u₁(x) = C₁ + C₂⋅x - ─────────────────\n",
       "                    6⋅E⋅I_y⋅a⋅(a + b)"
      ]
     },
     "execution_count": 11,
     "metadata": {},
     "output_type": "execute_result"
    }
   ],
   "source": [
    "u1 = sln[0]\n",
    "u1"
   ]
  },
  {
   "cell_type": "code",
   "execution_count": 12,
   "id": "e4562252",
   "metadata": {},
   "outputs": [
    {
     "data": {
      "image/png": "[encoded data removed]",
      "text/latex": [
       "$\\displaystyle \\operatorname{u_{2}}{\\left(x \\right)} = C_{3} + C_{4} x + \\frac{F x^{3}}{6 E I_{y} \\left(a + b\\right)} - \\frac{F x^{2}}{2 E I_{y}}$"
      ],
      "text/plain": [
       "                             3             2 \n",
       "                          F⋅x           F⋅x  \n",
       "u₂(x) = C₃ + C₄⋅x + ─────────────── - ───────\n",
       "                    6⋅E⋅I_y⋅(a + b)   2⋅E⋅I_y"
      ]
     },
     "execution_count": 12,
     "metadata": {},
     "output_type": "execute_result"
    }
   ],
   "source": [
    "u2 = sln[1]\n",
    "u2"
   ]
  },
  {
   "cell_type": "markdown",
   "id": "a2544049",
   "metadata": {},
   "source": [
    "Integrationskonstanten bestimmen mit Hilfe von Randbedingungen/Übergangsbedingungen bestimmen\n",
    "\n",
    "Randbedingungen:\n",
    "- $u_1(x=0) = 0$ -> muss umgestellt werden, so das Gleichung == 0 (ist bereits erfolgt)\n",
    "- $u_2(x=a+b) = 0$ -> muss umgestellt werden, so das Gleichung == 0 (ist bereits erfolgt)\n",
    "\n",
    "\n",
    "Übergangsbedingungen:\n",
    "- $u_1(x=a) = u_2(x=a)$ -> muss umgestellt werden, so das Gleichung == 0 ($u_1(x=a) - u_2(x=a) = 0$)\n",
    "- $u_1'(x=a) = u_2'(x=a)$ -> muss umgestellt werden, so das Gleichung == 0 ($u_1'(x=a) - u_2'(x=a) = 0$)\n",
    "\n",
    "\n"
   ]
  },
  {
   "cell_type": "code",
   "execution_count": 13,
   "id": "290c2f3a",
   "metadata": {},
   "outputs": [
    {
     "data": {
      "image/png": "[encoded data removed]",
      "text/latex": [
       "$\\displaystyle C_{1}$"
      ],
      "text/plain": [
       "C₁"
      ]
     },
     "metadata": {},
     "output_type": "display_data"
    },
    {
     "data": {
      "image/png": "[encoded data removed]",
      "text/latex": [
       "$\\displaystyle C_{3} + C_{4} a + C_{4} b - \\frac{F \\left(a + b\\right)^{2}}{3 E I_{y}}$"
      ],
      "text/plain": [
       "                            2\n",
       "                   F⋅(a + b) \n",
       "C₃ + C₄⋅a + C₄⋅b - ──────────\n",
       "                    3⋅E⋅I_y  "
      ]
     },
     "metadata": {},
     "output_type": "display_data"
    },
    {
     "data": {
      "image/png": "[encoded data removed]",
      "text/latex": [
       "$\\displaystyle C_{1} + C_{2} a - C_{3} - C_{4} a + \\frac{F a^{2}}{3 E I_{y}}$"
      ],
      "text/plain": [
       "                             2 \n",
       "                          F⋅a  \n",
       "C₁ + C₂⋅a - C₃ - C₄⋅a + ───────\n",
       "                        3⋅E⋅I_y"
      ]
     },
     "metadata": {},
     "output_type": "display_data"
    },
    {
     "data": {
      "image/png": "[encoded data removed]",
      "text/latex": [
       "$\\displaystyle C_{2} - C_{4} + \\frac{F a}{2 E I_{y}}$"
      ],
      "text/plain": [
       "            F⋅a  \n",
       "C₂ - C₄ + ───────\n",
       "          2⋅E⋅I_y"
      ]
     },
     "metadata": {},
     "output_type": "display_data"
    }
   ],
   "source": [
    "bed1 = simplify(u1.rhs.subs(x,0))\n",
    "bed2 = simplify(u2.rhs.subs(x,a+b))\n",
    "\n",
    "bed3 = simplify(u1.rhs.subs(x,a) - u2.rhs.subs(x,a))\n",
    "bed4 = simplify(u1.rhs.diff(x).subs(x,a) - u2.rhs.diff(x).subs(x,a))\n",
    "\n",
    "display(bed1)\n",
    "display(bed2)\n",
    "display(bed3)\n",
    "display(bed4)"
   ]
  },
  {
   "cell_type": "markdown",
   "id": "e2cd2447",
   "metadata": {},
   "source": [
    "Gleichungssystem lösen um Integrationskonstanten zu bestimmen"
   ]
  },
  {
   "cell_type": "markdown",
   "id": "f9c28328",
   "metadata": {},
   "source": [
    "`C = solve([bed1,bed2,bed3,bed4])` führt nicht zur Lösung (Grenzen von Sympy?)"
   ]
  },
  {
   "cell_type": "code",
   "execution_count": 15,
   "id": "eacfb773",
   "metadata": {},
   "outputs": [],
   "source": [
    "#C = solve([bed1,bed2,bed3,bed4])\n",
    "#C"
   ]
  },
  {
   "cell_type": "markdown",
   "id": "467e1b34",
   "metadata": {},
   "source": [
    "Ersetzt man z.B. b=2*a so kommt man auf eine Lösung:"
   ]
  },
  {
   "cell_type": "code",
   "execution_count": 16,
   "id": "480e3049",
   "metadata": {},
   "outputs": [
    {
     "data": {
      "image/png": "[encoded data removed]",
      "text/latex": [
       "$\\displaystyle \\left[ \\left\\{ C_{1} : 0, \\  C_{2} : \\frac{5 F a}{9 E I_{y}}, \\  C_{3} : - \\frac{F a^{2}}{6 E I_{y}}, \\  C_{4} : \\frac{19 F a}{18 E I_{y}}\\right\\}\\right]$"
      ],
      "text/plain": [
       "⎡⎧                             2               ⎫⎤\n",
       "⎢⎪            5⋅F⋅a        -F⋅a         19⋅F⋅a ⎪⎥\n",
       "⎢⎨C₁: 0, C₂: ───────, C₃: ───────, C₄: ────────⎬⎥\n",
       "⎢⎪           9⋅E⋅I_y      6⋅E⋅I_y      18⋅E⋅I_y⎪⎥\n",
       "⎣⎩                                             ⎭⎦"
      ]
     },
     "execution_count": 16,
     "metadata": {},
     "output_type": "execute_result"
    }
   ],
   "source": [
    "C = solve([bed1.subs(b,2*a),bed2.subs(b,2*a),bed3.subs(b,2*a),bed4.subs(b,2*a)])\n",
    "C"
   ]
  },
  {
   "cell_type": "markdown",
   "id": "09942851",
   "metadata": {},
   "source": [
    "Integrationskonstanten einsetzen"
   ]
  },
  {
   "cell_type": "code",
   "execution_count": 28,
   "id": "50d26907",
   "metadata": {},
   "outputs": [
    {
     "ename": "KeyError",
     "evalue": "0",
     "output_type": "error",
     "traceback": [
      "\u001b[1;31m---------------------------------------------------------------------------\u001b[0m",
      "\u001b[1;31mKeyError\u001b[0m                                  Traceback (most recent call last)",
      "\u001b[1;32m<ipython-input-28-810a6e569300>\u001b[0m in \u001b[0;36m<module>\u001b[1;34m\u001b[0m\n\u001b[1;32m----> 1\u001b[1;33m \u001b[0mu1\u001b[0m \u001b[1;33m=\u001b[0m \u001b[0mu1\u001b[0m\u001b[1;33m.\u001b[0m\u001b[0msubs\u001b[0m\u001b[1;33m(\u001b[0m\u001b[0mC\u001b[0m\u001b[1;33m)\u001b[0m\u001b[1;33m\u001b[0m\u001b[1;33m\u001b[0m\u001b[0m\n\u001b[0m\u001b[0;32m      2\u001b[0m \u001b[0mu1\u001b[0m\u001b[1;33m\u001b[0m\u001b[1;33m\u001b[0m\u001b[0m\n",
      "\u001b[1;32mC:\\ProgramData\\Anaconda3\\lib\\site-packages\\sympy\\core\\basic.py\u001b[0m in \u001b[0;36msubs\u001b[1;34m(self, *args, **kwargs)\u001b[0m\n\u001b[0;32m    896\u001b[0m         \u001b[0msequence\u001b[0m \u001b[1;33m=\u001b[0m \u001b[0mlist\u001b[0m\u001b[1;33m(\u001b[0m\u001b[0msequence\u001b[0m\u001b[1;33m)\u001b[0m\u001b[1;33m\u001b[0m\u001b[1;33m\u001b[0m\u001b[0m\n\u001b[0;32m    897\u001b[0m         \u001b[1;32mfor\u001b[0m \u001b[0mi\u001b[0m\u001b[1;33m,\u001b[0m \u001b[0ms\u001b[0m \u001b[1;32min\u001b[0m \u001b[0menumerate\u001b[0m\u001b[1;33m(\u001b[0m\u001b[0msequence\u001b[0m\u001b[1;33m)\u001b[0m\u001b[1;33m:\u001b[0m\u001b[1;33m\u001b[0m\u001b[1;33m\u001b[0m\u001b[0m\n\u001b[1;32m--> 898\u001b[1;33m             \u001b[1;32mif\u001b[0m \u001b[0misinstance\u001b[0m\u001b[1;33m(\u001b[0m\u001b[0ms\u001b[0m\u001b[1;33m[\u001b[0m\u001b[1;36m0\u001b[0m\u001b[1;33m]\u001b[0m\u001b[1;33m,\u001b[0m \u001b[0mstr\u001b[0m\u001b[1;33m)\u001b[0m\u001b[1;33m:\u001b[0m\u001b[1;33m\u001b[0m\u001b[1;33m\u001b[0m\u001b[0m\n\u001b[0m\u001b[0;32m    899\u001b[0m                 \u001b[1;31m# when old is a string we prefer Symbol\u001b[0m\u001b[1;33m\u001b[0m\u001b[1;33m\u001b[0m\u001b[1;33m\u001b[0m\u001b[0m\n\u001b[0;32m    900\u001b[0m                 \u001b[0ms\u001b[0m \u001b[1;33m=\u001b[0m \u001b[0mSymbol\u001b[0m\u001b[1;33m(\u001b[0m\u001b[0ms\u001b[0m\u001b[1;33m[\u001b[0m\u001b[1;36m0\u001b[0m\u001b[1;33m]\u001b[0m\u001b[1;33m)\u001b[0m\u001b[1;33m,\u001b[0m \u001b[0ms\u001b[0m\u001b[1;33m[\u001b[0m\u001b[1;36m1\u001b[0m\u001b[1;33m]\u001b[0m\u001b[1;33m\u001b[0m\u001b[1;33m\u001b[0m\u001b[0m\n",
      "\u001b[1;31mKeyError\u001b[0m: 0"
     ]
    }
   ],
   "source": [
    "u1 = u1.subs(C)\n",
    "u1"
   ]
  },
  {
   "cell_type": "code",
   "execution_count": 18,
   "id": "5b5abaf4",
   "metadata": {},
   "outputs": [
    {
     "ename": "KeyError",
     "evalue": "0",
     "output_type": "error",
     "traceback": [
      "\u001b[1;31m---------------------------------------------------------------------------\u001b[0m",
      "\u001b[1;31mKeyError\u001b[0m                                  Traceback (most recent call last)",
      "\u001b[1;32m<ipython-input-18-8830952f4c2f>\u001b[0m in \u001b[0;36m<module>\u001b[1;34m\u001b[0m\n\u001b[1;32m----> 1\u001b[1;33m \u001b[0mu2\u001b[0m \u001b[1;33m=\u001b[0m \u001b[0mu2\u001b[0m\u001b[1;33m.\u001b[0m\u001b[0msubs\u001b[0m\u001b[1;33m(\u001b[0m\u001b[0mC\u001b[0m\u001b[1;33m)\u001b[0m\u001b[1;33m\u001b[0m\u001b[1;33m\u001b[0m\u001b[0m\n\u001b[0m\u001b[0;32m      2\u001b[0m \u001b[0mu2\u001b[0m\u001b[1;33m\u001b[0m\u001b[1;33m\u001b[0m\u001b[0m\n",
      "\u001b[1;32mC:\\ProgramData\\Anaconda3\\lib\\site-packages\\sympy\\core\\basic.py\u001b[0m in \u001b[0;36msubs\u001b[1;34m(self, *args, **kwargs)\u001b[0m\n\u001b[0;32m    896\u001b[0m         \u001b[0msequence\u001b[0m \u001b[1;33m=\u001b[0m \u001b[0mlist\u001b[0m\u001b[1;33m(\u001b[0m\u001b[0msequence\u001b[0m\u001b[1;33m)\u001b[0m\u001b[1;33m\u001b[0m\u001b[1;33m\u001b[0m\u001b[0m\n\u001b[0;32m    897\u001b[0m         \u001b[1;32mfor\u001b[0m \u001b[0mi\u001b[0m\u001b[1;33m,\u001b[0m \u001b[0ms\u001b[0m \u001b[1;32min\u001b[0m \u001b[0menumerate\u001b[0m\u001b[1;33m(\u001b[0m\u001b[0msequence\u001b[0m\u001b[1;33m)\u001b[0m\u001b[1;33m:\u001b[0m\u001b[1;33m\u001b[0m\u001b[1;33m\u001b[0m\u001b[0m\n\u001b[1;32m--> 898\u001b[1;33m             \u001b[1;32mif\u001b[0m \u001b[0misinstance\u001b[0m\u001b[1;33m(\u001b[0m\u001b[0ms\u001b[0m\u001b[1;33m[\u001b[0m\u001b[1;36m0\u001b[0m\u001b[1;33m]\u001b[0m\u001b[1;33m,\u001b[0m \u001b[0mstr\u001b[0m\u001b[1;33m)\u001b[0m\u001b[1;33m:\u001b[0m\u001b[1;33m\u001b[0m\u001b[1;33m\u001b[0m\u001b[0m\n\u001b[0m\u001b[0;32m    899\u001b[0m                 \u001b[1;31m# when old is a string we prefer Symbol\u001b[0m\u001b[1;33m\u001b[0m\u001b[1;33m\u001b[0m\u001b[1;33m\u001b[0m\u001b[0m\n\u001b[0;32m    900\u001b[0m                 \u001b[0ms\u001b[0m \u001b[1;33m=\u001b[0m \u001b[0mSymbol\u001b[0m\u001b[1;33m(\u001b[0m\u001b[0ms\u001b[0m\u001b[1;33m[\u001b[0m\u001b[1;36m0\u001b[0m\u001b[1;33m]\u001b[0m\u001b[1;33m)\u001b[0m\u001b[1;33m,\u001b[0m \u001b[0ms\u001b[0m\u001b[1;33m[\u001b[0m\u001b[1;36m1\u001b[0m\u001b[1;33m]\u001b[0m\u001b[1;33m\u001b[0m\u001b[1;33m\u001b[0m\u001b[0m\n",
      "\u001b[1;31mKeyError\u001b[0m: 0"
     ]
    }
   ],
   "source": [
    "u2 = u2.subs(C)\n",
    "u2"
   ]
  },
  {
   "cell_type": "markdown",
   "id": "8c038976",
   "metadata": {},
   "source": [
    "Gleichung vereinfachen"
   ]
  },
  {
   "cell_type": "code",
   "execution_count": null,
   "id": "de996139",
   "metadata": {},
   "outputs": [],
   "source": [
    "u1.simplify()"
   ]
  },
  {
   "cell_type": "markdown",
   "id": "22639ec1",
   "metadata": {},
   "source": [
    "Daten einsetzen\n",
    "\n",
    "Will man die das Ergebnis grafisch darstellen, so muss man Werte einsetzen\n",
    "\n",
    "Beispieldaten: \n",
    "- $F=5N$\n",
    "- $L=10mm$\n",
    "- $E=210000MPa$\n",
    "- $I_y=1mm^4$\n",
    "\n",
    "Das Ergebnis ist dann in den Einheiten in denen die Beispieldaten gegeben sind (also hier in mm)"
   ]
  },
  {
   "cell_type": "code",
   "execution_count": null,
   "id": "2b482a63",
   "metadata": {},
   "outputs": [],
   "source": [
    "data=[(F,5),(L,10),(E,210e3),(Iy,1)]\n",
    "ux = Lambda(x, u.rhs.subs(data))\n",
    "ux"
   ]
  },
  {
   "cell_type": "markdown",
   "id": "5be25520",
   "metadata": {},
   "source": [
    "plotten"
   ]
  },
  {
   "cell_type": "code",
   "execution_count": null,
   "id": "a3fc79ab",
   "metadata": {},
   "outputs": [],
   "source": [
    "plot(ux(x),(x,0,L.subs(data)));"
   ]
  }
 ],
 "metadata": {
  "kernelspec": {
   "display_name": "Python 3",
   "language": "python",
   "name": "python3"
  },
  "language_info": {
   "codemirror_mode": {
    "name": "ipython",
    "version": 3
   },
   "file_extension": ".py",
   "mimetype": "text/x-python",
   "name": "python",
   "nbconvert_exporter": "python",
   "pygments_lexer": "ipython3",
   "version": "3.8.5"
  }
 },
 "nbformat": 4,
 "nbformat_minor": 5
}
