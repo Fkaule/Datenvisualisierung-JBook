{
 "cells": [
  {
   "cell_type": "markdown",
   "id": "4ebdbb15",
   "metadata": {},
   "source": [
    "# Übung Federsysteme"
   ]
  },
  {
   "cell_type": "markdown",
   "id": "d7e891c2",
   "metadata": {},
   "source": [
    "![](Uebung-Federsysteme.png)"
   ]
  },
  {
   "cell_type": "markdown",
   "id": "bf7a8296",
   "metadata": {},
   "source": [
    "**Gesucht:** <br>\n",
    "\n",
    "- Verschiebungen für $p_1$ und $p_2$\n",
    "- Federkräfte $N_1$ , $N_2$ und $N_3$\n",
    "\n",
    "**Gegeben:** <br>\n",
    "\n",
    "- $c_1=2k$ , $c_2=4k$ , $c_3=k$ , $f_1=3F$ , $f_2=-F$"
   ]
  },
  {
   "cell_type": "markdown",
   "id": "00fdeb88",
   "metadata": {},
   "source": [
    "## notwendige Python Bilbiotheken importieren / Funktionen definieren"
   ]
  },
  {
   "cell_type": "code",
   "execution_count": 1,
   "id": "cb80f6fb",
   "metadata": {},
   "outputs": [],
   "source": [
    "# Bibliotheken\n",
    "import numpy as np\n",
    "import array_to_latex as a2l # wenn nicht vorhanden: !pip install array_to_latex \n",
    "\n",
    "# Funktionen\n",
    "def pretty_print(variablename,array):\n",
    "    from IPython.display import Latex # laTeX Code als Output darstellen\n",
    "    # Anpassung ob Array oder nur ein Wert\n",
    "    if array.ndim > 1:\n",
    "        # Anpassung Ausgabeformat für Integer Werte\n",
    "        if np.issubdtype(array[0,0], int) == True:\n",
    "            format = '{:6.0f}'\n",
    "        else:\n",
    "            format = '{:6.2f}'\n",
    "        latex_code = a2l.to_ltx(array, frmt = format, arraytype = 'pmatrix', print_out=False)\n",
    "        print_str = \" \\\\begin{aligned} %s = %s \\\\end{aligned}\" % (variablename, latex_code)\n",
    "    else:       \n",
    "        print_str = \" \\\\begin{aligned} %s = %f \\\\end{aligned}\" % (variablename, array[0])\n",
    "    return display(Latex(print_str))"
   ]
  },
  {
   "cell_type": "markdown",
   "id": "d6b03af8",
   "metadata": {},
   "source": [
    "## Lösung ohne Verwendung von Listen (übersichtlicher)\n",
    "\n",
    "<div class=\"alert alert-block alert-info\">\n",
    "<b>Hinweis:</b> Da keine Listen verwendet werden ist  der Code übersichtlicher, jedoch sind Anpassungen aufwendiger. Weiter unten wird ein Lösungsweg mit der Verwendung von Listen aufgezeigt\n",
    "</div>\n"
   ]
  },
  {
   "cell_type": "code",
   "execution_count": 2,
   "id": "4476a50c",
   "metadata": {},
   "outputs": [],
   "source": [
    "# Bibliotheken\n",
    "\n",
    "import numpy as np\n",
    "import array_to_latex as a2l # wenn nicht vorhanden: !pip install array_to_latex \n",
    "\n",
    "#np.array in LaTex konvertieren und ausgeben\n",
    "def pretty_print(variablename,array):\n",
    "    from IPython.display import Latex # laTeX Code als Output darstellen\n",
    "    if array.ndim > 1:\n",
    "\n",
    "        # adjust print format if values are integer\n",
    "        if np.issubdtype(array[0,0], int) == True:\n",
    "            format = '{:6.0f}'\n",
    "        else:\n",
    "            format = '{:6.2f}'\n",
    "\n",
    "        latex_code = a2l.to_ltx(array, frmt = format, arraytype = 'pmatrix', print_out=False)\n",
    "        print_str = \" \\\\begin{aligned} %s = %s \\\\end{aligned}\" % (variablename, latex_code)\n",
    "    else:       \n",
    "        print_str = \" \\\\begin{aligned} %s = %f \\\\end{aligned}\" % (variablename, array[0])\n",
    "    return display(Latex(print_str))\n"
   ]
  },
  {
   "cell_type": "markdown",
   "id": "cac13e0d",
   "metadata": {},
   "source": [
    "### Steifigkeitsmatritzen (Elemente)\n",
    "\n",
    "$K^e$ = $\\left(\\begin{array}{rrr} \n",
    "c^e & -c^e \\\\ \n",
    "-c^e & c^e \\\\ \n",
    "\\end{array}\\right)$\n",
    "\n",
    "<div class=\"alert alert-block alert-info\">\n",
    "<b>Hinweis:</b> Da wir numerisch rechnen, setzen wir k=1\n",
    "</div>"
   ]
  },
  {
   "cell_type": "code",
   "execution_count": 3,
   "id": "231b9d04",
   "metadata": {},
   "outputs": [
    {
     "data": {
      "text/latex": [
       " \\begin{aligned} Ke_1 = \\begin{pmatrix}\n",
       "       2  &     -2 \\\\\n",
       "     -2  &       2 \n",
       "\\end{pmatrix} \\end{aligned}"
      ],
      "text/plain": [
       "<IPython.core.display.Latex object>"
      ]
     },
     "metadata": {},
     "output_type": "display_data"
    },
    {
     "data": {
      "text/latex": [
       " \\begin{aligned} Ke_2 = \\begin{pmatrix}\n",
       "       4  &     -4 \\\\\n",
       "     -4  &       4 \n",
       "\\end{pmatrix} \\end{aligned}"
      ],
      "text/plain": [
       "<IPython.core.display.Latex object>"
      ]
     },
     "metadata": {},
     "output_type": "display_data"
    },
    {
     "data": {
      "text/latex": [
       " \\begin{aligned} Ke_3 = \\begin{pmatrix}\n",
       "       1  &     -1 \\\\\n",
       "     -1  &       1 \n",
       "\\end{pmatrix} \\end{aligned}"
      ],
      "text/plain": [
       "<IPython.core.display.Latex object>"
      ]
     },
     "metadata": {},
     "output_type": "display_data"
    }
   ],
   "source": [
    "#gegeben\n",
    "c1=2\n",
    "c2=4\n",
    "c3=1 \n",
    "Ke_1 = np.array([[1, -1], [-1, 1]]) * c1\n",
    "Ke_2 = np.array([[1, -1], [-1, 1]]) * c2\n",
    "Ke_3 = np.array([[1, -1], [-1, 1]]) * c3\n",
    "\n",
    "#Ausgabe zur optischen Kontrolle\n",
    "pretty_print(\"Ke_1\",Ke_1)\n",
    "pretty_print(\"Ke_2\",Ke_2)\n",
    "pretty_print(\"Ke_3\",Ke_3)"
   ]
  },
  {
   "cell_type": "markdown",
   "id": "bae550c0",
   "metadata": {},
   "source": [
    "### Freiheitsgrade (System)\n",
    "\n",
    "$q_{sys}$ = $\\left(\\begin{array}{rrr} \n",
    "q_1 \\\\ \n",
    "q_2 \\\\ \n",
    "\\end{array}\\right)$\n",
    "\n",
    "<div class=\"alert alert-block alert-info\">\n",
    "<b>Hinweis:</b> Da wir numerisch rechnen, setzen wir F=1\n",
    "</div>"
   ]
  },
  {
   "cell_type": "code",
   "execution_count": 4,
   "id": "09e10d80",
   "metadata": {},
   "outputs": [
    {
     "data": {
      "text/latex": [
       " \\begin{aligned} q_{sys} = \\begin{pmatrix}\n",
       "       3 \\\\\n",
       "     -1 \n",
       "\\end{pmatrix} \\end{aligned}"
      ],
      "text/plain": [
       "<IPython.core.display.Latex object>"
      ]
     },
     "metadata": {},
     "output_type": "display_data"
    }
   ],
   "source": [
    "#Lastvektor\n",
    "q_sys = np.array([[3], [-1]])\n",
    "\n",
    "#Ausgabe zur optischen Kontrolle\n",
    "pretty_print(\"q_{sys}\",q_sys)"
   ]
  },
  {
   "cell_type": "markdown",
   "id": "84c74d73",
   "metadata": {},
   "source": [
    "### Inzidenzmatritzen (Elemente)\n",
    "\n",
    "![](Inzidenzmatritzen.png)"
   ]
  },
  {
   "cell_type": "code",
   "execution_count": 5,
   "id": "777ad093",
   "metadata": {},
   "outputs": [
    {
     "data": {
      "text/latex": [
       " \\begin{aligned} \\Lambda_1 = \\begin{pmatrix}\n",
       "       0  &       1 \\\\\n",
       "       0  &       0 \n",
       "\\end{pmatrix} \\end{aligned}"
      ],
      "text/plain": [
       "<IPython.core.display.Latex object>"
      ]
     },
     "metadata": {},
     "output_type": "display_data"
    },
    {
     "data": {
      "text/latex": [
       " \\begin{aligned} \\Lambda_2 = \\begin{pmatrix}\n",
       "       1  &       0 \\\\\n",
       "       0  &       1 \n",
       "\\end{pmatrix} \\end{aligned}"
      ],
      "text/plain": [
       "<IPython.core.display.Latex object>"
      ]
     },
     "metadata": {},
     "output_type": "display_data"
    },
    {
     "data": {
      "text/latex": [
       " \\begin{aligned} \\Lambda_3 = \\begin{pmatrix}\n",
       "       1  &       0 \\\\\n",
       "       0  &       0 \n",
       "\\end{pmatrix} \\end{aligned}"
      ],
      "text/plain": [
       "<IPython.core.display.Latex object>"
      ]
     },
     "metadata": {},
     "output_type": "display_data"
    }
   ],
   "source": [
    "inz_1=np.array([[0, 1], [0, 0]]) #Lambda_1\n",
    "inz_2=np.array([[1, 0], [0, 1]]) #Lambda_2\n",
    "inz_3=np.array([[1, 0], [0, 0]]) #Lambda_3\n",
    "\n",
    "#Ausgabe zur optischen Kontrolle\n",
    "pretty_print(\"\\Lambda_1\",inz_1)\n",
    "pretty_print(\"\\Lambda_2\",inz_2)\n",
    "pretty_print(\"\\Lambda_3\",inz_3)"
   ]
  },
  {
   "cell_type": "markdown",
   "id": "51fefbb0",
   "metadata": {},
   "source": [
    "### Steifigkeitsmatrix (System)\n",
    "\n",
    "$ K_{sys} = \\sum_{e=1}^3 {\\Lambda^e}^T {K^e} {\\Lambda^e} $"
   ]
  },
  {
   "cell_type": "code",
   "execution_count": 6,
   "id": "b52a4d18",
   "metadata": {},
   "outputs": [
    {
     "data": {
      "text/latex": [
       " \\begin{aligned} K_{sys} = \\begin{pmatrix}\n",
       "       5  &     -4 \\\\\n",
       "     -4  &       6 \n",
       "\\end{pmatrix} \\end{aligned}"
      ],
      "text/plain": [
       "<IPython.core.display.Latex object>"
      ]
     },
     "metadata": {},
     "output_type": "display_data"
    }
   ],
   "source": [
    "Ksyspart_1 = np.matmul(np.matmul(np.transpose(inz_1),Ke_1),inz_1)\n",
    "Ksyspart_2 = np.matmul(np.matmul(np.transpose(inz_2),Ke_2),inz_2)\n",
    "Ksyspart_3 = np.matmul(np.matmul(np.transpose(inz_3),Ke_3),inz_3)\n",
    "\n",
    "K_sys= Ksyspart_1 + Ksyspart_2 + Ksyspart_3\n",
    "#Ausgabe zur optischen Kontrolle\n",
    "pretty_print(\"K_{sys}\",K_sys)"
   ]
  },
  {
   "cell_type": "markdown",
   "id": "7f427bc1",
   "metadata": {},
   "source": [
    "### Freiheitsgrade (System)\n",
    "\n",
    "lösen von $p_{sys}$ : <br>\n",
    "$K_{sys} p_{sys} = q_{sys}$"
   ]
  },
  {
   "cell_type": "code",
   "execution_count": 7,
   "id": "6be65315",
   "metadata": {},
   "outputs": [
    {
     "data": {
      "text/latex": [
       " \\begin{aligned} p_{sys} = \\begin{pmatrix}\n",
       "    1.00\\\\\n",
       "    0.50\n",
       "\\end{pmatrix} \\end{aligned}"
      ],
      "text/plain": [
       "<IPython.core.display.Latex object>"
      ]
     },
     "metadata": {},
     "output_type": "display_data"
    },
    {
     "name": "stdout",
     "output_type": "stream",
     "text": [
      "Lösung:\n"
     ]
    },
    {
     "data": {
      "text/latex": [
       " \\begin{aligned} p_{1} = 1.000000 \\end{aligned}"
      ],
      "text/plain": [
       "<IPython.core.display.Latex object>"
      ]
     },
     "metadata": {},
     "output_type": "display_data"
    },
    {
     "data": {
      "text/latex": [
       " \\begin{aligned} p_{2} = 0.500000 \\end{aligned}"
      ],
      "text/plain": [
       "<IPython.core.display.Latex object>"
      ]
     },
     "metadata": {},
     "output_type": "display_data"
    }
   ],
   "source": [
    "p_sys = np.linalg.solve(K_sys, q_sys)\n",
    "pretty_print(\"p_{sys}\",p_sys)\n",
    "\n",
    "#Ausgabe der Lösung\n",
    "print(\"Lösung:\")\n",
    "pretty_print(\"p_{1}\",p_sys[0])\n",
    "pretty_print(\"p_{2}\",p_sys[1])"
   ]
  },
  {
   "cell_type": "markdown",
   "id": "318da67f",
   "metadata": {},
   "source": [
    "### Freiheitsgrade (Elemente)"
   ]
  },
  {
   "cell_type": "code",
   "execution_count": 8,
   "id": "5bfa0f01",
   "metadata": {},
   "outputs": [
    {
     "data": {
      "text/latex": [
       " \\begin{aligned} pe_{1} = \\begin{pmatrix}\n",
       "    0.50\\\\\n",
       "    0.00\n",
       "\\end{pmatrix} \\end{aligned}"
      ],
      "text/plain": [
       "<IPython.core.display.Latex object>"
      ]
     },
     "metadata": {},
     "output_type": "display_data"
    },
    {
     "data": {
      "text/latex": [
       " \\begin{aligned} pe_{2} = \\begin{pmatrix}\n",
       "    1.00\\\\\n",
       "    0.50\n",
       "\\end{pmatrix} \\end{aligned}"
      ],
      "text/plain": [
       "<IPython.core.display.Latex object>"
      ]
     },
     "metadata": {},
     "output_type": "display_data"
    },
    {
     "data": {
      "text/latex": [
       " \\begin{aligned} pe_{3} = \\begin{pmatrix}\n",
       "    1.00\\\\\n",
       "    0.00\n",
       "\\end{pmatrix} \\end{aligned}"
      ],
      "text/plain": [
       "<IPython.core.display.Latex object>"
      ]
     },
     "metadata": {},
     "output_type": "display_data"
    }
   ],
   "source": [
    "pe_1=np.matmul(inz_1,p_sys)\n",
    "pe_2=np.matmul(inz_2,p_sys)\n",
    "pe_3=np.matmul(inz_3,p_sys)\n",
    "\n",
    "#Ausgabe zur optischen Kontrolle\n",
    "pretty_print(\"pe_{1}\",pe_1)\n",
    "pretty_print(\"pe_{2}\",pe_2)\n",
    "pretty_print(\"pe_{3}\",pe_3)"
   ]
  },
  {
   "cell_type": "markdown",
   "id": "abbe7191",
   "metadata": {},
   "source": [
    "### Federkräfte (Elemente)"
   ]
  },
  {
   "cell_type": "code",
   "execution_count": 9,
   "id": "f390c841",
   "metadata": {},
   "outputs": [
    {
     "name": "stdout",
     "output_type": "stream",
     "text": [
      "Lösung:\n"
     ]
    },
    {
     "data": {
      "text/latex": [
       " \\begin{aligned} N_{1} = 1.000000 \\end{aligned}"
      ],
      "text/plain": [
       "<IPython.core.display.Latex object>"
      ]
     },
     "metadata": {},
     "output_type": "display_data"
    },
    {
     "data": {
      "text/latex": [
       " \\begin{aligned} N_{2} = 2.000000 \\end{aligned}"
      ],
      "text/plain": [
       "<IPython.core.display.Latex object>"
      ]
     },
     "metadata": {},
     "output_type": "display_data"
    },
    {
     "data": {
      "text/latex": [
       " \\begin{aligned} N_{3} = 1.000000 \\end{aligned}"
      ],
      "text/plain": [
       "<IPython.core.display.Latex object>"
      ]
     },
     "metadata": {},
     "output_type": "display_data"
    }
   ],
   "source": [
    "Ne_1 = c1*(pe_1[0]-pe_1[1])\n",
    "Ne_2 = c2*(pe_2[0]-pe_2[1])\n",
    "Ne_3 = c3*(pe_3[0]-pe_3[1])\n",
    "\n",
    "#Ausgabe der Lösung\n",
    "print(\"Lösung:\")\n",
    "pretty_print(\"N_{1}\",Ne_1)\n",
    "pretty_print(\"N_{2}\",Ne_2)\n",
    "pretty_print(\"N_{3}\",Ne_3)"
   ]
  },
  {
   "cell_type": "markdown",
   "id": "131bd896",
   "metadata": {},
   "source": [
    "## Lösung mit der Verwendung von Listen (Fortgeschritten)\n",
    "\n",
    "<div class=\"alert alert-block alert-info\">\n",
    "<b>Hinweis:</b> Die Verwendung von Listen sieht kompliziert aus, vereinfacht aber die Eingabe, weil weniger geändert werden muss\n",
    "</div>\n"
   ]
  },
  {
   "cell_type": "markdown",
   "id": "9fc73dc0",
   "metadata": {},
   "source": [
    "### Steifigkeitsmatritzen (Elemente)\n",
    "\n",
    "$Ke_i$ = $\\left(\\begin{array}{rrr} \n",
    "c_i & -c_i \\\\ \n",
    "-c_i & c_i \\\\ \n",
    "\\end{array}\\right)$\n",
    "\n",
    "<div class=\"alert alert-block alert-info\">\n",
    "<b>Hinweis:</b> Da wir numerisch rechnen, setzen wir k=1\n",
    "</div>"
   ]
  },
  {
   "cell_type": "code",
   "execution_count": 10,
   "id": "30233237",
   "metadata": {},
   "outputs": [
    {
     "data": {
      "text/latex": [
       " \\begin{aligned} Ke_1 = \\begin{pmatrix}\n",
       "       2  &     -2 \\\\\n",
       "     -2  &       2 \n",
       "\\end{pmatrix} \\end{aligned}"
      ],
      "text/plain": [
       "<IPython.core.display.Latex object>"
      ]
     },
     "metadata": {},
     "output_type": "display_data"
    },
    {
     "data": {
      "text/latex": [
       " \\begin{aligned} Ke_2 = \\begin{pmatrix}\n",
       "       4  &     -4 \\\\\n",
       "     -4  &       4 \n",
       "\\end{pmatrix} \\end{aligned}"
      ],
      "text/plain": [
       "<IPython.core.display.Latex object>"
      ]
     },
     "metadata": {},
     "output_type": "display_data"
    },
    {
     "data": {
      "text/latex": [
       " \\begin{aligned} Ke_3 = \\begin{pmatrix}\n",
       "       1  &     -1 \\\\\n",
       "     -1  &       1 \n",
       "\\end{pmatrix} \\end{aligned}"
      ],
      "text/plain": [
       "<IPython.core.display.Latex object>"
      ]
     },
     "metadata": {},
     "output_type": "display_data"
    }
   ],
   "source": [
    "#gegeben\n",
    "c_list = [2,4,1] #k\n",
    "\n",
    "Ke = [] # leere Liste anlegen\n",
    "i=0 # Laufvariable\n",
    "# Schleife mit allen Einträgen in c_list\n",
    "for c in c_list:\n",
    "    i+=1 # Laufvariable + 1\n",
    "    Ke_i=np.array([[1, -1], [-1, 1]])*c\n",
    "    Ke.append(Ke_i)\n",
    "    #Ausgabe zur optischen Kontrolle\n",
    "    pretty_print(f\"Ke_{i}\",Ke_i)"
   ]
  },
  {
   "cell_type": "markdown",
   "id": "2dca21a2",
   "metadata": {},
   "source": [
    "### Freiheitsgrade (System)\n",
    "\n",
    "$q_{sys}$ = $\\left(\\begin{array}{rrr} \n",
    "q_1 \\\\ \n",
    "q_2 \\\\ \n",
    "\\end{array}\\right)$\n",
    "\n",
    "<div class=\"alert alert-block alert-info\">\n",
    "<b>Hinweis:</b> Da wir numerisch rechnen, setzen wir F=1\n",
    "</div>"
   ]
  },
  {
   "cell_type": "code",
   "execution_count": 11,
   "id": "b2765f84",
   "metadata": {},
   "outputs": [
    {
     "data": {
      "text/latex": [
       " \\begin{aligned} q_{sys} = \\begin{pmatrix}\n",
       "       3 \\\\\n",
       "     -1 \n",
       "\\end{pmatrix} \\end{aligned}"
      ],
      "text/plain": [
       "<IPython.core.display.Latex object>"
      ]
     },
     "metadata": {},
     "output_type": "display_data"
    }
   ],
   "source": [
    "# Lastvektor\n",
    "q_sys = np.array([[3], [-1]])\n",
    "\n",
    "#Ausgabe zur optischen Kontrolle\n",
    "pretty_print(\"q_{sys}\",q_sys)"
   ]
  },
  {
   "cell_type": "markdown",
   "id": "ca2ae079",
   "metadata": {},
   "source": [
    "### Inzidenzmatritzen (Elemente)\n",
    "\n",
    "![](Inzidenzmatritzen.png)"
   ]
  },
  {
   "cell_type": "code",
   "execution_count": 12,
   "id": "2f04ad80",
   "metadata": {},
   "outputs": [
    {
     "data": {
      "text/latex": [
       " \\begin{aligned} \\Lambda_1 = \\begin{pmatrix}\n",
       "       0  &       1 \\\\\n",
       "       0  &       0 \n",
       "\\end{pmatrix} \\end{aligned}"
      ],
      "text/plain": [
       "<IPython.core.display.Latex object>"
      ]
     },
     "metadata": {},
     "output_type": "display_data"
    },
    {
     "data": {
      "text/latex": [
       " \\begin{aligned} \\Lambda_2 = \\begin{pmatrix}\n",
       "       1  &       0 \\\\\n",
       "       0  &       1 \n",
       "\\end{pmatrix} \\end{aligned}"
      ],
      "text/plain": [
       "<IPython.core.display.Latex object>"
      ]
     },
     "metadata": {},
     "output_type": "display_data"
    },
    {
     "data": {
      "text/latex": [
       " \\begin{aligned} \\Lambda_3 = \\begin{pmatrix}\n",
       "       1  &       0 \\\\\n",
       "       0  &       0 \n",
       "\\end{pmatrix} \\end{aligned}"
      ],
      "text/plain": [
       "<IPython.core.display.Latex object>"
      ]
     },
     "metadata": {},
     "output_type": "display_data"
    }
   ],
   "source": [
    "inz=[] # leere Liste anlegen\n",
    "inz.append(np.array([[0, 1], [0, 0]])) #Lambda_1\n",
    "inz.append(np.array([[1, 0], [0, 1]])) #Lambda_2\n",
    "inz.append(np.array([[1, 0], [0, 0]])) #Lambda_3\n",
    "\n",
    "#Ausgabe zur optischen Kontrolle\n",
    "i=0\n",
    "for inz_i in inz: i+=1;pretty_print(f\"\\Lambda_{i}\",inz_i)"
   ]
  },
  {
   "cell_type": "markdown",
   "id": "d5b2f7a4",
   "metadata": {},
   "source": [
    "### Steifigkeitsmatrix (System)\n",
    "\n",
    "$ K_{sys} = \\sum_{e=1}^3 {\\Lambda^e}^T {K^e} {\\Lambda^e} $"
   ]
  },
  {
   "cell_type": "code",
   "execution_count": 13,
   "id": "b5ace456",
   "metadata": {},
   "outputs": [
    {
     "data": {
      "text/latex": [
       " \\begin{aligned} K_{sys} = \\begin{pmatrix}\n",
       "       5  &     -4 \\\\\n",
       "     -4  &       6 \n",
       "\\end{pmatrix} \\end{aligned}"
      ],
      "text/plain": [
       "<IPython.core.display.Latex object>"
      ]
     },
     "metadata": {},
     "output_type": "display_data"
    }
   ],
   "source": [
    "K_i=[] # leere Liste anlegen\n",
    "\n",
    "# Schleife über alle Elemente (Anzahl Einträge von inz)\n",
    "for i in range(len(inz)):\n",
    "    K_i.append(np.matmul(np.matmul(np.transpose(inz[i]),Ke[i]),inz[i]))\n",
    "\n",
    "K_sys=np.sum(K_i, axis=0)\n",
    "\n",
    "#Ausgabe zur optischen Kontrolle\n",
    "pretty_print(\"K_{sys}\",K_sys)"
   ]
  },
  {
   "cell_type": "markdown",
   "id": "d334e272",
   "metadata": {},
   "source": [
    "### Freiheitsgrade (System)\n",
    "\n",
    "lösen von $p_{sys}$ : <br>\n",
    "$K_{sys} p_{sys} = q_{sys}$"
   ]
  },
  {
   "cell_type": "code",
   "execution_count": 14,
   "id": "f2c0b6b4",
   "metadata": {},
   "outputs": [
    {
     "data": {
      "text/latex": [
       " \\begin{aligned} p_{sys} = \\begin{pmatrix}\n",
       "    1.00\\\\\n",
       "    0.50\n",
       "\\end{pmatrix} \\end{aligned}"
      ],
      "text/plain": [
       "<IPython.core.display.Latex object>"
      ]
     },
     "metadata": {},
     "output_type": "display_data"
    },
    {
     "name": "stdout",
     "output_type": "stream",
     "text": [
      "Lösung:\n"
     ]
    },
    {
     "data": {
      "text/latex": [
       " \\begin{aligned} p_1 = 1.000000 \\end{aligned}"
      ],
      "text/plain": [
       "<IPython.core.display.Latex object>"
      ]
     },
     "metadata": {},
     "output_type": "display_data"
    },
    {
     "data": {
      "text/latex": [
       " \\begin{aligned} p_2 = 0.500000 \\end{aligned}"
      ],
      "text/plain": [
       "<IPython.core.display.Latex object>"
      ]
     },
     "metadata": {},
     "output_type": "display_data"
    }
   ],
   "source": [
    "p_sys = np.linalg.solve(K_sys, q_sys)\n",
    "pretty_print(\"p_{sys}\",p_sys)\n",
    "\n",
    "#Ausgabe der Lösung\n",
    "print(\"Lösung:\")\n",
    "i=0\n",
    "for p_sys_i in p_sys: i+=1;pretty_print(f\"p_{i}\",p_sys_i)"
   ]
  },
  {
   "cell_type": "markdown",
   "id": "279419eb",
   "metadata": {},
   "source": [
    "### Freiheitsgrade (Elemente)"
   ]
  },
  {
   "cell_type": "code",
   "execution_count": 15,
   "id": "0ecb684e",
   "metadata": {},
   "outputs": [
    {
     "data": {
      "text/latex": [
       " \\begin{aligned} pe_1 = \\begin{pmatrix}\n",
       "    0.50\\\\\n",
       "    0.00\n",
       "\\end{pmatrix} \\end{aligned}"
      ],
      "text/plain": [
       "<IPython.core.display.Latex object>"
      ]
     },
     "metadata": {},
     "output_type": "display_data"
    },
    {
     "data": {
      "text/latex": [
       " \\begin{aligned} pe_2 = \\begin{pmatrix}\n",
       "    1.00\\\\\n",
       "    0.50\n",
       "\\end{pmatrix} \\end{aligned}"
      ],
      "text/plain": [
       "<IPython.core.display.Latex object>"
      ]
     },
     "metadata": {},
     "output_type": "display_data"
    },
    {
     "data": {
      "text/latex": [
       " \\begin{aligned} pe_3 = \\begin{pmatrix}\n",
       "    1.00\\\\\n",
       "    0.00\n",
       "\\end{pmatrix} \\end{aligned}"
      ],
      "text/plain": [
       "<IPython.core.display.Latex object>"
      ]
     },
     "metadata": {},
     "output_type": "display_data"
    }
   ],
   "source": [
    "pe = [] # leere Liste anlegen\n",
    "# Schleife über alle Elemente (Anzahl Einträge von c_list)\n",
    "for i in range(len(c_list)):\n",
    "    pe_i=np.matmul(inz[i],p_sys)\n",
    "    pe.append(pe_i)\n",
    "    #Ausgabe zur optischen Kontrolle\n",
    "    pretty_print(f\"pe_{i+1}\",pe_i)"
   ]
  },
  {
   "cell_type": "markdown",
   "id": "3d7446d6",
   "metadata": {},
   "source": [
    "### Federkräfte (Elemente)"
   ]
  },
  {
   "cell_type": "code",
   "execution_count": 16,
   "id": "d75a3171",
   "metadata": {},
   "outputs": [
    {
     "name": "stdout",
     "output_type": "stream",
     "text": [
      "Lösung:\n"
     ]
    },
    {
     "data": {
      "text/latex": [
       " \\begin{aligned} N_1 = 1.000000 \\end{aligned}"
      ],
      "text/plain": [
       "<IPython.core.display.Latex object>"
      ]
     },
     "metadata": {},
     "output_type": "display_data"
    },
    {
     "data": {
      "text/latex": [
       " \\begin{aligned} N_2 = 2.000000 \\end{aligned}"
      ],
      "text/plain": [
       "<IPython.core.display.Latex object>"
      ]
     },
     "metadata": {},
     "output_type": "display_data"
    },
    {
     "data": {
      "text/latex": [
       " \\begin{aligned} N_3 = 1.000000 \\end{aligned}"
      ],
      "text/plain": [
       "<IPython.core.display.Latex object>"
      ]
     },
     "metadata": {},
     "output_type": "display_data"
    }
   ],
   "source": [
    "Ne = [] # leere Liste anlegen\n",
    "i=0 # Laufvariable\n",
    "# Schleife mit allen Einträgen in c_list\n",
    "print(\"Lösung:\")\n",
    "for c in c_list:\n",
    "    i+=1 # Laufvariable + 1\n",
    "    Ne_i=c*(pe[i-1][0]-pe[i-1][1]) # ersten Listenindex = 0 (deswegen) i-1)\n",
    "    Ne.append(Ne_i)\n",
    "    #Ausgabe der Lösung\n",
    "    pretty_print(f\"N_{i}\",Ne_i)"
   ]
  }
 ],
 "metadata": {
  "kernelspec": {
   "display_name": "Python 3",
   "language": "python",
   "name": "python3"
  },
  "language_info": {
   "codemirror_mode": {
    "name": "ipython",
    "version": 3
   },
   "file_extension": ".py",
   "mimetype": "text/x-python",
   "name": "python",
   "nbconvert_exporter": "python",
   "pygments_lexer": "ipython3",
   "version": "3.8.5"
  },
  "toc-autonumbering": true
 },
 "nbformat": 4,
 "nbformat_minor": 5
}
