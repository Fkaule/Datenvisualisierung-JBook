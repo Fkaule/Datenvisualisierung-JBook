{
 "cells": [
  {
   "cell_type": "code",
   "execution_count": 1,
   "metadata": {},
   "outputs": [],
   "source": [
    "import pandas as pd\n",
    "import numpy as np\n",
    "from sympy import *\n",
    "import math\n",
    "from matplotlib import pyplot as plt\n",
    "from sympy import init_printing\n",
    "init_printing() "
   ]
  },
  {
   "cell_type": "markdown",
   "metadata": {},
   "source": [
    "# Normalkraftstab unter Eigenlast\n",
    "## Aufgabenstellung\n",
    "Gegeben ist ein hängender Normalkraftstab mit zylindrischem Querschnitt unter Eigenlast.\n"
   ]
  },
  {
   "cell_type": "markdown",
   "metadata": {},
   "source": [
    "![](Aufgabenstellung.png)"
   ]
  },
  {
   "cell_type": "markdown",
   "metadata": {},
   "source": [
    "a)\n",
    "Zunächst verschaffen wir uns die exakte Lösung für das dargestellte Normalkraftproblem mit konstanter Dehnsteifigkeit und linear anwachsender Linienlast:\n",
    "\n",
    "1) Lösen Sie die Differentialgleichung des Normalkraftstabes $(EA u(x)')'=-q_x(x)$ \n",
    "mit den Randbedingungen \n",
    "$u(0)=0$ und\n",
    "$u'(L)=0$.\n",
    "\n",
    "2) Stellen Sie den Verlauf von $u(x)$ grafisch dar mit dem \"Plot[]\" Befehl.\n",
    "\n",
    "3) Ermitteln Sie die Normalkraft $N(x)$ (über $N(x)= E A u'(x))$  sowie den Spannungsverlauf $\\sigma(x)$ und stellen den Verlauf üben den Stab dar.\n",
    "\n",
    "b)\n",
    "Modellieren Sie das Problem in ANSYS und berechnen Sie ebenso den\n",
    "Verschiebungsverlauf $u(x)$ und\n",
    "Spannungsverlauf $\\sigma(x)$.\n",
    "Vergleichen Sie die Maximalwerte und Verläufe mit den exakten Lösungen.  Variieren Sie die Elementanzahl im Modell.\n",
    "\n",
    "Geg.:\\\n",
    "$g=9,81\\,$m/s^2\\\n",
    "$\\rho=7850\\,$kg/m^3\\\n",
    "$E=200.000\\,$GPa\\\n",
    "$A=2500\\pi$\\\n",
    "$L=500\\,$mm"
   ]
  },
  {
   "cell_type": "markdown",
   "metadata": {},
   "source": [
    "### Lösung a)"
   ]
  },
  {
   "cell_type": "code",
   "execution_count": 2,
   "metadata": {},
   "outputs": [],
   "source": [
    "x,g,Em,rho,A,L =symbols('x g Em rho A L')"
   ]
  },
  {
   "cell_type": "code",
   "execution_count": 3,
   "metadata": {},
   "outputs": [],
   "source": [
    "data=[(A,50**2*pi),(L,500),(rho,7.85*10**(-6)),(Em,200000),(g,9.81)]"
   ]
  },
  {
   "cell_type": "code",
   "execution_count": 4,
   "metadata": {},
   "outputs": [],
   "source": [
    "u=symbols('u',cls=Function)"
   ]
  },
  {
   "cell_type": "code",
   "execution_count": 5,
   "metadata": {},
   "outputs": [
    {
     "data": {
      "image/png": "[encoded data removed]",
      "text/latex": [
       "$\\displaystyle A Em \\frac{d^{2}}{d x^{2}} u{\\left(x \\right)} = - A g \\rho$"
      ],
      "text/plain": [
       "       2               \n",
       "      d                \n",
       "A⋅Em⋅───(u(x)) = -A⋅g⋅ρ\n",
       "       2               \n",
       "     dx                "
      ]
     },
     "execution_count": 5,
     "metadata": {},
     "output_type": "execute_result"
    }
   ],
   "source": [
    "dglg=Eq(Em*A*u(x).diff(x,2),-A*g*rho)\n",
    "dglg"
   ]
  },
  {
   "cell_type": "code",
   "execution_count": 6,
   "metadata": {},
   "outputs": [
    {
     "data": {
      "image/png": "[encoded data removed]",
      "text/latex": [
       "$\\displaystyle u{\\left(0 \\right)} = 0$"
      ],
      "text/plain": [
       "u(0) = 0"
      ]
     },
     "execution_count": 6,
     "metadata": {},
     "output_type": "execute_result"
    }
   ],
   "source": [
    "rb1=Eq(u(0),0)\n",
    "rb1"
   ]
  },
  {
   "cell_type": "code",
   "execution_count": 7,
   "metadata": {},
   "outputs": [],
   "source": [
    "du=u(x).diff(x)"
   ]
  },
  {
   "cell_type": "code",
   "execution_count": 8,
   "metadata": {},
   "outputs": [
    {
     "data": {
      "image/png": "[encoded data removed]",
      "text/latex": [
       "$\\displaystyle u{\\left(x \\right)} = C_{1} + \\frac{x \\left(C_{2} Em - \\frac{g \\rho x}{2}\\right)}{Em}$"
      ],
      "text/plain": [
       "              ⎛        g⋅ρ⋅x⎞\n",
       "            x⋅⎜C₂⋅Em - ─────⎟\n",
       "              ⎝          2  ⎠\n",
       "u(x) = C₁ + ─────────────────\n",
       "                    Em       "
      ]
     },
     "execution_count": 8,
     "metadata": {},
     "output_type": "execute_result"
    }
   ],
   "source": [
    "u=dsolve(dglg,u(x))\n",
    "u"
   ]
  },
  {
   "cell_type": "markdown",
   "metadata": {},
   "source": [
    "Die Konstanten können über die Randbedingungen mit `solve` bestimmt werden"
   ]
  },
  {
   "cell_type": "code",
   "execution_count": 9,
   "metadata": {},
   "outputs": [
    {
     "data": {
      "image/png": "[encoded data removed]",
      "text/latex": [
       "$\\displaystyle \\left\\{ C_{1} : 0, \\  C_{2} : \\frac{L g \\rho}{Em}\\right\\}$"
      ],
      "text/plain": [
       "⎧           L⋅g⋅ρ⎫\n",
       "⎨C₁: 0, C₂: ─────⎬\n",
       "⎩             Em ⎭"
      ]
     },
     "execution_count": 9,
     "metadata": {},
     "output_type": "execute_result"
    }
   ],
   "source": [
    "bed1 = u.rhs.subs(x,0) - 0\n",
    "bed2 = u.rhs.diff(x).subs(x,L) - 0\n",
    "C = solve([bed1,bed2])\n",
    "C"
   ]
  },
  {
   "cell_type": "code",
   "execution_count": 10,
   "metadata": {},
   "outputs": [
    {
     "data": {
      "image/png": "[encoded data removed]",
      "text/latex": [
       "$\\displaystyle u{\\left(x \\right)} = \\frac{x \\left(L g \\rho - \\frac{g \\rho x}{2}\\right)}{Em}$"
      ],
      "text/plain": [
       "         ⎛        g⋅ρ⋅x⎞\n",
       "       x⋅⎜L⋅g⋅ρ - ─────⎟\n",
       "         ⎝          2  ⎠\n",
       "u(x) = ─────────────────\n",
       "               Em       "
      ]
     },
     "execution_count": 10,
     "metadata": {},
     "output_type": "execute_result"
    }
   ],
   "source": [
    "u = u.subs(C)\n",
    "u"
   ]
  },
  {
   "cell_type": "markdown",
   "metadata": {},
   "source": [
    "Die maximale Auslenkung ist dann"
   ]
  },
  {
   "cell_type": "code",
   "execution_count": 11,
   "metadata": {},
   "outputs": [
    {
     "data": {
      "image/png": "[encoded data removed]",
      "text/latex": [
       "$\\displaystyle u{\\left(500 \\right)} = 4.81303125 \\cdot 10^{-5}$"
      ],
      "text/plain": [
       "u(500) = 4.81303125e-5"
      ]
     },
     "execution_count": 11,
     "metadata": {},
     "output_type": "execute_result"
    }
   ],
   "source": [
    "u.subs(data).subs(x,L.subs(data))"
   ]
  },
  {
   "cell_type": "code",
   "execution_count": 12,
   "metadata": {},
   "outputs": [
    {
     "data": {
      "image/png": "[encoded data removed]",
      "text/plain": [
       "<Figure size 432x288 with 1 Axes>"
      ]
     },
     "metadata": {
      "needs_background": "light"
     },
     "output_type": "display_data"
    },
    {
     "data": {
      "text/plain": [
       "<sympy.plotting.plot.Plot at 0x217280b2f40>"
      ]
     },
     "execution_count": 12,
     "metadata": {},
     "output_type": "execute_result"
    }
   ],
   "source": [
    "ux = Lambda(x, u.rhs.subs(data))\n",
    "plot(ux(x),(x,0,L.subs(data)))"
   ]
  },
  {
   "cell_type": "markdown",
   "metadata": {},
   "source": [
    "Die Normalkraft errechnet sich aus der Ableitung der Verschiebungsfunktion"
   ]
  },
  {
   "cell_type": "code",
   "execution_count": 13,
   "metadata": {},
   "outputs": [
    {
     "data": {
      "image/png": "[encoded data removed]",
      "text/latex": [
       "$\\displaystyle \\left( x \\mapsto A Em \\left(- \\frac{g \\rho x}{2 Em} + \\frac{L g \\rho - \\frac{g \\rho x}{2}}{Em}\\right) \\right)$"
      ],
      "text/plain": [
       "         ⎛                  g⋅ρ⋅x⎞\n",
       "         ⎜          L⋅g⋅ρ - ─────⎟\n",
       "         ⎜  g⋅ρ⋅x             2  ⎟\n",
       "x ↦ A⋅Em⋅⎜- ───── + ─────────────⎟\n",
       "         ⎝   2⋅Em         Em     ⎠"
      ]
     },
     "execution_count": 13,
     "metadata": {},
     "output_type": "execute_result"
    }
   ],
   "source": [
    "Nex=Lambda(x,Em*A*u.rhs.diff(x))\n",
    "Nex"
   ]
  },
  {
   "cell_type": "markdown",
   "metadata": {},
   "source": [
    "Die resultierende Kraft an der Lagerung ergibt sich zu"
   ]
  },
  {
   "cell_type": "code",
   "execution_count": 14,
   "metadata": {},
   "outputs": [
    {
     "data": {
      "image/png": "[encoded data removed]",
      "text/latex": [
       "$\\displaystyle 302.411672329962$"
      ],
      "text/plain": [
       "302.411672329962"
      ]
     },
     "execution_count": 14,
     "metadata": {},
     "output_type": "execute_result"
    }
   ],
   "source": [
    "N(Nex(0).subs(data))"
   ]
  },
  {
   "cell_type": "markdown",
   "metadata": {},
   "source": [
    "Damit ergibt sich die Spannung aus"
   ]
  },
  {
   "cell_type": "code",
   "execution_count": 15,
   "metadata": {},
   "outputs": [
    {
     "data": {
      "image/png": "[encoded data removed]",
      "text/latex": [
       "$\\displaystyle Em \\left(- \\frac{g \\rho x}{2 Em} + \\frac{L g \\rho - \\frac{g \\rho x}{2}}{Em}\\right)$"
      ],
      "text/plain": [
       "   ⎛                  g⋅ρ⋅x⎞\n",
       "   ⎜          L⋅g⋅ρ - ─────⎟\n",
       "   ⎜  g⋅ρ⋅x             2  ⎟\n",
       "Em⋅⎜- ───── + ─────────────⎟\n",
       "   ⎝   2⋅Em         Em     ⎠"
      ]
     },
     "execution_count": 15,
     "metadata": {},
     "output_type": "execute_result"
    }
   ],
   "source": [
    "Sigex=Lambda(x,Nex(x)/A)\n",
    "Sigex(x)"
   ]
  },
  {
   "cell_type": "markdown",
   "metadata": {},
   "source": [
    "Und die grafische Darstellung des Spannungsverlaufes"
   ]
  },
  {
   "cell_type": "code",
   "execution_count": 16,
   "metadata": {},
   "outputs": [
    {
     "data": {
      "image/png": "[encoded data removed]",
      "text/plain": [
       "<Figure size 432x288 with 1 Axes>"
      ]
     },
     "metadata": {
      "needs_background": "light"
     },
     "output_type": "display_data"
    },
    {
     "data": {
      "text/plain": [
       "<sympy.plotting.plot.Plot at 0x21729846a60>"
      ]
     },
     "execution_count": 16,
     "metadata": {},
     "output_type": "execute_result"
    }
   ],
   "source": [
    "plot(Sigex(x).subs(data),(x,0,L.subs(data)))"
   ]
  }
 ],
 "metadata": {
  "kernelspec": {
   "display_name": "Python 3",
   "language": "python",
   "name": "python3"
  },
  "language_info": {
   "codemirror_mode": {
    "name": "ipython",
    "version": 3
   },
   "file_extension": ".py",
   "mimetype": "text/x-python",
   "name": "python",
   "nbconvert_exporter": "python",
   "pygments_lexer": "ipython3",
   "version": "3.8.5"
  }
 },
 "nbformat": 4,
 "nbformat_minor": 4
}
