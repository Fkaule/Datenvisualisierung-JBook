{
 "cells": [
  {
   "cell_type": "code",
   "execution_count": 1,
   "metadata": {},
   "outputs": [],
   "source": [
    "import pandas as pd\n",
    "import numpy as np\n",
    "from sympy import *\n",
    "import math\n",
    "from matplotlib import pyplot as plt"
   ]
  },
  {
   "cell_type": "markdown",
   "metadata": {},
   "source": [
    "# Normalkraftstab unter Eigenlast\n",
    "## Aufgabenstellung\n",
    "Gegeben ist ein hängender Normalkraftstab mit zylindrischem Querschnitt unter Eigenlast.\n"
   ]
  },
  {
   "attachments": {
    "365c8620-abc8-4b45-a0e4-bad58f8469f1.png": {
     "image/png": "[encoded data removed]"
    }
   },
   "cell_type": "markdown",
   "metadata": {},
   "source": [
    "![grafik.png](attachment:365c8620-abc8-4b45-a0e4-bad58f8469f1.png)"
   ]
  },
  {
   "cell_type": "markdown",
   "metadata": {},
   "source": [
    "a)\n",
    "Zunächst verschaffen wir uns die exakte Lösung für das dargestellte Normalkraftproblem mit konstanter Dehnsteifigkeit und linear anwachsender Linienlast:\n",
    "\n",
    "1) Lösen Sie die Differentialgleichung des Normalkraftstabes $(EA u(x)')'=-q_x(x)$ \n",
    "mit den Randbedingungen \n",
    "$u(0)=0$ und\n",
    "$u'(L)=0$.\n",
    "\n",
    "2) Stellen Sie den Verlauf von $u(x)$ grafisch dar mit dem \"Plot[]\" Befehl.\n",
    "\n",
    "3) Ermitteln Sie die Normalkraft $N(x)$ (über $N(x)= E A u'(x))$  sowie den Spannungsverlauf $\\sigma(x)$ und stellen den Verlauf üben den Stab dar.\n",
    "\n",
    "b)\n",
    "Modellieren Sie das Problem in ANSYS und berechnen Sie ebenso den\n",
    "Verschiebungsverlauf $u(x)$ und\n",
    "Spannungsverlauf $\\sigma(x)$.\n",
    "Vergleichen Sie die Maximalwerte und Verläufe mit den exakten Lösungen.  Variieren Sie die Elementanzahl im Modell.\n",
    "\n",
    "Geg.:\\\n",
    "$g=9,81\\,$m/s^2\\\n",
    "$\\rho=7850\\,$kg/m^3\\\n",
    "$E=200.000\\,$GPa\\\n",
    "$A=2500\\pi$\\\n",
    "$L=500\\,$mm"
   ]
  },
  {
   "cell_type": "markdown",
   "metadata": {},
   "source": [
    "### Lösung a)"
   ]
  },
  {
   "cell_type": "code",
   "execution_count": 53,
   "metadata": {},
   "outputs": [],
   "source": [
    "x,g,Em,rho,A,L =symbols('x g Em rho A L')"
   ]
  },
  {
   "cell_type": "code",
   "execution_count": 57,
   "metadata": {},
   "outputs": [],
   "source": [
    "data=[(A,50**2*pi),(L,500),(rho,7.85*10**(-6)),(Em,200000),(g,9.81)]"
   ]
  },
  {
   "cell_type": "code",
   "execution_count": 10,
   "metadata": {},
   "outputs": [],
   "source": [
    "u=symbols('u',cls=Function)\n"
   ]
  },
  {
   "cell_type": "code",
   "execution_count": 14,
   "metadata": {},
   "outputs": [
    {
     "data": {
      "text/latex": [
       "$\\displaystyle A Em \\frac{d^{2}}{d x^{2}} u{\\left(x \\right)} = - A g \\rho$"
      ],
      "text/plain": [
       "Eq(A*Em*Derivative(u(x), (x, 2)), -A*g*rho)"
      ]
     },
     "execution_count": 14,
     "metadata": {},
     "output_type": "execute_result"
    }
   ],
   "source": [
    "dglg=Eq(Em*A*u(x).diff(x,2),-A*g*rho)\n",
    "dglg"
   ]
  },
  {
   "cell_type": "code",
   "execution_count": 16,
   "metadata": {},
   "outputs": [
    {
     "data": {
      "text/latex": [
       "$\\displaystyle u{\\left(0 \\right)} = 0$"
      ],
      "text/plain": [
       "Eq(u(0), 0)"
      ]
     },
     "execution_count": 16,
     "metadata": {},
     "output_type": "execute_result"
    }
   ],
   "source": [
    "rb1=Eq(u(0),0)\n",
    "rb1"
   ]
  },
  {
   "cell_type": "code",
   "execution_count": 24,
   "metadata": {},
   "outputs": [],
   "source": [
    "du=u(x).diff(x)\n"
   ]
  },
  {
   "cell_type": "code",
   "execution_count": 35,
   "metadata": {},
   "outputs": [],
   "source": [
    "u=dsolve(dglg,u(x))"
   ]
  },
  {
   "cell_type": "code",
   "execution_count": 36,
   "metadata": {},
   "outputs": [
    {
     "data": {
      "text/latex": [
       "$\\displaystyle u{\\left(x \\right)} = C_{1} + \\frac{x \\left(C_{2} Em - \\frac{g \\rho x}{2}\\right)}{Em}$"
      ],
      "text/plain": [
       "Eq(u(x), C1 + x*(C2*Em - g*rho*x/2)/Em)"
      ]
     },
     "execution_count": 36,
     "metadata": {},
     "output_type": "execute_result"
    }
   ],
   "source": [
    "u"
   ]
  },
  {
   "cell_type": "markdown",
   "metadata": {},
   "source": [
    "Leider ist die aktuelle Version von Sympy derzeit nicht in der Lage, Differentialgleichungen mit Randbedingungen zu lösen."
   ]
  },
  {
   "cell_type": "code",
   "execution_count": 72,
   "metadata": {},
   "outputs": [],
   "source": [
    "def uex(x):\n",
    "    return (g*(2*L*x-x**2)*rho)/(2*Em)"
   ]
  },
  {
   "cell_type": "code",
   "execution_count": 74,
   "metadata": {},
   "outputs": [
    {
     "data": {
      "text/latex": [
       "$\\displaystyle \\frac{g \\rho \\left(2 L x - x^{2}\\right)}{2 Em}$"
      ],
      "text/plain": [
       "g*rho*(2*L*x - x**2)/(2*Em)"
      ]
     },
     "execution_count": 74,
     "metadata": {},
     "output_type": "execute_result"
    }
   ],
   "source": [
    "uex(x)"
   ]
  },
  {
   "cell_type": "code",
   "execution_count": 75,
   "metadata": {},
   "outputs": [
    {
     "data": {
      "text/latex": [
       "$\\displaystyle 4.81303125 \\cdot 10^{-5}$"
      ],
      "text/plain": [
       "4.81303125000000e-5"
      ]
     },
     "execution_count": 75,
     "metadata": {},
     "output_type": "execute_result"
    }
   ],
   "source": [
    "uex(x).subs(x,L).subs(data)"
   ]
  },
  {
   "cell_type": "code",
   "execution_count": 81,
   "metadata": {},
   "outputs": [
    {
     "data": {
      "image/png": "[encoded data removed]",
      "text/plain": [
       "<Figure size 432x288 with 1 Axes>"
      ]
     },
     "metadata": {
      "needs_background": "light"
     },
     "output_type": "display_data"
    },
    {
     "data": {
      "text/plain": [
       "<sympy.plotting.plot.Plot at 0x18ae0dd4548>"
      ]
     },
     "execution_count": 81,
     "metadata": {},
     "output_type": "execute_result"
    }
   ],
   "source": [
    "plot(uex(x).subs(data),(x,0,L.subs(data)))"
   ]
  },
  {
   "cell_type": "markdown",
   "metadata": {},
   "source": [
    "Die Normalkraft errechnet sich aus der Ableitung der Verschiebungsfunktion"
   ]
  },
  {
   "cell_type": "code",
   "execution_count": 103,
   "metadata": {},
   "outputs": [
    {
     "data": {
      "text/latex": [
       "$\\displaystyle \\frac{A g \\rho \\left(2 L - 2 x\\right)}{2}$"
      ],
      "text/plain": [
       "A*g*rho*(2*L - 2*x)/2"
      ]
     },
     "execution_count": 103,
     "metadata": {},
     "output_type": "execute_result"
    }
   ],
   "source": [
    "Nex=Lambda(x,Em*A*uex(x).diff(x))\n",
    "Nex(x)"
   ]
  },
  {
   "cell_type": "markdown",
   "metadata": {},
   "source": [
    "Die resultierende Kraft an der Lagerung ergibt sich zu"
   ]
  },
  {
   "cell_type": "code",
   "execution_count": 105,
   "metadata": {},
   "outputs": [
    {
     "data": {
      "text/latex": [
       "$\\displaystyle 302.411672329962$"
      ],
      "text/plain": [
       "302.411672329962"
      ]
     },
     "execution_count": 105,
     "metadata": {},
     "output_type": "execute_result"
    }
   ],
   "source": [
    "N(Nex(0).subs(data))"
   ]
  },
  {
   "cell_type": "markdown",
   "metadata": {},
   "source": [
    "Damit ergibt sich die Spannung aus"
   ]
  },
  {
   "cell_type": "code",
   "execution_count": 107,
   "metadata": {},
   "outputs": [
    {
     "data": {
      "text/latex": [
       "$\\displaystyle \\frac{g \\rho \\left(2 L - 2 x\\right)}{2}$"
      ],
      "text/plain": [
       "g*rho*(2*L - 2*x)/2"
      ]
     },
     "execution_count": 107,
     "metadata": {},
     "output_type": "execute_result"
    }
   ],
   "source": [
    "Sigex=Lambda(x,Nex(x)/A)\n",
    "Sigex(x)"
   ]
  },
  {
   "cell_type": "markdown",
   "metadata": {},
   "source": [
    "Und die grafische Darstellung des Spannungsverlaufes"
   ]
  },
  {
   "cell_type": "code",
   "execution_count": 111,
   "metadata": {},
   "outputs": [
    {
     "data": {
      "image/png": "[encoded data removed]",
      "text/plain": [
       "<Figure size 432x288 with 1 Axes>"
      ]
     },
     "metadata": {
      "needs_background": "light"
     },
     "output_type": "display_data"
    },
    {
     "data": {
      "text/plain": [
       "<sympy.plotting.plot.Plot at 0x18ae0e93788>"
      ]
     },
     "execution_count": 111,
     "metadata": {},
     "output_type": "execute_result"
    }
   ],
   "source": [
    "plot(Sigex(x).subs(data),(x,0,L.subs(data)))"
   ]
  },
  {
   "cell_type": "code",
   "execution_count": null,
   "metadata": {},
   "outputs": [],
   "source": []
  }
 ],
 "metadata": {
  "kernelspec": {
   "display_name": "Python 3",
   "language": "python",
   "name": "python3"
  },
  "language_info": {
   "codemirror_mode": {
    "name": "ipython",
    "version": 3
   },
   "file_extension": ".py",
   "mimetype": "text/x-python",
   "name": "python",
   "nbconvert_exporter": "python",
   "pygments_lexer": "ipython3",
   "version": "3.7.9"
  }
 },
 "nbformat": 4,
 "nbformat_minor": 4
}
