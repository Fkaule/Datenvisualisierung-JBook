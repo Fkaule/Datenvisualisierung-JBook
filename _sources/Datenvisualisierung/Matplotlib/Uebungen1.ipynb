{
 "cells": [
  {
   "cell_type": "markdown",
   "id": "c88302d6",
   "metadata": {},
   "source": [
    "# Übungen 1\n",
    "\n",
    "Erstellen Sie mit Hilfe der Informationen aus dem [Kapitel Grundlagen](Grundlagen.ipynb) folgende Grafiken:\n",
    "\n",
    "<div class=\"alert alert-block alert-info\">\n",
    "    Um die <b>Lösung</b> zu bekommen klicken Sie auf <b>click to show</b>\n",
    "</div>"
   ]
  },
  {
   "cell_type": "markdown",
   "id": "4a47c4d0",
   "metadata": {},
   "source": [
    "<a id='Uebung1'></a>\n",
    "## Ü1: Kraft - Weg (I)\n",
    "\n",
    "<div class=\"alert alert-block alert-info\">\n",
    "🔲 Stellen Sie den Kraft Weg Verlauf dar.\n",
    "</div>\n",
    "\n",
    "![](Uebung01.png)"
   ]
  },
  {
   "cell_type": "code",
   "execution_count": 21,
   "id": "58bcc62f",
   "metadata": {
    "tags": [
     "remove-input"
    ]
   },
   "outputs": [
    {
     "data": {
      "text/html": [
       "<style  type=\"text/css\" >\n",
       "</style><table id=\"T_aa70f_\" ><thead>    <tr>        <th class=\"col_heading level0 col0\" >Weg [mm]</th>        <th class=\"col_heading level0 col1\" >Kraft [N]</th>    </tr></thead><tbody>\n",
       "                <tr>\n",
       "                                <td id=\"T_aa70f_row0_col0\" class=\"data row0 col0\" >0</td>\n",
       "                        <td id=\"T_aa70f_row0_col1\" class=\"data row0 col1\" >10</td>\n",
       "            </tr>\n",
       "            <tr>\n",
       "                                <td id=\"T_aa70f_row1_col0\" class=\"data row1 col0\" >10</td>\n",
       "                        <td id=\"T_aa70f_row1_col1\" class=\"data row1 col1\" >18</td>\n",
       "            </tr>\n",
       "            <tr>\n",
       "                                <td id=\"T_aa70f_row2_col0\" class=\"data row2 col0\" >20</td>\n",
       "                        <td id=\"T_aa70f_row2_col1\" class=\"data row2 col1\" >24</td>\n",
       "            </tr>\n",
       "            <tr>\n",
       "                                <td id=\"T_aa70f_row3_col0\" class=\"data row3 col0\" >30</td>\n",
       "                        <td id=\"T_aa70f_row3_col1\" class=\"data row3 col1\" >28</td>\n",
       "            </tr>\n",
       "            <tr>\n",
       "                                <td id=\"T_aa70f_row4_col0\" class=\"data row4 col0\" >40</td>\n",
       "                        <td id=\"T_aa70f_row4_col1\" class=\"data row4 col1\" >30</td>\n",
       "            </tr>\n",
       "    </tbody></table>"
      ],
      "text/plain": [
       "<pandas.io.formats.style.Styler at 0x2516988de80>"
      ]
     },
     "execution_count": 21,
     "metadata": {},
     "output_type": "execute_result"
    }
   ],
   "source": [
    "import pandas as pd\n",
    "\n",
    "x = [0,10,20,30,40]\n",
    "y = [10,18,24,28,30]\n",
    "df = pd.DataFrame({'Weg [mm]':x, 'Kraft [N]':y})\n",
    "df.style.hide_index()"
   ]
  },
  {
   "cell_type": "markdown",
   "id": "0b60650f",
   "metadata": {},
   "source": [
    "**Lösung**"
   ]
  },
  {
   "cell_type": "code",
   "execution_count": 45,
   "id": "933bbd76",
   "metadata": {
    "tags": [
     "hide-input",
     "remove-output"
    ]
   },
   "outputs": [
    {
     "data": {
      "image/png": "[encoded data removed]",
      "text/plain": [
       "<Figure size 432x288 with 1 Axes>"
      ]
     },
     "metadata": {
      "needs_background": "light"
     },
     "output_type": "display_data"
    }
   ],
   "source": [
    "import matplotlib.pyplot as plt\n",
    "\n",
    "x = [0,10,20,30,40]\n",
    "y = [10,18,24,28,30]\n",
    "\n",
    "plt.plot(x,y,marker=\"s\");\n",
    "plt.xlabel(\"Weg [mm]\");\n",
    "plt.ylabel(\"Kraft [N]\");\n",
    "plt.grid();\n",
    "plt.savefig('Uebung01.png', bbox_inches='tight', dpi=100)"
   ]
  },
  {
   "cell_type": "markdown",
   "id": "85b0c7cb",
   "metadata": {},
   "source": [
    "<a id='Uebung2'></a>\n",
    "## Ü2: Kraft - Weg (II)\n",
    "\n",
    "<div class=\"alert alert-block alert-info\">\n",
    "🔲 Plotten Sie nun noch einen zweiten Verlauf dazu und beschriften Sie beide \n",
    "</div>\n",
    "\n",
    "![](Uebung02.png)"
   ]
  },
  {
   "cell_type": "code",
   "execution_count": 25,
   "id": "8e35c0c3",
   "metadata": {
    "tags": [
     "remove-input"
    ]
   },
   "outputs": [
    {
     "data": {
      "text/html": [
       "<style  type=\"text/css\" >\n",
       "</style><table id=\"T_1fda4_\" ><thead>    <tr>        <th class=\"col_heading level0 col0\" >Weg [mm]</th>        <th class=\"col_heading level0 col1\" >Kraft (Probe1) [N]</th>        <th class=\"col_heading level0 col2\" >Kraft (Probe2) [N]</th>    </tr></thead><tbody>\n",
       "                <tr>\n",
       "                                <td id=\"T_1fda4_row0_col0\" class=\"data row0 col0\" >0</td>\n",
       "                        <td id=\"T_1fda4_row0_col1\" class=\"data row0 col1\" >10</td>\n",
       "                        <td id=\"T_1fda4_row0_col2\" class=\"data row0 col2\" >0</td>\n",
       "            </tr>\n",
       "            <tr>\n",
       "                                <td id=\"T_1fda4_row1_col0\" class=\"data row1 col0\" >10</td>\n",
       "                        <td id=\"T_1fda4_row1_col1\" class=\"data row1 col1\" >18</td>\n",
       "                        <td id=\"T_1fda4_row1_col2\" class=\"data row1 col2\" >10</td>\n",
       "            </tr>\n",
       "            <tr>\n",
       "                                <td id=\"T_1fda4_row2_col0\" class=\"data row2 col0\" >20</td>\n",
       "                        <td id=\"T_1fda4_row2_col1\" class=\"data row2 col1\" >24</td>\n",
       "                        <td id=\"T_1fda4_row2_col2\" class=\"data row2 col2\" >20</td>\n",
       "            </tr>\n",
       "            <tr>\n",
       "                                <td id=\"T_1fda4_row3_col0\" class=\"data row3 col0\" >30</td>\n",
       "                        <td id=\"T_1fda4_row3_col1\" class=\"data row3 col1\" >28</td>\n",
       "                        <td id=\"T_1fda4_row3_col2\" class=\"data row3 col2\" >30</td>\n",
       "            </tr>\n",
       "            <tr>\n",
       "                                <td id=\"T_1fda4_row4_col0\" class=\"data row4 col0\" >40</td>\n",
       "                        <td id=\"T_1fda4_row4_col1\" class=\"data row4 col1\" >30</td>\n",
       "                        <td id=\"T_1fda4_row4_col2\" class=\"data row4 col2\" >40</td>\n",
       "            </tr>\n",
       "    </tbody></table>"
      ],
      "text/plain": [
       "<pandas.io.formats.style.Styler at 0x2516a988df0>"
      ]
     },
     "execution_count": 25,
     "metadata": {},
     "output_type": "execute_result"
    }
   ],
   "source": [
    "import pandas as pd\n",
    "\n",
    "x = [0,10,20,30,40]\n",
    "y1 = [10,18,24,28,30]\n",
    "y2 = [0,10,20,30,40]\n",
    "\n",
    "df = pd.DataFrame({'Weg [mm]':x, 'Kraft (Probe1) [N]':y1, 'Kraft (Probe2) [N]':y2})\n",
    "df.style.hide_index()"
   ]
  },
  {
   "cell_type": "markdown",
   "id": "ddd0afe3",
   "metadata": {},
   "source": [
    "**Hinweise**\n",
    "\n",
    "- mit `label=\"Name\"` können Sie den Linien einen Namen geben und mit `plt.legend()` diesen anzeigen"
   ]
  },
  {
   "cell_type": "markdown",
   "id": "198eab0c",
   "metadata": {},
   "source": [
    "**Lösung**"
   ]
  },
  {
   "cell_type": "code",
   "execution_count": 27,
   "id": "3a011bcc",
   "metadata": {
    "tags": [
     "hide-input",
     "remove-output"
    ]
   },
   "outputs": [
    {
     "data": {
      "image/png": "[encoded data removed]",
      "text/plain": [
       "<Figure size 432x288 with 1 Axes>"
      ]
     },
     "metadata": {
      "needs_background": "light"
     },
     "output_type": "display_data"
    }
   ],
   "source": [
    "import matplotlib.pyplot as plt\n",
    "\n",
    "x = [0,10,20,30,40]\n",
    "y1 = [10,18,24,28,30]\n",
    "y2 = [0,10,20,30,40]\n",
    "\n",
    "plt.plot(x,y1,marker=\"s\",label=\"Probe1\");\n",
    "plt.plot(x,y2,marker=\"s\",label=\"Probe1\");\n",
    "plt.legend()\n",
    "plt.xlabel(\"Weg [mm]\");\n",
    "plt.ylabel(\"Kraft [N]\");\n",
    "plt.grid()\n",
    "plt.savefig('Uebung02.png', bbox_inches='tight', dpi=100)"
   ]
  },
  {
   "cell_type": "markdown",
   "id": "81ec58b4",
   "metadata": {},
   "source": [
    "<a id='Uebung3'></a>\n",
    "## Ü3: Kraft - Weg (III)\n",
    "\n",
    "\n",
    "<div class=\"alert alert-block alert-info\">\n",
    "🔲 Stellen Sie nun die Differenz aus beiden Kraftmessungen dar\n",
    "</div>\n",
    "\n",
    "![](Uebung03.png)"
   ]
  },
  {
   "cell_type": "code",
   "execution_count": 29,
   "id": "c70bb294",
   "metadata": {
    "tags": [
     "remove-input"
    ]
   },
   "outputs": [
    {
     "data": {
      "text/html": [
       "<style  type=\"text/css\" >\n",
       "</style><table id=\"T_e8265_\" ><thead>    <tr>        <th class=\"col_heading level0 col0\" >Weg [mm]</th>        <th class=\"col_heading level0 col1\" >Kraft (Probe1) [N]</th>        <th class=\"col_heading level0 col2\" >Kraft (Probe2) [N]</th>    </tr></thead><tbody>\n",
       "                <tr>\n",
       "                                <td id=\"T_e8265_row0_col0\" class=\"data row0 col0\" >0</td>\n",
       "                        <td id=\"T_e8265_row0_col1\" class=\"data row0 col1\" >10</td>\n",
       "                        <td id=\"T_e8265_row0_col2\" class=\"data row0 col2\" >0</td>\n",
       "            </tr>\n",
       "            <tr>\n",
       "                                <td id=\"T_e8265_row1_col0\" class=\"data row1 col0\" >10</td>\n",
       "                        <td id=\"T_e8265_row1_col1\" class=\"data row1 col1\" >18</td>\n",
       "                        <td id=\"T_e8265_row1_col2\" class=\"data row1 col2\" >10</td>\n",
       "            </tr>\n",
       "            <tr>\n",
       "                                <td id=\"T_e8265_row2_col0\" class=\"data row2 col0\" >20</td>\n",
       "                        <td id=\"T_e8265_row2_col1\" class=\"data row2 col1\" >24</td>\n",
       "                        <td id=\"T_e8265_row2_col2\" class=\"data row2 col2\" >20</td>\n",
       "            </tr>\n",
       "            <tr>\n",
       "                                <td id=\"T_e8265_row3_col0\" class=\"data row3 col0\" >30</td>\n",
       "                        <td id=\"T_e8265_row3_col1\" class=\"data row3 col1\" >28</td>\n",
       "                        <td id=\"T_e8265_row3_col2\" class=\"data row3 col2\" >30</td>\n",
       "            </tr>\n",
       "            <tr>\n",
       "                                <td id=\"T_e8265_row4_col0\" class=\"data row4 col0\" >40</td>\n",
       "                        <td id=\"T_e8265_row4_col1\" class=\"data row4 col1\" >30</td>\n",
       "                        <td id=\"T_e8265_row4_col2\" class=\"data row4 col2\" >40</td>\n",
       "            </tr>\n",
       "    </tbody></table>"
      ],
      "text/plain": [
       "<pandas.io.formats.style.Styler at 0x2516aa1fb20>"
      ]
     },
     "execution_count": 29,
     "metadata": {},
     "output_type": "execute_result"
    }
   ],
   "source": [
    "import pandas as pd\n",
    "\n",
    "x = [0,10,20,30,40]\n",
    "y1 = [10,18,24,28,30]\n",
    "y2 = [0,10,20,30,40]\n",
    "\n",
    "df = pd.DataFrame({'Weg [mm]':x, 'Kraft (Probe1) [N]':y1, 'Kraft (Probe2) [N]':y2})\n",
    "df.style.hide_index()"
   ]
  },
  {
   "cell_type": "markdown",
   "id": "45d2d1ed",
   "metadata": {},
   "source": [
    "**Hinweise**\n",
    "\n",
    "- Mit klassischen Python-Listen mit denen wir bisher gearbeitet haben können wir keine Rechenoperationen durchführen wie nachfolgend gezeigt:"
   ]
  },
  {
   "cell_type": "code",
   "execution_count": 50,
   "id": "47d6d7d2",
   "metadata": {},
   "outputs": [
    {
     "ename": "TypeError",
     "evalue": "unsupported operand type(s) for -: 'list' and 'list'",
     "output_type": "error",
     "traceback": [
      "\u001b[1;31m---------------------------------------------------------------------------\u001b[0m",
      "\u001b[1;31mTypeError\u001b[0m                                 Traceback (most recent call last)",
      "\u001b[1;32m<ipython-input-50-699341078f78>\u001b[0m in \u001b[0;36m<module>\u001b[1;34m\u001b[0m\n\u001b[0;32m      1\u001b[0m \u001b[0my1\u001b[0m \u001b[1;33m=\u001b[0m \u001b[1;33m[\u001b[0m\u001b[1;36m10\u001b[0m\u001b[1;33m,\u001b[0m\u001b[1;36m18\u001b[0m\u001b[1;33m,\u001b[0m\u001b[1;36m24\u001b[0m\u001b[1;33m,\u001b[0m\u001b[1;36m28\u001b[0m\u001b[1;33m,\u001b[0m\u001b[1;36m30\u001b[0m\u001b[1;33m]\u001b[0m\u001b[1;33m\u001b[0m\u001b[1;33m\u001b[0m\u001b[0m\n\u001b[0;32m      2\u001b[0m \u001b[0my2\u001b[0m \u001b[1;33m=\u001b[0m \u001b[1;33m[\u001b[0m\u001b[1;36m0\u001b[0m\u001b[1;33m,\u001b[0m\u001b[1;36m10\u001b[0m\u001b[1;33m,\u001b[0m\u001b[1;36m20\u001b[0m\u001b[1;33m,\u001b[0m\u001b[1;36m30\u001b[0m\u001b[1;33m,\u001b[0m\u001b[1;36m40\u001b[0m\u001b[1;33m]\u001b[0m\u001b[1;33m\u001b[0m\u001b[1;33m\u001b[0m\u001b[0m\n\u001b[1;32m----> 3\u001b[1;33m \u001b[0my1\u001b[0m\u001b[1;33m-\u001b[0m\u001b[0my2\u001b[0m\u001b[1;33m\u001b[0m\u001b[1;33m\u001b[0m\u001b[0m\n\u001b[0m",
      "\u001b[1;31mTypeError\u001b[0m: unsupported operand type(s) for -: 'list' and 'list'"
     ]
    }
   ],
   "source": [
    "y1 = [10,18,24,28,30]\n",
    "y2 = [0,10,20,30,40]\n",
    "y1-y2"
   ]
  },
  {
   "cell_type": "markdown",
   "id": "994be51d",
   "metadata": {},
   "source": [
    "- Ein möglicher Weg ist stattdessen ein `numpy` Array zu verwenden"
   ]
  },
  {
   "cell_type": "code",
   "execution_count": 53,
   "id": "7ed06c5a",
   "metadata": {},
   "outputs": [
    {
     "data": {
      "text/plain": [
       "array([-10,  -8,  -4,   2,  10])"
      ]
     },
     "execution_count": 53,
     "metadata": {},
     "output_type": "execute_result"
    }
   ],
   "source": [
    "import numpy as np\n",
    "y1 = np.array([10,18,24,28,30])\n",
    "y2 = np.array([0,10,20,30,40])\n",
    "y2-y1"
   ]
  },
  {
   "cell_type": "markdown",
   "id": "c5739d17",
   "metadata": {},
   "source": [
    "**Lösung**"
   ]
  },
  {
   "cell_type": "code",
   "execution_count": 49,
   "id": "d3414ca0",
   "metadata": {
    "tags": [
     "hide-input",
     "remove-output"
    ]
   },
   "outputs": [
    {
     "data": {
      "image/png": "[encoded data removed]",
      "text/plain": [
       "<Figure size 432x288 with 1 Axes>"
      ]
     },
     "metadata": {
      "needs_background": "light"
     },
     "output_type": "display_data"
    }
   ],
   "source": [
    "import numpy as np\n",
    "import matplotlib.pyplot as plt\n",
    "\n",
    "x = np.array([0,10,20,30,40])\n",
    "y1 = np.array([10,18,24,28,30])\n",
    "y2 = np.array([0,10,20,30,40])\n",
    "\n",
    "plt.plot(x1,y1-y2,marker=\"s\",label=\"Differenz (Probe1 - Probe2)\");\n",
    "plt.legend()\n",
    "plt.xlabel(\"Weg [mm]\");\n",
    "plt.ylabel(\"Kraft [N]\");\n",
    "plt.grid()\n",
    "plt.savefig('Uebung03.png', bbox_inches='tight', dpi=100)"
   ]
  }
 ],
 "metadata": {
  "kernelspec": {
   "display_name": "Python 3",
   "language": "python",
   "name": "python3"
  },
  "language_info": {
   "codemirror_mode": {
    "name": "ipython",
    "version": 3
   },
   "file_extension": ".py",
   "mimetype": "text/x-python",
   "name": "python",
   "nbconvert_exporter": "python",
   "pygments_lexer": "ipython3",
   "version": "3.8.5"
  }
 },
 "nbformat": 4,
 "nbformat_minor": 5
}
