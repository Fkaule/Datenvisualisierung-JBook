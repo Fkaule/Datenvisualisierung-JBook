{
 "cells": [
  {
   "cell_type": "markdown",
   "id": "chicken-connection",
   "metadata": {},
   "source": [
    "# Externes Infomaterial"
   ]
  },
  {
   "cell_type": "markdown",
   "id": "accomplished-behalf",
   "metadata": {},
   "source": [
    "## offizielle Dokumentationen\n",
    "- [📖 **Seaborn** Dokumentation](https://seaborn.pydata.org/tutorial.html) "
   ]
  },
  {
   "cell_type": "markdown",
   "id": "instrumental-shipping",
   "metadata": {},
   "source": [
    "## Cheat Sheets:\n",
    "- [📰 **Seaborn** von DataChamp](https://s3.amazonaws.com/assets.datacamp.com/blog_assets/Python_Seaborn_Cheat_Sheet.pdf) "
   ]
  },
  {
   "cell_type": "markdown",
   "id": "solar-inspector",
   "metadata": {},
   "source": [
    "## Einsteiger Tutorials\n",
    "- **Intro to Seaborn** von Kimberly Fessel [📽️YouTube Playlist](https://www.youtube.com/playlist?list=PLtPIclEQf-3cG31dxSMZ8KTcDG7zYng1j) /  [📁Jupyter Notebooks @GitHub](https://github.com/kimfetti/Videos/tree/master/Seaborn) \n",
    "- [🌐 **Seaborn** Tutorial von kaggle.com](https://www.kaggle.com/learn/data-visualization)\n"
   ]
  }
 ],
 "metadata": {
  "kernelspec": {
   "display_name": "Python 3",
   "language": "python",
   "name": "python3"
  },
  "language_info": {
   "codemirror_mode": {
    "name": "ipython",
    "version": 3
   },
   "file_extension": ".py",
   "mimetype": "text/x-python",
   "name": "python",
   "nbconvert_exporter": "python",
   "pygments_lexer": "ipython3",
   "version": "3.8.5"
  }
 },
 "nbformat": 4,
 "nbformat_minor": 5
}
