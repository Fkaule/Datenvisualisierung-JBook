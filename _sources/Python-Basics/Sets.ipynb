{
 "cells": [
  {
   "cell_type": "markdown",
   "id": "0858dca7",
   "metadata": {},
   "source": [
    "# Sets\n",
    "\n",
    "- `Sets` werden mit `geschweiften Klammern {}` definiert und Elemente werden durch ein `Komma ,` getrennt <br>\n",
    "\n",
    "- In `Sets` sind **keine Dublikate von Elementen** möglich\n",
    "- Hauptverwendung: Prüfen ob ein Element teil eines Sets ist und um Duplikate zu entfernen"
   ]
  },
  {
   "cell_type": "markdown",
   "id": "0d56b122",
   "metadata": {},
   "source": [
    "## Sets definieren"
   ]
  },
  {
   "cell_type": "markdown",
   "id": "1f38f9c7",
   "metadata": {},
   "source": [
    "`leeres Set` <br>\n",
    "<div class=\"alert alert-block alert-danger\">\n",
    "    <b>Warnung:</b> Laender={} definiert kein leeres <b>Set</b> , sondern ein leeres <b>Dictonary</b>\n",
    "</div>"
   ]
  },
  {
   "cell_type": "code",
   "execution_count": 9,
   "id": "be3b26cd",
   "metadata": {},
   "outputs": [],
   "source": [
    "Laender = set()"
   ]
  },
  {
   "cell_type": "markdown",
   "id": "b68fa111",
   "metadata": {},
   "source": [
    "`mit Inhalt`"
   ]
  },
  {
   "cell_type": "code",
   "execution_count": 10,
   "id": "e40b67e9",
   "metadata": {},
   "outputs": [
    {
     "name": "stdout",
     "output_type": "stream",
     "text": [
      "{'Schweden', 'Frankreich', 'USA', 'Polen'}\n"
     ]
    }
   ],
   "source": [
    "Laender = {\"USA\",\"Frankreich\",\"Schweden\",\"Polen\"}\n",
    "print(Laender)"
   ]
  },
  {
   "cell_type": "markdown",
   "id": "c2b23a76",
   "metadata": {},
   "source": [
    "Duplikate werden automatisch ignoriert"
   ]
  },
  {
   "cell_type": "code",
   "execution_count": 17,
   "id": "ed4a43af",
   "metadata": {},
   "outputs": [
    {
     "name": "stdout",
     "output_type": "stream",
     "text": [
      "{'Schweden', 'Frankreich', 'USA', 'Polen'}\n"
     ]
    }
   ],
   "source": [
    "Laender = {\"USA\",\"Frankreich\",\"Schweden\",\"Polen\",\"Polen\"}\n",
    "print(Laender)"
   ]
  },
  {
   "cell_type": "markdown",
   "id": "f2c6bd7f",
   "metadata": {},
   "source": [
    "## Prüfen ob Element in Set (Membership test)\n",
    "\n",
    "Dies geht in Listen und Tuples auch, aber Sets wurden dafür erstellt und sind diesbezüglich deutlich effizienter"
   ]
  },
  {
   "cell_type": "code",
   "execution_count": 14,
   "id": "802219ff",
   "metadata": {},
   "outputs": [
    {
     "data": {
      "text/plain": [
       "True"
      ]
     },
     "execution_count": 14,
     "metadata": {},
     "output_type": "execute_result"
    }
   ],
   "source": [
    "'Schweden' in Laender"
   ]
  },
  {
   "cell_type": "code",
   "execution_count": 15,
   "id": "2e7bc857",
   "metadata": {},
   "outputs": [
    {
     "data": {
      "text/plain": [
       "False"
      ]
     },
     "execution_count": 15,
     "metadata": {},
     "output_type": "execute_result"
    }
   ],
   "source": [
    "'Deutschland' in Laender"
   ]
  },
  {
   "cell_type": "markdown",
   "id": "06211b60",
   "metadata": {},
   "source": [
    "## Prüfen welche Elemente in zwei Sets vorkommen"
   ]
  },
  {
   "cell_type": "markdown",
   "id": "abd24479",
   "metadata": {},
   "source": [
    "Definition eines zweiten Sets:"
   ]
  },
  {
   "cell_type": "code",
   "execution_count": null,
   "id": "ce486387",
   "metadata": {},
   "outputs": [],
   "source": [
    "Laender2 = {\"Deutschland\",\"Frankreich\",\"Schweden\"}"
   ]
  },
  {
   "cell_type": "markdown",
   "id": "a6b53792",
   "metadata": {},
   "source": [
    "gleiche Element prüfen mit `intersection()`"
   ]
  },
  {
   "cell_type": "code",
   "execution_count": 19,
   "id": "751117d3",
   "metadata": {},
   "outputs": [
    {
     "data": {
      "text/plain": [
       "{'Frankreich', 'Schweden'}"
      ]
     },
     "execution_count": 19,
     "metadata": {},
     "output_type": "execute_result"
    }
   ],
   "source": [
    "Laender.intersection(Laender2)"
   ]
  },
  {
   "cell_type": "markdown",
   "id": "8e21c550",
   "metadata": {},
   "source": [
    "einzigartige Element prüfen mit `difference()`"
   ]
  },
  {
   "cell_type": "code",
   "execution_count": 20,
   "id": "5535e544",
   "metadata": {},
   "outputs": [
    {
     "data": {
      "text/plain": [
       "{'Polen', 'USA'}"
      ]
     },
     "execution_count": 20,
     "metadata": {},
     "output_type": "execute_result"
    }
   ],
   "source": [
    "Laender.difference(Laender2)"
   ]
  },
  {
   "cell_type": "markdown",
   "id": "a7ddea16",
   "metadata": {},
   "source": [
    "## Sets zusammenfügen\n",
    "\n",
    "mit `union()` werden mehrere Sets zusammengefügt (Dublikate automatisch entfernt)"
   ]
  },
  {
   "cell_type": "code",
   "execution_count": 21,
   "id": "2a0c9c21",
   "metadata": {},
   "outputs": [
    {
     "data": {
      "text/plain": [
       "{'Deutschland', 'Frankreich', 'Polen', 'Schweden', 'USA'}"
      ]
     },
     "execution_count": 21,
     "metadata": {},
     "output_type": "execute_result"
    }
   ],
   "source": [
    "Laender.union(Laender2)"
   ]
  },
  {
   "cell_type": "code",
   "execution_count": null,
   "id": "fc523745",
   "metadata": {},
   "outputs": [],
   "source": []
  }
 ],
 "metadata": {
  "kernelspec": {
   "display_name": "Python 3",
   "language": "python",
   "name": "python3"
  },
  "language_info": {
   "codemirror_mode": {
    "name": "ipython",
    "version": 3
   },
   "file_extension": ".py",
   "mimetype": "text/x-python",
   "name": "python",
   "nbconvert_exporter": "python",
   "pygments_lexer": "ipython3",
   "version": "3.8.5"
  }
 },
 "nbformat": 4,
 "nbformat_minor": 5
}
