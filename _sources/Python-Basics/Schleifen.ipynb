{
 "cells": [
  {
   "cell_type": "markdown",
   "id": "statutory-operations",
   "metadata": {},
   "source": [
    "# Schleifen"
   ]
  },
  {
   "cell_type": "markdown",
   "id": "tired-shape",
   "metadata": {},
   "source": [
    "## for loop"
   ]
  },
  {
   "cell_type": "code",
   "execution_count": 1,
   "id": "overall-hartford",
   "metadata": {},
   "outputs": [
    {
     "name": "stdout",
     "output_type": "stream",
     "text": [
      "Zahl 1\n",
      "Zahl 2\n",
      "Zahl 3\n",
      "Zahl 4\n",
      "Zahl 5\n"
     ]
    }
   ],
   "source": [
    "for i in [1,2,3,4,5]:\n",
    "    print('Zahl',i)"
   ]
  },
  {
   "cell_type": "code",
   "execution_count": 2,
   "id": "public-sauce",
   "metadata": {},
   "outputs": [
    {
     "name": "stdout",
     "output_type": "stream",
     "text": [
      "Zahl 1\n",
      "Zahl 2\n",
      "Zahl 3\n",
      "Zahl 4\n",
      "Zahl 5\n"
     ]
    }
   ],
   "source": [
    "for i in range(1,6):\n",
    "    print('Zahl',i)"
   ]
  },
  {
   "cell_type": "markdown",
   "id": "alpha-cement",
   "metadata": {},
   "source": [
    "## while"
   ]
  },
  {
   "cell_type": "code",
   "execution_count": 8,
   "id": "registered-antique",
   "metadata": {},
   "outputs": [
    {
     "name": "stdout",
     "output_type": "stream",
     "text": [
      "1\n",
      "4\n",
      "19\n",
      "364\n"
     ]
    }
   ],
   "source": [
    "i = 1\n",
    "while i <= 1000: \n",
    "    print(i) \n",
    "    i = i**2 + 3 "
   ]
  }
 ],
 "metadata": {
  "kernelspec": {
   "display_name": "Python 3",
   "language": "python",
   "name": "python3"
  },
  "language_info": {
   "codemirror_mode": {
    "name": "ipython",
    "version": 3
   },
   "file_extension": ".py",
   "mimetype": "text/x-python",
   "name": "python",
   "nbconvert_exporter": "python",
   "pygments_lexer": "ipython3",
   "version": "3.8.5"
  }
 },
 "nbformat": 4,
 "nbformat_minor": 5
}
