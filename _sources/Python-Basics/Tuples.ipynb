{
 "cells": [
  {
   "cell_type": "markdown",
   "id": "f56e3448",
   "metadata": {},
   "source": [
    "# Tuples\n",
    "\n",
    "- `Tuples` verhalten sich analog wie `Listen`, nur dass diese nicht geändert werden können.\n",
    "\n",
    "- `Tuples` werden mit `runden Klammern ()` definiert und Elemente werden durch ein `Komma ,` getrennt "
   ]
  },
  {
   "cell_type": "markdown",
   "id": "a11fce47",
   "metadata": {},
   "source": [
    "## Tuples definieren"
   ]
  },
  {
   "cell_type": "markdown",
   "id": "67ff7c93",
   "metadata": {},
   "source": [
    "`leeres Tuple`"
   ]
  },
  {
   "cell_type": "code",
   "execution_count": 186,
   "id": "02f65f9d",
   "metadata": {},
   "outputs": [
    {
     "name": "stdout",
     "output_type": "stream",
     "text": [
      "()\n"
     ]
    }
   ],
   "source": [
    "Laender = ()\n",
    "print(Laender)"
   ]
  },
  {
   "cell_type": "code",
   "execution_count": 187,
   "id": "617f6bd1",
   "metadata": {},
   "outputs": [
    {
     "name": "stdout",
     "output_type": "stream",
     "text": [
      "()\n"
     ]
    }
   ],
   "source": [
    "Laender = tuple()\n",
    "print(Laender)"
   ]
  },
  {
   "cell_type": "markdown",
   "id": "37897899",
   "metadata": {},
   "source": [
    "`mit Inhalt`"
   ]
  },
  {
   "cell_type": "code",
   "execution_count": 188,
   "id": "863085fc",
   "metadata": {},
   "outputs": [
    {
     "name": "stdout",
     "output_type": "stream",
     "text": [
      "('USA', 'Frankreich', 'Schweden', 'Polen')\n"
     ]
    }
   ],
   "source": [
    "Laender = (\"USA\",\"Frankreich\",\"Schweden\",\"Polen\")\n",
    "print(Laender)"
   ]
  },
  {
   "cell_type": "code",
   "execution_count": 189,
   "id": "c1305bbf",
   "metadata": {},
   "outputs": [
    {
     "name": "stdout",
     "output_type": "stream",
     "text": [
      "(4, 2, 1, 5, 6)\n"
     ]
    }
   ],
   "source": [
    "Zahlen = (4,2,1,5,6)\n",
    "print(Zahlen)"
   ]
  },
  {
   "cell_type": "markdown",
   "id": "3f029fa4",
   "metadata": {},
   "source": [
    "## Länge des Tuples bestimmen\n",
    "\n",
    "mit `len()` wird die Anzahl der Elemente einer Liste bestimmt"
   ]
  },
  {
   "cell_type": "code",
   "execution_count": 190,
   "id": "eea74ac7",
   "metadata": {},
   "outputs": [
    {
     "data": {
      "text/plain": [
       "5"
      ]
     },
     "execution_count": 190,
     "metadata": {},
     "output_type": "execute_result"
    }
   ],
   "source": [
    "len(Zahlen)"
   ]
  },
  {
   "cell_type": "markdown",
   "id": "f63a0255",
   "metadata": {},
   "source": [
    "## Tuple-Elemente abrufen\n",
    "\n",
    "Der `Index` der Listelemente beginnt bei 0"
   ]
  },
  {
   "cell_type": "markdown",
   "id": "1d845f98",
   "metadata": {},
   "source": [
    "`erstes Element: [0]`"
   ]
  },
  {
   "cell_type": "code",
   "execution_count": 191,
   "id": "4bb3d95c",
   "metadata": {},
   "outputs": [
    {
     "data": {
      "text/plain": [
       "'USA'"
      ]
     },
     "execution_count": 191,
     "metadata": {},
     "output_type": "execute_result"
    }
   ],
   "source": [
    "Laender[0]"
   ]
  },
  {
   "cell_type": "markdown",
   "id": "69fe0692",
   "metadata": {},
   "source": [
    "`zweites Element: [1]`"
   ]
  },
  {
   "cell_type": "code",
   "execution_count": 192,
   "id": "e75ea1ba",
   "metadata": {},
   "outputs": [
    {
     "data": {
      "text/plain": [
       "'Frankreich'"
      ]
     },
     "execution_count": 192,
     "metadata": {},
     "output_type": "execute_result"
    }
   ],
   "source": [
    "Laender[1]"
   ]
  },
  {
   "cell_type": "markdown",
   "id": "10b5bc61",
   "metadata": {},
   "source": [
    "`letztes Element: [-1]`"
   ]
  },
  {
   "cell_type": "code",
   "execution_count": 193,
   "id": "9b5b3b0c",
   "metadata": {},
   "outputs": [
    {
     "data": {
      "text/plain": [
       "'Polen'"
      ]
     },
     "execution_count": 193,
     "metadata": {},
     "output_type": "execute_result"
    }
   ],
   "source": [
    "Laender[-1]"
   ]
  },
  {
   "cell_type": "markdown",
   "id": "85f6b0c4",
   "metadata": {},
   "source": [
    "`vorletztes Element: [-1]`"
   ]
  },
  {
   "cell_type": "code",
   "execution_count": 194,
   "id": "794e9505",
   "metadata": {},
   "outputs": [
    {
     "data": {
      "text/plain": [
       "'Schweden'"
      ]
     },
     "execution_count": 194,
     "metadata": {},
     "output_type": "execute_result"
    }
   ],
   "source": [
    "Laender[-2]"
   ]
  },
  {
   "cell_type": "markdown",
   "id": "e356ad8d",
   "metadata": {},
   "source": [
    "`Erstes bis drittes Element [0:3]` <br>\n",
    "**erste Indexzahl ist inklusive, die zweite ist exklusive!!**"
   ]
  },
  {
   "cell_type": "code",
   "execution_count": 195,
   "id": "93e426fd",
   "metadata": {},
   "outputs": [
    {
     "data": {
      "text/plain": [
       "('USA', 'Frankreich', 'Schweden')"
      ]
     },
     "execution_count": 195,
     "metadata": {},
     "output_type": "execute_result"
    }
   ],
   "source": [
    "Laender[0:3]"
   ]
  },
  {
   "cell_type": "markdown",
   "id": "fda84060",
   "metadata": {},
   "source": [
    "`Alle ab dem zweiten Element` [1:]"
   ]
  },
  {
   "cell_type": "code",
   "execution_count": 196,
   "id": "4dd1ce00",
   "metadata": {},
   "outputs": [
    {
     "data": {
      "text/plain": [
       "('Frankreich', 'Schweden', 'Polen')"
      ]
     },
     "execution_count": 196,
     "metadata": {},
     "output_type": "execute_result"
    }
   ],
   "source": [
    "Laender[1:]"
   ]
  },
  {
   "cell_type": "markdown",
   "id": "8eaef753",
   "metadata": {},
   "source": [
    "`Alle bis zum zweiten Element` [:2]"
   ]
  },
  {
   "cell_type": "code",
   "execution_count": 197,
   "id": "a8d3b400",
   "metadata": {},
   "outputs": [
    {
     "data": {
      "text/plain": [
       "('USA', 'Frankreich')"
      ]
     },
     "execution_count": 197,
     "metadata": {},
     "output_type": "execute_result"
    }
   ],
   "source": [
    "Laender[:2]"
   ]
  }
 ],
 "metadata": {
  "kernelspec": {
   "display_name": "Python 3",
   "language": "python",
   "name": "python3"
  },
  "language_info": {
   "codemirror_mode": {
    "name": "ipython",
    "version": 3
   },
   "file_extension": ".py",
   "mimetype": "text/x-python",
   "name": "python",
   "nbconvert_exporter": "python",
   "pygments_lexer": "ipython3",
   "version": "3.8.5"
  }
 },
 "nbformat": 4,
 "nbformat_minor": 5
}
