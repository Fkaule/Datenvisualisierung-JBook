{
 "cells": [
  {
   "cell_type": "markdown",
   "id": "651fa40f",
   "metadata": {},
   "source": [
    "# Lists\n",
    "\n",
    "- `Lists` werden mit `eckigen Klammern []` definiert und Elemente werden durch ein `Komma ,` getrennt "
   ]
  },
  {
   "cell_type": "markdown",
   "id": "6d0b95cf",
   "metadata": {},
   "source": [
    "## Listen definieren"
   ]
  },
  {
   "cell_type": "markdown",
   "id": "e7245a76",
   "metadata": {},
   "source": [
    "`leere Liste`"
   ]
  },
  {
   "cell_type": "code",
   "execution_count": 156,
   "id": "c9a82922",
   "metadata": {},
   "outputs": [
    {
     "name": "stdout",
     "output_type": "stream",
     "text": [
      "[]\n"
     ]
    }
   ],
   "source": [
    "Laender = []\n",
    "print(Laender)"
   ]
  },
  {
   "cell_type": "code",
   "execution_count": 157,
   "id": "ccf9eb09",
   "metadata": {},
   "outputs": [
    {
     "name": "stdout",
     "output_type": "stream",
     "text": [
      "[]\n"
     ]
    }
   ],
   "source": [
    "Laender = list()\n",
    "print(Laender)"
   ]
  },
  {
   "cell_type": "markdown",
   "id": "33f4457e",
   "metadata": {},
   "source": [
    "`mit Inhalt`"
   ]
  },
  {
   "cell_type": "code",
   "execution_count": 158,
   "id": "0abb1423",
   "metadata": {},
   "outputs": [
    {
     "name": "stdout",
     "output_type": "stream",
     "text": [
      "['USA', 'Frankreich', 'Schweden', 'Polen']\n"
     ]
    }
   ],
   "source": [
    "Laender = [\"USA\",\"Frankreich\",\"Schweden\",\"Polen\"]\n",
    "print(Laender)"
   ]
  },
  {
   "cell_type": "code",
   "execution_count": 159,
   "id": "3f9f3b01",
   "metadata": {},
   "outputs": [
    {
     "name": "stdout",
     "output_type": "stream",
     "text": [
      "[4, 2, 1, 5, 6]\n"
     ]
    }
   ],
   "source": [
    "Zahlen = [4,2,1,5,6]\n",
    "print(Zahlen)"
   ]
  },
  {
   "cell_type": "markdown",
   "id": "1ccd76e1",
   "metadata": {},
   "source": [
    "## Länge der Listen bestimmen\n",
    "\n",
    "mit `len()` wird die Anzahl der Elemente einer Liste bestimmt"
   ]
  },
  {
   "cell_type": "code",
   "execution_count": 160,
   "id": "b59ea251",
   "metadata": {},
   "outputs": [
    {
     "data": {
      "text/plain": [
       "5"
      ]
     },
     "execution_count": 160,
     "metadata": {},
     "output_type": "execute_result"
    }
   ],
   "source": [
    "len(Zahlen)"
   ]
  },
  {
   "cell_type": "markdown",
   "id": "f99448e1",
   "metadata": {},
   "source": [
    "## Index des Elements in Liste bestimmen\n",
    "\n",
    "`index()`"
   ]
  },
  {
   "cell_type": "code",
   "execution_count": 161,
   "id": "d23dafe3",
   "metadata": {},
   "outputs": [
    {
     "data": {
      "text/plain": [
       "1"
      ]
     },
     "execution_count": 161,
     "metadata": {},
     "output_type": "execute_result"
    }
   ],
   "source": [
    "Laender.index(\"Frankreich\")"
   ]
  },
  {
   "cell_type": "markdown",
   "id": "53957312",
   "metadata": {},
   "source": [
    "## Listen-Elemente abrufen\n",
    "\n",
    "Der `Index` der Listelemente beginnt bei 0"
   ]
  },
  {
   "cell_type": "markdown",
   "id": "9b401fc6",
   "metadata": {},
   "source": [
    "`erstes Element: [0]`"
   ]
  },
  {
   "cell_type": "code",
   "execution_count": 162,
   "id": "1fc5b6de",
   "metadata": {},
   "outputs": [
    {
     "data": {
      "text/plain": [
       "'USA'"
      ]
     },
     "execution_count": 162,
     "metadata": {},
     "output_type": "execute_result"
    }
   ],
   "source": [
    "Laender[0]"
   ]
  },
  {
   "cell_type": "markdown",
   "id": "e91e503a",
   "metadata": {},
   "source": [
    "`zweites Element: [1]`"
   ]
  },
  {
   "cell_type": "code",
   "execution_count": 163,
   "id": "180a7da0",
   "metadata": {},
   "outputs": [
    {
     "data": {
      "text/plain": [
       "'Frankreich'"
      ]
     },
     "execution_count": 163,
     "metadata": {},
     "output_type": "execute_result"
    }
   ],
   "source": [
    "Laender[1]"
   ]
  },
  {
   "cell_type": "markdown",
   "id": "d00f3e16",
   "metadata": {},
   "source": [
    "`letztes Element: [-1]`"
   ]
  },
  {
   "cell_type": "code",
   "execution_count": 164,
   "id": "86ee8995",
   "metadata": {},
   "outputs": [
    {
     "data": {
      "text/plain": [
       "'Polen'"
      ]
     },
     "execution_count": 164,
     "metadata": {},
     "output_type": "execute_result"
    }
   ],
   "source": [
    "Laender[-1]"
   ]
  },
  {
   "cell_type": "markdown",
   "id": "30e99e6c",
   "metadata": {},
   "source": [
    "`vorletztes Element: [-1]`"
   ]
  },
  {
   "cell_type": "code",
   "execution_count": 165,
   "id": "b6d9a5ac",
   "metadata": {},
   "outputs": [
    {
     "data": {
      "text/plain": [
       "'Schweden'"
      ]
     },
     "execution_count": 165,
     "metadata": {},
     "output_type": "execute_result"
    }
   ],
   "source": [
    "Laender[-2]"
   ]
  },
  {
   "cell_type": "markdown",
   "id": "4cebe086",
   "metadata": {},
   "source": [
    "`Erstes bis drittes Element [0:3]` <br>\n",
    "**erste Indexzahl ist inklusive, die zweite ist exklusive!!**"
   ]
  },
  {
   "cell_type": "code",
   "execution_count": 166,
   "id": "8f34b0f4",
   "metadata": {},
   "outputs": [
    {
     "data": {
      "text/plain": [
       "['USA', 'Frankreich', 'Schweden']"
      ]
     },
     "execution_count": 166,
     "metadata": {},
     "output_type": "execute_result"
    }
   ],
   "source": [
    "Laender[0:3]"
   ]
  },
  {
   "cell_type": "markdown",
   "id": "02b0e588",
   "metadata": {},
   "source": [
    "`Alle ab dem zweiten Element` [1:]"
   ]
  },
  {
   "cell_type": "code",
   "execution_count": 167,
   "id": "4b08cb3c",
   "metadata": {},
   "outputs": [
    {
     "data": {
      "text/plain": [
       "['Frankreich', 'Schweden', 'Polen']"
      ]
     },
     "execution_count": 167,
     "metadata": {},
     "output_type": "execute_result"
    }
   ],
   "source": [
    "Laender[1:]"
   ]
  },
  {
   "cell_type": "markdown",
   "id": "fcfaeaf6",
   "metadata": {},
   "source": [
    "`Alle bis zum zweiten Element` [:2]"
   ]
  },
  {
   "cell_type": "code",
   "execution_count": 168,
   "id": "f2b2d5b2",
   "metadata": {},
   "outputs": [
    {
     "data": {
      "text/plain": [
       "['USA', 'Frankreich']"
      ]
     },
     "execution_count": 168,
     "metadata": {},
     "output_type": "execute_result"
    }
   ],
   "source": [
    "Laender[:2]"
   ]
  },
  {
   "cell_type": "markdown",
   "id": "be9380aa",
   "metadata": {},
   "source": [
    "## Listen-Elemente hinzufügen"
   ]
  },
  {
   "cell_type": "markdown",
   "id": "3d40a51d",
   "metadata": {},
   "source": [
    "`append()` mit einem Element"
   ]
  },
  {
   "cell_type": "code",
   "execution_count": 169,
   "id": "a18f493a",
   "metadata": {},
   "outputs": [
    {
     "name": "stdout",
     "output_type": "stream",
     "text": [
      "['USA', 'Frankreich', 'Schweden', 'Polen', 'Schweiz']\n"
     ]
    }
   ],
   "source": [
    "Laender.append('Schweiz')\n",
    "print(Laender)"
   ]
  },
  {
   "cell_type": "markdown",
   "id": "bfbcc364",
   "metadata": {},
   "source": [
    "`append()` mit zwei Elementen (also einer neuen Liste) <br>\n",
    "**Erstellt eine List innerhalb einer Liste!**"
   ]
  },
  {
   "cell_type": "code",
   "execution_count": 170,
   "id": "c4765363",
   "metadata": {},
   "outputs": [
    {
     "name": "stdout",
     "output_type": "stream",
     "text": [
      "['USA', 'Frankreich', 'Schweden', 'Polen', 'Schweiz', ['Japan', 'China']]\n"
     ]
    }
   ],
   "source": [
    "Laender.append(['Japan','China'])\n",
    "print(Laender)"
   ]
  },
  {
   "cell_type": "markdown",
   "id": "4324bad8",
   "metadata": {},
   "source": [
    "`extend()` mit einem Listenelement --> gleiche Ergebnis wie mit `append()`"
   ]
  },
  {
   "cell_type": "code",
   "execution_count": 171,
   "id": "1b80ef58",
   "metadata": {},
   "outputs": [
    {
     "name": "stdout",
     "output_type": "stream",
     "text": [
      "['USA', 'Frankreich', 'Schweden', 'Polen', 'Schweiz', ['Japan', 'China'], 'Ukraine']\n"
     ]
    }
   ],
   "source": [
    "Laender.extend(['Ukraine'])\n",
    "print(Laender)"
   ]
  },
  {
   "cell_type": "markdown",
   "id": "2de46fc0",
   "metadata": {},
   "source": [
    "`extend()` mit zwei Listenelementen --> fügt auch mehrere Element hinzu ohne Liste innerhalb einer Liste zu erstellen"
   ]
  },
  {
   "cell_type": "code",
   "execution_count": 172,
   "id": "97f4fd81",
   "metadata": {},
   "outputs": [
    {
     "name": "stdout",
     "output_type": "stream",
     "text": [
      "['USA', 'Frankreich', 'Schweden', 'Polen', 'Schweiz', ['Japan', 'China'], 'Ukraine', 'Mexiko', 'Kanada']\n"
     ]
    }
   ],
   "source": [
    "Laender.extend(['Mexiko','Kanada'])\n",
    "print(Laender)"
   ]
  },
  {
   "cell_type": "markdown",
   "id": "54032c0c",
   "metadata": {},
   "source": [
    "`insert()` fügt ein Element an einer definierten Position hinzu"
   ]
  },
  {
   "cell_type": "code",
   "execution_count": 173,
   "id": "2a1c7adc",
   "metadata": {},
   "outputs": [
    {
     "name": "stdout",
     "output_type": "stream",
     "text": [
      "vor insert:  ['USA', 'Frankreich', 'Schweden', 'Polen', 'Schweiz', ['Japan', 'China'], 'Ukraine', 'Mexiko', 'Kanada'] \n",
      "\n",
      "nach insert:  ['USA', 'Frankreich', 'Südafkrika', 'Schweden', 'Polen', 'Schweiz', ['Japan', 'China'], 'Ukraine', 'Mexiko', 'Kanada']\n"
     ]
    }
   ],
   "source": [
    "print('vor insert: ',Laender,'\\n')\n",
    "Laender.insert(2,'Südafkrika')\n",
    "print('nach insert: ',Laender)"
   ]
  },
  {
   "cell_type": "markdown",
   "id": "c97741f5",
   "metadata": {},
   "source": [
    "## Listen-Elemente entfernen"
   ]
  },
  {
   "cell_type": "markdown",
   "id": "c85f6a78",
   "metadata": {},
   "source": [
    "mit `remove` kann ein Element entfernt werden"
   ]
  },
  {
   "cell_type": "code",
   "execution_count": 174,
   "id": "dcb7ac04",
   "metadata": {},
   "outputs": [
    {
     "name": "stdout",
     "output_type": "stream",
     "text": [
      "vor remove:  ['USA', 'Frankreich', 'Südafkrika', 'Schweden', 'Polen', 'Schweiz', ['Japan', 'China'], 'Ukraine', 'Mexiko', 'Kanada'] \n",
      "\n",
      "nach remove:  ['USA', 'Frankreich', 'Schweden', 'Polen', 'Schweiz', ['Japan', 'China'], 'Ukraine', 'Mexiko', 'Kanada']\n"
     ]
    }
   ],
   "source": [
    "print('vor remove: ',Laender,'\\n')\n",
    "Laender.remove('Südafkrika')\n",
    "print('nach remove: ',Laender)"
   ]
  },
  {
   "cell_type": "markdown",
   "id": "b72a4172",
   "metadata": {},
   "source": [
    "`pop()` entfernt Element mit dem jeweiligen Index und gibt diese gleich aus"
   ]
  },
  {
   "cell_type": "code",
   "execution_count": 175,
   "id": "b675f87d",
   "metadata": {},
   "outputs": [
    {
     "name": "stdout",
     "output_type": "stream",
     "text": [
      "Vor pop:  ['USA', 'Frankreich', 'Schweden', 'Polen', 'Schweiz', ['Japan', 'China'], 'Ukraine', 'Mexiko', 'Kanada'] \n",
      "\n",
      "entferntes Element:  ['Japan', 'China'] \n",
      "\n",
      "nach pop:  ['USA', 'Frankreich', 'Schweden', 'Polen', 'Schweiz', 'Ukraine', 'Mexiko', 'Kanada']\n"
     ]
    }
   ],
   "source": [
    "print('Vor pop: ',Laender,'\\n')\n",
    "Laender_dropped = Laender.pop(5)\n",
    "print('entferntes Element: ',Laender_dropped,'\\n')\n",
    "print('nach pop: ',Laender)"
   ]
  },
  {
   "cell_type": "markdown",
   "id": "1f6b03be",
   "metadata": {},
   "source": [
    "## Listen sortierten"
   ]
  },
  {
   "cell_type": "markdown",
   "id": "8c4db326",
   "metadata": {},
   "source": [
    "`reverse()` invertiert die Reihenfolge"
   ]
  },
  {
   "cell_type": "code",
   "execution_count": 176,
   "id": "4f9add4f",
   "metadata": {},
   "outputs": [
    {
     "name": "stdout",
     "output_type": "stream",
     "text": [
      "['Kanada', 'Mexiko', 'Ukraine', 'Schweiz', 'Polen', 'Schweden', 'Frankreich', 'USA']\n"
     ]
    }
   ],
   "source": [
    "Laender.reverse()\n",
    "print(Laender)"
   ]
  },
  {
   "cell_type": "markdown",
   "id": "8cf60f43",
   "metadata": {},
   "source": [
    "`sort()` sortiert aufsteigend"
   ]
  },
  {
   "cell_type": "code",
   "execution_count": 177,
   "id": "4c5a25b4",
   "metadata": {},
   "outputs": [
    {
     "name": "stdout",
     "output_type": "stream",
     "text": [
      "['Frankreich', 'Kanada', 'Mexiko', 'Polen', 'Schweden', 'Schweiz', 'USA', 'Ukraine']\n"
     ]
    }
   ],
   "source": [
    "Laender.sort()\n",
    "print(Laender)"
   ]
  },
  {
   "cell_type": "code",
   "execution_count": 178,
   "id": "8441a0ef",
   "metadata": {},
   "outputs": [
    {
     "name": "stdout",
     "output_type": "stream",
     "text": [
      "[1, 2, 4, 5, 6]\n"
     ]
    }
   ],
   "source": [
    "Zahlen.sort()\n",
    "print(Zahlen)"
   ]
  },
  {
   "cell_type": "markdown",
   "id": "bfb7c198",
   "metadata": {},
   "source": [
    "`sort(reverse=True)` sortiert absteigend"
   ]
  },
  {
   "cell_type": "code",
   "execution_count": 179,
   "id": "89035f4d",
   "metadata": {},
   "outputs": [
    {
     "name": "stdout",
     "output_type": "stream",
     "text": [
      "['Ukraine', 'USA', 'Schweiz', 'Schweden', 'Polen', 'Mexiko', 'Kanada', 'Frankreich']\n"
     ]
    }
   ],
   "source": [
    "Laender.sort(reverse=True)\n",
    "print(Laender)"
   ]
  },
  {
   "cell_type": "code",
   "execution_count": 180,
   "id": "36c03513",
   "metadata": {},
   "outputs": [
    {
     "name": "stdout",
     "output_type": "stream",
     "text": [
      "[6, 5, 4, 2, 1]\n"
     ]
    }
   ],
   "source": [
    "Zahlen.sort(reverse=True)\n",
    "print(Zahlen)"
   ]
  },
  {
   "cell_type": "markdown",
   "id": "d7aec7f7",
   "metadata": {},
   "source": [
    "## Sonderfall: `string` in `List` umwandeln\n",
    "\n",
    "Um ein string kann es hilfreich sein diesen mit `split()` in eine Liste aufzuteilen"
   ]
  },
  {
   "cell_type": "code",
   "execution_count": 181,
   "id": "94a9e802",
   "metadata": {},
   "outputs": [
    {
     "data": {
      "text/plain": [
       "['20', '01', '1996']"
      ]
     },
     "execution_count": 181,
     "metadata": {},
     "output_type": "execute_result"
    }
   ],
   "source": [
    "Datum=\"20.01.1996\"\n",
    "Datum.split(\".\")"
   ]
  },
  {
   "cell_type": "code",
   "execution_count": 182,
   "id": "d384b319",
   "metadata": {},
   "outputs": [
    {
     "name": "stdout",
     "output_type": "stream",
     "text": [
      "20\n",
      "01\n",
      "1996\n"
     ]
    }
   ],
   "source": [
    "Tag = Datum.split(\".\")[0]\n",
    "Monat = Datum.split(\".\")[1]\n",
    "Jahr = Datum.split(\".\")[2]\n",
    "print(Tag)\n",
    "print(Monat)\n",
    "print(Jahr)"
   ]
  },
  {
   "cell_type": "markdown",
   "id": "1db576e5",
   "metadata": {},
   "source": [
    "mit `join()` können diese dann wieder zusammengefügt werden"
   ]
  },
  {
   "cell_type": "code",
   "execution_count": 183,
   "id": "7efbf7fb",
   "metadata": {},
   "outputs": [
    {
     "data": {
      "text/plain": [
       "'20.01.1996'"
      ]
     },
     "execution_count": 183,
     "metadata": {},
     "output_type": "execute_result"
    }
   ],
   "source": [
    "'.'.join([Tag,Monat,Jahr])"
   ]
  },
  {
   "cell_type": "markdown",
   "id": "5b74c6d5",
   "metadata": {},
   "source": [
    "oder auch:"
   ]
  },
  {
   "cell_type": "code",
   "execution_count": 184,
   "id": "e8b92bb0",
   "metadata": {},
   "outputs": [
    {
     "data": {
      "text/plain": [
       "['20', '01', '1996']"
      ]
     },
     "execution_count": 184,
     "metadata": {},
     "output_type": "execute_result"
    }
   ],
   "source": [
    "Datum.split(\".\")"
   ]
  },
  {
   "cell_type": "markdown",
   "id": "ad447eb9",
   "metadata": {},
   "source": [
    "## Prüfen ob Element in Liste ist (Membership test)\n",
    "\n",
    "<div class=\"alert alert-block alert-warning\">\n",
    "<b>Hinweis:</b> für diese Art von Abfragen sind  `sets` deutlich effizienter\n",
    "</div>"
   ]
  },
  {
   "cell_type": "code",
   "execution_count": 189,
   "id": "1fff2136",
   "metadata": {},
   "outputs": [
    {
     "data": {
      "text/plain": [
       "True"
      ]
     },
     "execution_count": 189,
     "metadata": {},
     "output_type": "execute_result"
    }
   ],
   "source": [
    "'Schweden' in Laender"
   ]
  },
  {
   "cell_type": "code",
   "execution_count": 190,
   "id": "0d287a6d",
   "metadata": {},
   "outputs": [
    {
     "data": {
      "text/plain": [
       "False"
      ]
     },
     "execution_count": 190,
     "metadata": {},
     "output_type": "execute_result"
    }
   ],
   "source": [
    "'Deutschland' in Laender"
   ]
  },
  {
   "cell_type": "markdown",
   "id": "021cab82",
   "metadata": {},
   "source": [
    "## Schleifen über Listen"
   ]
  },
  {
   "cell_type": "markdown",
   "id": "088bacd2",
   "metadata": {},
   "source": [
    "`ohne Index`"
   ]
  },
  {
   "cell_type": "code",
   "execution_count": 185,
   "id": "ec57dd17",
   "metadata": {},
   "outputs": [
    {
     "name": "stdout",
     "output_type": "stream",
     "text": [
      "Ukraine\n",
      "USA\n",
      "Schweiz\n",
      "Schweden\n",
      "Polen\n",
      "Mexiko\n",
      "Kanada\n",
      "Frankreich\n"
     ]
    }
   ],
   "source": [
    "for Land in Laender:\n",
    "    print(Land)"
   ]
  },
  {
   "cell_type": "markdown",
   "id": "8399d4dc",
   "metadata": {},
   "source": [
    "`mit Index` mit Hilfe von `enumerate()`"
   ]
  },
  {
   "cell_type": "code",
   "execution_count": 186,
   "id": "2b1ee9b8",
   "metadata": {},
   "outputs": [
    {
     "name": "stdout",
     "output_type": "stream",
     "text": [
      "0 Ukraine\n",
      "1 USA\n",
      "2 Schweiz\n",
      "3 Schweden\n",
      "4 Polen\n",
      "5 Mexiko\n",
      "6 Kanada\n",
      "7 Frankreich\n"
     ]
    }
   ],
   "source": [
    "for index,Land in enumerate(Laender):\n",
    "    print(index,Land)"
   ]
  },
  {
   "cell_type": "code",
   "execution_count": null,
   "id": "dae8987f",
   "metadata": {},
   "outputs": [],
   "source": []
  }
 ],
 "metadata": {
  "kernelspec": {
   "display_name": "Python 3",
   "language": "python",
   "name": "python3"
  },
  "language_info": {
   "codemirror_mode": {
    "name": "ipython",
    "version": 3
   },
   "file_extension": ".py",
   "mimetype": "text/x-python",
   "name": "python",
   "nbconvert_exporter": "python",
   "pygments_lexer": "ipython3",
   "version": "3.8.5"
  }
 },
 "nbformat": 4,
 "nbformat_minor": 5
}
