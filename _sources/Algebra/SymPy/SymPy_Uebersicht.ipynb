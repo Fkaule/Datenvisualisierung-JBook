{
 "cells": [
  {
   "cell_type": "markdown",
   "id": "cd69c35e",
   "metadata": {},
   "source": [
    "# SymPy"
   ]
  },
  {
   "cell_type": "markdown",
   "id": "baf7bcbb",
   "metadata": {},
   "source": [
    "\n",
    "[Übersicht von der Uni Göttingen](http://num.math.uni-goettingen.de/pycourse/html/lectures/20_Symbolisches_Rechnen.html)"
   ]
  },
  {
   "cell_type": "code",
   "execution_count": null,
   "id": "274b26ba",
   "metadata": {},
   "outputs": [],
   "source": []
  }
 ],
 "metadata": {
  "kernelspec": {
   "display_name": "Python 3",
   "language": "python",
   "name": "python3"
  },
  "language_info": {
   "codemirror_mode": {
    "name": "ipython",
    "version": 3
   },
   "file_extension": ".py",
   "mimetype": "text/x-python",
   "name": "python",
   "nbconvert_exporter": "python",
   "pygments_lexer": "ipython3",
   "version": "3.8.5"
  }
 },
 "nbformat": 4,
 "nbformat_minor": 5
}
