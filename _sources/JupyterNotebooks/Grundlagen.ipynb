{
 "cells": [
  {
   "cell_type": "markdown",
   "metadata": {
    "slideshow": {
     "slide_type": "slide"
    }
   },
   "source": [
    "# Einführung in Jupyter Notebooks"
   ]
  },
  {
   "cell_type": "markdown",
   "metadata": {
    "slideshow": {
     "slide_type": "slide"
    }
   },
   "source": [
    "## Zellen ausführen\n",
    "\n",
    "Klicken Sie in die darunterliegende Zeile und drücken Sie `Shift` + `Enter` um diese auszuführen"
   ]
  },
  {
   "cell_type": "code",
   "execution_count": 1,
   "metadata": {
    "slideshow": {
     "slide_type": "subslide"
    }
   },
   "outputs": [
    {
     "data": {
      "text/plain": [
       "2"
      ]
     },
     "execution_count": 1,
     "metadata": {},
     "output_type": "execute_result"
    }
   ],
   "source": [
    "1+1"
   ]
  },
  {
   "cell_type": "markdown",
   "metadata": {
    "slideshow": {
     "slide_type": "subslide"
    }
   },
   "source": [
    "Sie haben nun eine Zelle ausgeführt. Sie können auch den `Pfeil` oben benutzen **um eine Zelle auszuführen**\n",
    "\n",
    "Neben der Zelle steht in eckigen Klammern die Nummer die angibt in welcher Reihenfolge die Zellen ausgeführt wurden. Die Reihenfolge ist wichtig, weil diese bestimmt wie die Daten in den Speicher gelesen werden.\n",
    "\n",
    "Führen Sie dazu die drei nachfolgenden Zeilen aus:"
   ]
  },
  {
   "cell_type": "code",
   "execution_count": 2,
   "metadata": {
    "slideshow": {
     "slide_type": "subslide"
    }
   },
   "outputs": [],
   "source": [
    "i = 1"
   ]
  },
  {
   "cell_type": "code",
   "execution_count": 3,
   "metadata": {
    "slideshow": {
     "slide_type": "subslide"
    }
   },
   "outputs": [],
   "source": [
    "i = 2"
   ]
  },
  {
   "cell_type": "code",
   "execution_count": 4,
   "metadata": {
    "slideshow": {
     "slide_type": "subslide"
    }
   },
   "outputs": [
    {
     "name": "stdout",
     "output_type": "stream",
     "text": [
      "2\n"
     ]
    }
   ],
   "source": [
    "print(i)"
   ]
  },
  {
   "cell_type": "markdown",
   "metadata": {
    "slideshow": {
     "slide_type": "subslide"
    }
   },
   "source": [
    "Da die Definition mit i=2 zuletzt gegeben wurde, wird nun durch print(i) auch der letzte Wert ausgegeben"
   ]
  },
  {
   "cell_type": "markdown",
   "metadata": {
    "slideshow": {
     "slide_type": "slide"
    }
   },
   "source": [
    "## Zellen hinzufügen"
   ]
  },
  {
   "cell_type": "markdown",
   "metadata": {
    "slideshow": {
     "slide_type": "subslide"
    }
   },
   "source": [
    "Drücken Sie das `+` Symbol um eine neue Zeile hinzuzufügen"
   ]
  },
  {
   "cell_type": "markdown",
   "metadata": {},
   "source": [
    "klicken Sie links neben den Zeileinput (da wo In []: steht) so das diese `blau` markiert ist und drücken Sie dann `a` (insert `a`bove = fügt **darüber** eine Zeile ein)"
   ]
  },
  {
   "cell_type": "markdown",
   "metadata": {},
   "source": [
    "klicken Sie links neben den Zeileinput (da wo In []: steht) so das diese `blau` markiert ist und drücken Sie dann `b` (insert `b`elow = fügt **darunter** eine Zeile ein)"
   ]
  },
  {
   "cell_type": "markdown",
   "metadata": {},
   "source": [
    "## Zellen löschen\n",
    "\n",
    "Durch das markieren der Zelle und das drücken von `d` + `d` wird die Zelle gelöscht"
   ]
  },
  {
   "cell_type": "markdown",
   "metadata": {},
   "source": [
    "Lösch mich !"
   ]
  },
  {
   "cell_type": "markdown",
   "metadata": {},
   "source": [
    "## Textfeld formatieren (Markdown Syntax)\n",
    "\n",
    "[Jupyter Notebook Markdown Syntax](https://sourceforge.net/p/jupiter/wiki/markdown_syntax/)\n",
    "\n",
    "klicken Sie links neben den Zeileinput (da wo In []: steht) so das diese `blau` markiert ist und drücken Sie dann `m`. Alternativ können Sie nach dem markieren der Zelle auch oben (wo `Code` steht) den Typ `Markdown` auswählen.\n",
    "\n",
    "Sie haben nun eine Zelle erstellt in der Sie den `Markdown` Syntax verwenden können:\n",
    "\n",
    "Durch das Ausführen der Zelle (`Shift` + `Enter`) wird der Text dann angezeigt"
   ]
  },
  {
   "cell_type": "markdown",
   "metadata": {},
   "source": [
    "### Überschriften\n",
    "\n",
    "(alternativ können Sie die markierte Zelle durch drücken der Tasten `1` , `2` oder `3` eine Überschriftsebene erstellen):\n",
    "\n",
    "`# Überschrift 1. Test` \n",
    "\n",
    "`## Überschrift 1. Test`\n",
    "\n",
    "`### Überschrift 1. Test`\n"
   ]
  },
  {
   "cell_type": "markdown",
   "metadata": {},
   "source": []
  },
  {
   "cell_type": "markdown",
   "metadata": {},
   "source": [
    "### Textformatierung \n",
    "\n",
    "`* Kursiv *` * Kursiv * \n",
    "\n",
    "`** Fett **` ** Fett ** \n",
    "\n",
    "`*** Fett+Kursiv ***` *** Fett+Kursiv *** \n",
    "\n"
   ]
  },
  {
   "cell_type": "markdown",
   "metadata": {},
   "source": []
  },
  {
   "cell_type": "markdown",
   "metadata": {},
   "source": [
    "### Nummerierung + Listen \n",
    "\n",
    "`- Liste `\n",
    "\n",
    "`- Liste `\n",
    "\n",
    "- Liste\n",
    "- Liste\n",
    "\n",
    "\n",
    "`1. Nummerierung `\n",
    "\n",
    "`2. Nummerierung`\n",
    "\n",
    "1. Nummerierung\n",
    "2. Nummerierung\n",
    "\n",
    "`[ ] Checkbox` [ ] Checkbox\n",
    "\n",
    "`[x] Checkbox` [x] Checkbox\n",
    "\n"
   ]
  },
  {
   "cell_type": "markdown",
   "metadata": {},
   "source": []
  },
  {
   "cell_type": "markdown",
   "metadata": {},
   "source": [
    "### Tabellen\n",
    "```\n",
    "First Header  | Second Header`\n",
    "  ------------- | -------------`\n",
    "  Content Cell  | Content Cell`\n",
    "  Content Cell  | Content Cell`\n",
    "```\n",
    "\n",
    "\n",
    "  First Header  | Second Header\n",
    "  ------------- | -------------\n",
    "  Content Cell  | Content Cell\n",
    "  Content Cell  | Content Cell"
   ]
  },
  {
   "cell_type": "markdown",
   "metadata": {},
   "source": []
  },
  {
   "cell_type": "markdown",
   "metadata": {},
   "source": [
    "### Bilder \n",
    "\n",
    "`![Alternativtext](https://jupyter.org/assets/nav_logo.svg)`\n",
    "\n",
    "![Alternativtext](https://jupyter.org/assets/nav_logo.svg)\n",
    "\n"
   ]
  },
  {
   "cell_type": "markdown",
   "metadata": {},
   "source": []
  },
  {
   "cell_type": "markdown",
   "metadata": {},
   "source": [
    "### Links\n",
    "\n",
    "`[HTWK Leipzig](http://www.htwk-leipzig.de)`\n",
    "\n",
    "[HTWK Leipzig](http://www.htwk-leipzig.de)\n",
    "\n",
    "\n",
    "```\n",
    "Das ist ein Beispieltext mit Referenzen[Ref1][1] . Das ist ein Beispieltext mit Referenzen [Ref2][2].\n",
    "Die Links können dann darunter stehen\n",
    "\n",
    "   [1]: http://www.jupyter.org\n",
    "   [2]: http://www.htwk-leipzig.de\n",
    "```\n",
    "\n",
    "Das ist ein Beispieltext mit Referenzen [Ref1][1] . Das ist ein Beispieltext mit Referenzen [Ref2][2].\n",
    "Die Links können dann darunter stehen\n",
    "\n",
    "   [1]: http://www.jupyter.org\n",
    "   [2]: http://www.htwk-leipzig.de\n"
   ]
  },
  {
   "cell_type": "markdown",
   "metadata": {},
   "source": []
  },
  {
   "cell_type": "markdown",
   "metadata": {},
   "source": [
    "### Code \n",
    "\n",
    "```\n",
    "Ein Codeelement mit dem Einschluss von Anführungszeichen: also so `Code` dargestellt werden\n",
    "\n",
    "```\n",
    "\n",
    "Ein `Codeelement` der Rest ist Text\n",
    "\n",
    "\n",
    "```\n",
    "Mehrere Codezeilen werden durch drei Anführungszeichen zu Beginn und drei zum Ende definiert\n",
    "```\n",
    "\n",
    " \n",
    "\n"
   ]
  },
  {
   "cell_type": "code",
   "execution_count": null,
   "metadata": {},
   "outputs": [],
   "source": []
  }
 ],
 "metadata": {
  "celltoolbar": "Slideshow",
  "kernelspec": {
   "display_name": "Python 3",
   "language": "python",
   "name": "python3"
  },
  "language_info": {
   "codemirror_mode": {
    "name": "ipython",
    "version": 3
   },
   "file_extension": ".py",
   "mimetype": "text/x-python",
   "name": "python",
   "nbconvert_exporter": "python",
   "pygments_lexer": "ipython3",
   "version": "3.8.5"
  },
  "toc-autonumbering": true
 },
 "nbformat": 4,
 "nbformat_minor": 4
}
