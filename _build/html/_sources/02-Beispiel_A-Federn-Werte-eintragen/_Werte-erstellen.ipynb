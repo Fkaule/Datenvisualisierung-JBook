{
 "cells": [
  {
   "cell_type": "markdown",
   "metadata": {},
   "source": [
    "# Daten haendisch eingeben\n"
   ]
  },
  {
   "cell_type": "markdown",
   "metadata": {},
   "source": [
    "# Vorlauf zum Datenerzeugen"
   ]
  },
  {
   "cell_type": "markdown",
   "metadata": {},
   "source": [
    "### Federkonstanten"
   ]
  },
  {
   "cell_type": "code",
   "execution_count": null,
   "metadata": {},
   "outputs": [],
   "source": [
    "c1 = 0.55 # N/mm\n",
    "c2 = 0.6 # N/mmh\n",
    "c3 = 0.9 # N/mm"
   ]
  },
  {
   "cell_type": "markdown",
   "metadata": {},
   "source": [
    "### Daten erzeugen"
   ]
  },
  {
   "cell_type": "code",
   "execution_count": null,
   "metadata": {},
   "outputs": [],
   "source": [
    "import numpy as np\n",
    "\n",
    "#Weg\n",
    "Weglaenge = 10 # mm\n",
    "Wegschritt = 2.5 # mm\n",
    "Weg = np.arange(0, Weglaenge+Wegschritt, Wegschritt)\n",
    "Weg"
   ]
  },
  {
   "cell_type": "code",
   "execution_count": null,
   "metadata": {},
   "outputs": [],
   "source": [
    "#Kraft\n",
    "mu, sigma = 0, 0.1 # Mittelwert und Standardabweichung für Rauschen\n",
    "Kraft = np.linspace(0, Weglaenge*c1, int(Weglaenge/Wegschritt)+1)"
   ]
  },
  {
   "cell_type": "code",
   "execution_count": null,
   "metadata": {},
   "outputs": [],
   "source": [
    "#Messung 1\n",
    "noise = np.random.normal(mu, sigma, int(Weglaenge/Wegschritt)+1)\n",
    "Kraftmessung1 = Kraft + noise\n",
    "Kraftmessung1[0] = 0 # ersten Wert Null setzen\n",
    "Kraftmessung1 = np.around(Kraftmessung1, 1) # Werte runden\n",
    "Kraftmessung1"
   ]
  },
  {
   "cell_type": "code",
   "execution_count": null,
   "metadata": {},
   "outputs": [],
   "source": [
    "#Messung 2\n",
    "noise = np.random.normal(mu, sigma, int(Weglaenge/Wegschritt)+1)\n",
    "Kraftmessung2 = Kraft + noise\n",
    "Kraftmessung2[0] = 0 # ersten Wert Null setzen\n",
    "Kraftmessung2 = np.around(Kraftmessung2, 1) # Werte runden\n",
    "Kraftmessung2"
   ]
  },
  {
   "cell_type": "markdown",
   "metadata": {},
   "source": [
    "# Eine Messung plotten"
   ]
  },
  {
   "cell_type": "markdown",
   "metadata": {},
   "source": [
    "### Bibliotheken Import und Daten haendisch eingeben"
   ]
  },
  {
   "cell_type": "markdown",
   "metadata": {},
   "source": [
    "- Einladen der `Matplotlib` Bibliothek\n",
    "- Daten als Liste einlesen"
   ]
  },
  {
   "cell_type": "code",
   "execution_count": 1,
   "metadata": {},
   "outputs": [],
   "source": [
    "# Bilbiothek importieren\n",
    "from matplotlib import pyplot as plt\n",
    "\n",
    "# Daten eingeben\n",
    "Weg = [ 0 ,  2.5,  5 ,  7.5, 10 ]\n",
    "Kraftmessung1 = [0. , 1.3, 2.8, 4.1, 5.5]\n",
    "\n"
   ]
  },
  {
   "cell_type": "markdown",
   "metadata": {},
   "source": [
    "### Erster Plot"
   ]
  },
  {
   "cell_type": "code",
   "execution_count": 6,
   "metadata": {},
   "outputs": [
    {
     "data": {
      "image/png": "[encoded data removed]",
      "text/plain": [
       "<Figure size 432x288 with 1 Axes>"
      ]
     },
     "metadata": {
      "needs_background": "light"
     },
     "output_type": "display_data"
    }
   ],
   "source": [
    "# Plotten\n",
    "plt.plot(Weg, Kraftmessung1);"
   ]
  },
  {
   "cell_type": "code",
   "execution_count": 8,
   "metadata": {},
   "outputs": [
    {
     "name": "stdout",
     "output_type": "stream",
     "text": [
      "test2\n"
     ]
    }
   ],
   "source": [
    "print(\"test2\")"
   ]
  },
  {
   "cell_type": "markdown",
   "metadata": {},
   "source": [
    "### Beschriftung hinzufügen"
   ]
  },
  {
   "cell_type": "code",
   "execution_count": null,
   "metadata": {},
   "outputs": [],
   "source": [
    "#Beschriftung\n",
    "plt.xlabel(\"Weg [mm]\") \n",
    "plt.ylabel(\"Kraft [N]\")\n",
    "plt.title(\"Erste Messung von Feder 1\")\n",
    "plt.plot(Weg, Kraftmessung1);"
   ]
  },
  {
   "cell_type": "markdown",
   "metadata": {},
   "source": [
    "### Gitter / Linie mit Punkten / Beginn x/y-Achse"
   ]
  },
  {
   "cell_type": "code",
   "execution_count": null,
   "metadata": {},
   "outputs": [],
   "source": [
    "#Beschriftung\n",
    "plt.xlabel(\"Weg [mm]\")\n",
    "plt.ylabel(\"Kraft [N]\")\n",
    "plt.title(\"Erste Messung von Feder 1\")\n",
    "\n",
    "#Gitter + Linienanpassung\n",
    "plt.grid()\n",
    "plt.plot(Weg, Kraftmessung1,\"o-\"); #Linie mit Markierungen\n",
    "\n",
    "#Änderung des Anzeigebereichs muss nach dem plotten erfolgen\n",
    "plt.ylim(bottom=0) # y-Achse soll ganz unten beginnen\n",
    "plt.xlim(left=0) # x-Achse soll ganz links beginnen\n",
    "\n"
   ]
  },
  {
   "cell_type": "markdown",
   "metadata": {},
   "source": [
    "### Bildgröße und Schriftgroesse"
   ]
  },
  {
   "cell_type": "code",
   "execution_count": null,
   "metadata": {},
   "outputs": [],
   "source": [
    "#Bildgroesse (muss zuerst kommen)\n",
    "plt.figure(figsize=(8,5)) # Größe in inces (Default: 6,4)\n",
    "\n",
    "#Schriftgroesse\n",
    "plt.rcParams.update({'font.size': 20}) \n",
    "\n",
    "#Beschriftung\n",
    "plt.xlabel(\"Weg [mm]\")\n",
    "plt.ylabel(\"Kraft [N]\")\n",
    "plt.title(\"Erste Messung von Feder 1\")\n",
    "\n",
    "#Gitter + Linienanpassung\n",
    "plt.grid()\n",
    "plt.plot(Weg, Kraftmessung1,\"o-\") #Linie mit Markierungen\n",
    "\n",
    "#Änderung des Anzeigebereichs muss nach dem plotten erfolgen\n",
    "plt.ylim(bottom=0) # y-Achse soll ganz unten beginnen\n",
    "plt.xlim(left=0) # x-Achse soll ganz links beginnen"
   ]
  },
  {
   "cell_type": "markdown",
   "metadata": {},
   "source": [
    "### Bild speichern"
   ]
  },
  {
   "cell_type": "code",
   "execution_count": null,
   "metadata": {},
   "outputs": [],
   "source": [
    "#Bildgroesse (muss zuerst kommen)\n",
    "plt.figure(figsize=(8,5)) # Größe in inces (Default: 6,4)\n",
    "\n",
    "#Schriftgroesse\n",
    "plt.rcParams.update({'font.size': 20}) \n",
    "\n",
    "#Beschriftung\n",
    "plt.xlabel(\"Weg [mm]\")\n",
    "plt.ylabel(\"Kraft [N]\")\n",
    "plt.title(\"Erste Messung von Feder 1\")\n",
    "\n",
    "#Gitter + Linienanpassung\n",
    "plt.grid()\n",
    "plt.plot(Weg, Kraftmessung1,\"o-\") #Linie mit Markierungen\n",
    "\n",
    "#Änderung des Anzeigebereichs muss nach dem plotten erfolgen\n",
    "plt.ylim(bottom=0) # y-Achse soll ganz unten beginnen\n",
    "plt.xlim(left=0) # x-Achse soll ganz links beginnen\n",
    "\n",
    "plt.savefig('01-Messung1_Feder1.png')"
   ]
  },
  {
   "cell_type": "markdown",
   "metadata": {},
   "source": [
    "Wird die png wie in unserem Beispiel beschnitten, weil z.B. wie in unserem Fall die Schriftgröße verändert wurde, so kann über den Parameter `bbox_inches='tight'` dies behoben werden "
   ]
  },
  {
   "cell_type": "code",
   "execution_count": null,
   "metadata": {},
   "outputs": [],
   "source": [
    "#Bildgroesse (muss zuerst kommen)\n",
    "plt.figure(figsize=(8,5)) # Größe in inces (Default: 6,4)\n",
    "\n",
    "#Schriftgroesse\n",
    "plt.rcParams.update({'font.size': 20}) \n",
    "\n",
    "#Beschriftung\n",
    "plt.xlabel(\"Weg [mm]\")\n",
    "plt.ylabel(\"Kraft [N]\")\n",
    "plt.title(\"Erste Messung von Feder 1\")\n",
    "\n",
    "#Gitter + Linienanpassung\n",
    "plt.grid()\n",
    "plt.plot(Weg, Kraftmessung1,\"o-\") #Linie mit Markierungen\n",
    "\n",
    "#Änderung des Anzeigebereichs muss nach dem plotten erfolgen\n",
    "plt.ylim(bottom=0) # y-Achse soll ganz unten beginnen\n",
    "plt.xlim(left=0) # x-Achse soll ganz links beginnen\n",
    "\n",
    "plt.savefig('01-Messung1_Feder1_tight.png', bbox_inches='tight')"
   ]
  },
  {
   "cell_type": "markdown",
   "metadata": {},
   "source": [
    "Weiterhin kann durch die Änderung der Endung auch als svg gespeichert werden"
   ]
  },
  {
   "cell_type": "code",
   "execution_count": null,
   "metadata": {},
   "outputs": [],
   "source": [
    "#Bildgroesse (muss zuerst kommen)\n",
    "plt.figure(figsize=(8,5)) # Größe in inces (Default: 6,4)\n",
    "\n",
    "#Schriftgroesse\n",
    "plt.rcParams.update({'font.size': 20}) \n",
    "\n",
    "#Beschriftung\n",
    "plt.xlabel(\"Weg [mm]\")\n",
    "plt.ylabel(\"Kraft [N]\")\n",
    "plt.title(\"Erste Messung von Feder 1\")\n",
    "\n",
    "#Gitter + Linienanpassung\n",
    "plt.grid()\n",
    "plt.plot(Weg, Kraftmessung1,\"o-\") #Linie mit Markierungen\n",
    "\n",
    "#Änderung des Anzeigebereichs muss nach dem plotten erfolgen\n",
    "plt.ylim(bottom=0) # y-Achse soll ganz unten beginnen\n",
    "plt.xlim(left=0) # x-Achse soll ganz links beginnen\n",
    "\n",
    "plt.savefig('01-Messung1_Feder1_tight.svg', bbox_inches='tight')"
   ]
  },
  {
   "cell_type": "markdown",
   "metadata": {},
   "source": [
    "Zuletzt empfiehlt es sich noch die dpi Anzahl auf 200 zu erhöhen um die Bildqualität zu verbessern. Dies geschieht mit der Option `dpi=200` im Befehl `savefig`"
   ]
  },
  {
   "cell_type": "code",
   "execution_count": null,
   "metadata": {},
   "outputs": [],
   "source": [
    "#Bildgroesse (muss zuerst kommen)\n",
    "plt.figure(figsize=(8,5)) # Größe in inces (Default: 6,4)\n",
    "\n",
    "#Schriftgroesse\n",
    "plt.rcParams.update({'font.size': 20}) \n",
    "\n",
    "#Beschriftung\n",
    "plt.xlabel(\"Weg [mm]\")\n",
    "plt.ylabel(\"Kraft [N]\")\n",
    "plt.title(\"Erste Messung von Feder 1\")\n",
    "\n",
    "#Gitter + Linienanpassung\n",
    "plt.grid()\n",
    "plt.plot(Weg, Kraftmessung1,\"o-\") #Linie mit Markierungen\n",
    "\n",
    "#Änderung des Anzeigebereichs muss nach dem plotten erfolgen\n",
    "plt.ylim(bottom=0) # y-Achse soll ganz unten beginnen\n",
    "plt.xlim(left=0) # x-Achse soll ganz links beginnen\n",
    "\n",
    "plt.savefig('01-Messung1_Feder1_tight_200dpi.png', bbox_inches='tight', dpi=200)"
   ]
  },
  {
   "cell_type": "markdown",
   "metadata": {},
   "source": [
    "# zwei Messungen plotten"
   ]
  },
  {
   "cell_type": "markdown",
   "metadata": {},
   "source": [
    "**Hinweis**: Den Import der Matplotlib Bibliothek sowie die Daten sind in Jupyter Notebook bereits hinterlegt, wenn Sie diese vorher bereits aufgerufen haben. Damit die Skripte aber auch alleine ohne die vorherigen Zellen funktionieren wurde dies hier hinzugefügt."
   ]
  },
  {
   "cell_type": "code",
   "execution_count": null,
   "metadata": {},
   "outputs": [],
   "source": [
    "# Bilbiothek importieren\n",
    "from matplotlib import pyplot as plt\n",
    "\n",
    "# Daten eingeben\n",
    "Weg = [ 0 ,  2.5,  5 ,  7.5, 10 ]\n",
    "Kraftmessung1 = [0. , 1.3, 2.8, 4.1, 5.5]\n",
    "Kraftmessung2 = [0. , 1.3, 2.6, 4.2, 5.7]\n",
    "\n",
    "#Bildgroesse (muss zuerst kommen)\n",
    "plt.figure(figsize=(8,5)) # Größe in inces (Default: 6,4)\n",
    "\n",
    "#Schriftgroesse\n",
    "plt.rcParams.update({'font.size': 20}) \n",
    "\n",
    "#Beschriftung\n",
    "plt.xlabel(\"Weg [mm]\")\n",
    "plt.ylabel(\"Kraft [N]\")\n",
    "plt.title(\"Erste und zweite Messung von Feder 1\")\n",
    "\n",
    "#Plots\n",
    "plt.grid()\n",
    "plt.plot(Weg, Kraftmessung1,\"o-\", label=\"1. Messung\") #Plot 1. Messung mit Label für Legende\n",
    "plt.plot(Weg, Kraftmessung2,\"x-\", label=\"2. Messung\") #Plot 2. Messung mit Label für Legende\n",
    "plt.legend() # muss nach plot kommen\n",
    "\n",
    "\n",
    "#Änderung des Anzeigebereichs muss nach dem plotten erfolgen\n",
    "plt.ylim(bottom=0) # y-Achse soll ganz unten beginnen\n",
    "plt.xlim(left=0) # x-Achse soll ganz links beginnen\n",
    "\n",
    "plt.savefig('02-Messung1-2_Feder1.png', bbox_inches='tight', dpi=200)\n"
   ]
  },
  {
   "cell_type": "markdown",
   "metadata": {},
   "source": [
    "Anpassung Linienfarbe und Linienbreite und Symbolgröße"
   ]
  },
  {
   "cell_type": "code",
   "execution_count": null,
   "metadata": {},
   "outputs": [],
   "source": [
    "# Bilbiothek importieren\n",
    "from matplotlib import pyplot as plt\n",
    "\n",
    "# Daten eingeben\n",
    "Weg = [ 0 ,  2.5,  5 ,  7.5, 10 ]\n",
    "Kraftmessung1 = [0. , 1.3, 2.8, 4.1, 5.5]\n",
    "Kraftmessung2 = [0. , 1.3, 2.6, 4.2, 5.7]\n",
    "\n",
    "#Bildgroesse (muss zuerst kommen)\n",
    "plt.figure(figsize=(8,5)) # Größe in inces (Default: 6,4)\n",
    "\n",
    "#Schriftgroesse\n",
    "plt.rcParams.update({'font.size': 20}) \n",
    "\n",
    "#Beschriftung\n",
    "plt.xlabel(\"Weg [mm]\")\n",
    "plt.ylabel(\"Kraft [N]\")\n",
    "plt.title(\"Erste und zweite Messung von Feder 1\")\n",
    "\n",
    "#Plots\n",
    "plt.grid()\n",
    "plt.plot(Weg, Kraftmessung1, marker=\"o\", label=\"1. Messung\", ls=\"-\", lw=3, c=\"r\", ms=10) #Plot 1. Messung mit Label für Legende\n",
    "plt.plot(Weg, Kraftmessung2, marker=\"s\", label=\"2. Messung\", ls=\"-\", lw=3, c=\"b\", ms=10) #Plot 2. Messung mit Label für Legende\n",
    "plt.legend() # muss nach plot kommen\n",
    "\n",
    "\n",
    "#Änderung des Anzeigebereichs muss nach dem plotten erfolgen\n",
    "plt.ylim(bottom=0) # y-Achse soll ganz unten beginnen\n",
    "plt.xlim(left=0) # x-Achse soll ganz links beginnen\n",
    "\n",
    "plt.savefig('02-Messung1-2_Feder1_Linienanpassung.png', bbox_inches='tight', dpi=200)\n"
   ]
  },
  {
   "cell_type": "markdown",
   "metadata": {},
   "source": [
    "Als nächstes verwenden wir die Kurzform die Markertyp, Linientyp und Farbe zusammenfasst"
   ]
  },
  {
   "cell_type": "code",
   "execution_count": null,
   "metadata": {},
   "outputs": [],
   "source": [
    "# Bilbiothek importieren\n",
    "from matplotlib import pyplot as plt\n",
    "\n",
    "# Daten eingeben\n",
    "Weg = [ 0 ,  2.5,  5 ,  7.5, 10 ]\n",
    "Kraftmessung1 = [0. , 1.3, 2.8, 4.1, 5.5]\n",
    "Kraftmessung2 = [0. , 1.3, 2.6, 4.2, 5.7]\n",
    "\n",
    "#Bildgroesse (muss zuerst kommen)\n",
    "plt.figure(figsize=(8,5)) # Größe in inces (Default: 6,4)\n",
    "\n",
    "#Schriftgroesse\n",
    "plt.rcParams.update({'font.size': 20}) \n",
    "\n",
    "#Beschriftung\n",
    "plt.xlabel(\"Weg [mm]\")\n",
    "plt.ylabel(\"Kraft [N]\")\n",
    "plt.title(\"Erste und zweite Messung von Feder 1\")\n",
    "\n",
    "#Plots\n",
    "plt.grid()\n",
    "plt.plot(Weg, Kraftmessung1, \"o-r\", label=\"1. Messung\", lw=3, ms=10) #Plot 1. Messung mit Label für Legende\n",
    "plt.plot(Weg, Kraftmessung2, \"s-b\", label=\"2. Messung\", lw=3, ms=10) #Plot 2. Messung mit Label für Legende\n",
    "plt.legend() # muss nach plot kommen\n",
    "\n",
    "\n",
    "#Änderung des Anzeigebereichs muss nach dem plotten erfolgen\n",
    "plt.ylim(bottom=0) # y-Achse soll ganz unten beginnen\n",
    "plt.xlim(left=0) # x-Achse soll ganz links beginnen\n",
    "\n",
    "plt.savefig('02-Messung1-2_Feder1_Linienanpassung.png', bbox_inches='tight', dpi=200)\n"
   ]
  },
  {
   "cell_type": "markdown",
   "metadata": {},
   "source": [
    "# Messung und Funktion plotten"
   ]
  },
  {
   "cell_type": "code",
   "execution_count": null,
   "metadata": {},
   "outputs": [],
   "source": [
    "# Bilbiothek importieren\n",
    "from matplotlib import pyplot as plt\n",
    "import numpy as np\n",
    "\n",
    "# Daten eingeben\n",
    "Weg = [ 0 ,  2.5,  5 ,  7.5, 10 ]\n",
    "Kraftmessung1 = [0. , 1.3, 2.8, 4.1, 5.5]\n",
    "\n",
    "# Funktion\n",
    "c = 0.55 # N/mm\n",
    "s = np.linspace(0,10,100) # 100 Datenpunkte im Bereich von 0 bis 10\n",
    "F = c * s\n",
    "\n",
    "#Bildgroesse (muss zuerst kommen)\n",
    "plt.figure(figsize=(8,5)) # Größe in inces (Default: 6,4)\n",
    "\n",
    "#Schriftgroesse\n",
    "plt.rcParams.update({'font.size': 20}) \n",
    "\n",
    "#Beschriftung\n",
    "plt.xlabel(\"Weg [mm]\")\n",
    "plt.ylabel(\"Kraft [N]\")\n",
    "plt.title(\"Erste und Messung von erwartete Steifigkeit von Feder 1\", fontsize = 16)\n",
    "\n",
    "#Plots\n",
    "plt.grid()\n",
    "plt.plot(Weg, Kraftmessung1, \"or\", label=\"1. Messung\", lw=3, ms=10, zorder=2) #Plot 1. Messung mit Label für Legende\n",
    "plt.plot(s, F, \"-b\", label=\"erwartete Steifigkeit\", lw=3, ms=10, zorder=1) #Plot Funktion\n",
    "plt.legend() # muss nach plot kommen\n",
    "\n",
    "#Änderung des Anzeigebereichs muss nach dem plotten erfolgen\n",
    "plt.ylim(bottom=0) # y-Achse soll ganz unten beginnen\n",
    "plt.xlim(left=0) # x-Achse soll ganz links beginnen\n",
    "\n",
    "plt.savefig('03-Messung1-Funktion_Feder1.png', bbox_inches='tight', dpi=200)\n"
   ]
  },
  {
   "cell_type": "code",
   "execution_count": null,
   "metadata": {},
   "outputs": [],
   "source": []
  }
 ],
 "metadata": {
  "kernelspec": {
   "display_name": "Python 3",
   "language": "python",
   "name": "python3"
  },
  "language_info": {
   "codemirror_mode": {
    "name": "ipython",
    "version": 3
   },
   "file_extension": ".py",
   "mimetype": "text/x-python",
   "name": "python",
   "nbconvert_exporter": "python",
   "pygments_lexer": "ipython3",
   "version": "3.7.3"
  }
 },
 "nbformat": 4,
 "nbformat_minor": 2
}
