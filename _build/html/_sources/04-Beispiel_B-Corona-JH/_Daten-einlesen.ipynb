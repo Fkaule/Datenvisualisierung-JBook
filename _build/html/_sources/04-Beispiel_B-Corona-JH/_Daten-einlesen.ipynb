{
 "cells": [
  {
   "cell_type": "markdown",
   "metadata": {},
   "source": [
    "# John Hopkins Corona Daten\n",
    "\n",
    "COVID-19 Data Repository by the Center for Systems Science and Engineering (CSSE) at Johns Hopkins University\n",
    "https://github.com/CSSEGISandData/COVID-19\n",
    "\n",
    "Link zu den Daten bekommen:\n",
    "- Datei raussuchen: \n",
    "    - **COVID-19** / **csse_covid_19_data** / **csse_covid_19_time_series** / \n",
    "- Datei `time_series_covid19_confirmed_global.csv` anklicken und Link von `RAW` (rechts oben) kopieren und diesen verwenden\n",
    "\n",
    "\n",
    "Einlesen analog Vorgehen hier: https://towardsdatascience.com/covid-19-data-processing-58aaa3663f6"
   ]
  },
  {
   "cell_type": "markdown",
   "metadata": {},
   "source": [
    "## `confirmed` einlesen"
   ]
  },
  {
   "cell_type": "code",
   "execution_count": 1,
   "metadata": {},
   "outputs": [
    {
     "output_type": "execute_result",
     "data": {
      "text/plain": [
       "    Province/State      Country/Region        Lat        Long  1/22/20  \\\n",
       "0              NaN         Afghanistan  33.939110   67.709953        0   \n",
       "1              NaN             Albania  41.153300   20.168300        0   \n",
       "2              NaN             Algeria  28.033900    1.659600        0   \n",
       "3              NaN             Andorra  42.506300    1.521800        0   \n",
       "4              NaN              Angola -11.202700   17.873900        0   \n",
       "..             ...                 ...        ...         ...      ...   \n",
       "268            NaN             Vietnam  14.058324  108.277199        0   \n",
       "269            NaN  West Bank and Gaza  31.952200   35.233200        0   \n",
       "270            NaN               Yemen  15.552727   48.516388        0   \n",
       "271            NaN              Zambia -13.133897   27.849332        0   \n",
       "272            NaN            Zimbabwe -19.015438   29.154857        0   \n",
       "\n",
       "     1/23/20  1/24/20  1/25/20  1/26/20  1/27/20  ...  1/22/21  1/23/21  \\\n",
       "0          0        0        0        0        0  ...    54483    54559   \n",
       "1          0        0        0        0        0  ...    70655    71441   \n",
       "2          0        0        0        0        0  ...   105124   105369   \n",
       "3          0        0        0        0        0  ...     9416     9499   \n",
       "4          0        0        0        0        0  ...    19269    19367   \n",
       "..       ...      ...      ...      ...      ...  ...      ...      ...   \n",
       "268        2        2        2        2        2  ...     1548     1548   \n",
       "269        0        0        0        0        0  ...   154557   155006   \n",
       "270        0        0        0        0        0  ...     2118     2118   \n",
       "271        0        0        0        0        0  ...    43333    44592   \n",
       "272        0        0        0        0        0  ...    30523    31007   \n",
       "\n",
       "     1/24/21  1/25/21  1/26/21  1/27/21  1/28/21  1/29/21  1/30/21  1/31/21  \n",
       "0      54595    54672    54750    54854    54891    54939    55008    55023  \n",
       "1      72274    72812    73691    74567    75454    76350    77251    78127  \n",
       "2     105596   105854   106097   106359   106610   106887   107122   107339  \n",
       "3       9549     9596     9638     9716     9779     9837     9885     9937  \n",
       "4      19399    19476    19553    19580    19672    19723    19782    19796  \n",
       "..       ...      ...      ...      ...      ...      ...      ...      ...  \n",
       "268     1548     1549     1551     1553     1651     1657     1767     1817  \n",
       "269   155414   155884   156393   156996   157593   158168   158559   158962  \n",
       "270     2118     2118     2119     2120     2120     2120     2120     2121  \n",
       "271    45337    46146    47622    48911    50319    51624    53352    54217  \n",
       "272    31320    31646    32004    32304    32646    32952    33273    33388  \n",
       "\n",
       "[273 rows x 380 columns]"
      ],
      "text/html": "<div>\n<style scoped>\n    .dataframe tbody tr th:only-of-type {\n        vertical-align: middle;\n    }\n\n    .dataframe tbody tr th {\n        vertical-align: top;\n    }\n\n    .dataframe thead th {\n        text-align: right;\n    }\n</style>\n<table border=\"1\" class=\"dataframe\">\n  <thead>\n    <tr style=\"text-align: right;\">\n      <th></th>\n      <th>Province/State</th>\n      <th>Country/Region</th>\n      <th>Lat</th>\n      <th>Long</th>\n      <th>1/22/20</th>\n      <th>1/23/20</th>\n      <th>1/24/20</th>\n      <th>1/25/20</th>\n      <th>1/26/20</th>\n      <th>1/27/20</th>\n      <th>...</th>\n      <th>1/22/21</th>\n      <th>1/23/21</th>\n      <th>1/24/21</th>\n      <th>1/25/21</th>\n      <th>1/26/21</th>\n      <th>1/27/21</th>\n      <th>1/28/21</th>\n      <th>1/29/21</th>\n      <th>1/30/21</th>\n      <th>1/31/21</th>\n    </tr>\n  </thead>\n  <tbody>\n    <tr>\n      <th>0</th>\n      <td>NaN</td>\n      <td>Afghanistan</td>\n      <td>33.939110</td>\n      <td>67.709953</td>\n      <td>0</td>\n      <td>0</td>\n      <td>0</td>\n      <td>0</td>\n      <td>0</td>\n      <td>0</td>\n      <td>...</td>\n      <td>54483</td>\n      <td>54559</td>\n      <td>54595</td>\n      <td>54672</td>\n      <td>54750</td>\n      <td>54854</td>\n      <td>54891</td>\n      <td>54939</td>\n      <td>55008</td>\n      <td>55023</td>\n    </tr>\n    <tr>\n      <th>1</th>\n      <td>NaN</td>\n      <td>Albania</td>\n      <td>41.153300</td>\n      <td>20.168300</td>\n      <td>0</td>\n      <td>0</td>\n      <td>0</td>\n      <td>0</td>\n      <td>0</td>\n      <td>0</td>\n      <td>...</td>\n      <td>70655</td>\n      <td>71441</td>\n      <td>72274</td>\n      <td>72812</td>\n      <td>73691</td>\n      <td>74567</td>\n      <td>75454</td>\n      <td>76350</td>\n      <td>77251</td>\n      <td>78127</td>\n    </tr>\n    <tr>\n      <th>2</th>\n      <td>NaN</td>\n      <td>Algeria</td>\n      <td>28.033900</td>\n      <td>1.659600</td>\n      <td>0</td>\n      <td>0</td>\n      <td>0</td>\n      <td>0</td>\n      <td>0</td>\n      <td>0</td>\n      <td>...</td>\n      <td>105124</td>\n      <td>105369</td>\n      <td>105596</td>\n      <td>105854</td>\n      <td>106097</td>\n      <td>106359</td>\n      <td>106610</td>\n      <td>106887</td>\n      <td>107122</td>\n      <td>107339</td>\n    </tr>\n    <tr>\n      <th>3</th>\n      <td>NaN</td>\n      <td>Andorra</td>\n      <td>42.506300</td>\n      <td>1.521800</td>\n      <td>0</td>\n      <td>0</td>\n      <td>0</td>\n      <td>0</td>\n      <td>0</td>\n      <td>0</td>\n      <td>...</td>\n      <td>9416</td>\n      <td>9499</td>\n      <td>9549</td>\n      <td>9596</td>\n      <td>9638</td>\n      <td>9716</td>\n      <td>9779</td>\n      <td>9837</td>\n      <td>9885</td>\n      <td>9937</td>\n    </tr>\n    <tr>\n      <th>4</th>\n      <td>NaN</td>\n      <td>Angola</td>\n      <td>-11.202700</td>\n      <td>17.873900</td>\n      <td>0</td>\n      <td>0</td>\n      <td>0</td>\n      <td>0</td>\n      <td>0</td>\n      <td>0</td>\n      <td>...</td>\n      <td>19269</td>\n      <td>19367</td>\n      <td>19399</td>\n      <td>19476</td>\n      <td>19553</td>\n      <td>19580</td>\n      <td>19672</td>\n      <td>19723</td>\n      <td>19782</td>\n      <td>19796</td>\n    </tr>\n    <tr>\n      <th>...</th>\n      <td>...</td>\n      <td>...</td>\n      <td>...</td>\n      <td>...</td>\n      <td>...</td>\n      <td>...</td>\n      <td>...</td>\n      <td>...</td>\n      <td>...</td>\n      <td>...</td>\n      <td>...</td>\n      <td>...</td>\n      <td>...</td>\n      <td>...</td>\n      <td>...</td>\n      <td>...</td>\n      <td>...</td>\n      <td>...</td>\n      <td>...</td>\n      <td>...</td>\n      <td>...</td>\n    </tr>\n    <tr>\n      <th>268</th>\n      <td>NaN</td>\n      <td>Vietnam</td>\n      <td>14.058324</td>\n      <td>108.277199</td>\n      <td>0</td>\n      <td>2</td>\n      <td>2</td>\n      <td>2</td>\n      <td>2</td>\n      <td>2</td>\n      <td>...</td>\n      <td>1548</td>\n      <td>1548</td>\n      <td>1548</td>\n      <td>1549</td>\n      <td>1551</td>\n      <td>1553</td>\n      <td>1651</td>\n      <td>1657</td>\n      <td>1767</td>\n      <td>1817</td>\n    </tr>\n    <tr>\n      <th>269</th>\n      <td>NaN</td>\n      <td>West Bank and Gaza</td>\n      <td>31.952200</td>\n      <td>35.233200</td>\n      <td>0</td>\n      <td>0</td>\n      <td>0</td>\n      <td>0</td>\n      <td>0</td>\n      <td>0</td>\n      <td>...</td>\n      <td>154557</td>\n      <td>155006</td>\n      <td>155414</td>\n      <td>155884</td>\n      <td>156393</td>\n      <td>156996</td>\n      <td>157593</td>\n      <td>158168</td>\n      <td>158559</td>\n      <td>158962</td>\n    </tr>\n    <tr>\n      <th>270</th>\n      <td>NaN</td>\n      <td>Yemen</td>\n      <td>15.552727</td>\n      <td>48.516388</td>\n      <td>0</td>\n      <td>0</td>\n      <td>0</td>\n      <td>0</td>\n      <td>0</td>\n      <td>0</td>\n      <td>...</td>\n      <td>2118</td>\n      <td>2118</td>\n      <td>2118</td>\n      <td>2118</td>\n      <td>2119</td>\n      <td>2120</td>\n      <td>2120</td>\n      <td>2120</td>\n      <td>2120</td>\n      <td>2121</td>\n    </tr>\n    <tr>\n      <th>271</th>\n      <td>NaN</td>\n      <td>Zambia</td>\n      <td>-13.133897</td>\n      <td>27.849332</td>\n      <td>0</td>\n      <td>0</td>\n      <td>0</td>\n      <td>0</td>\n      <td>0</td>\n      <td>0</td>\n      <td>...</td>\n      <td>43333</td>\n      <td>44592</td>\n      <td>45337</td>\n      <td>46146</td>\n      <td>47622</td>\n      <td>48911</td>\n      <td>50319</td>\n      <td>51624</td>\n      <td>53352</td>\n      <td>54217</td>\n    </tr>\n    <tr>\n      <th>272</th>\n      <td>NaN</td>\n      <td>Zimbabwe</td>\n      <td>-19.015438</td>\n      <td>29.154857</td>\n      <td>0</td>\n      <td>0</td>\n      <td>0</td>\n      <td>0</td>\n      <td>0</td>\n      <td>0</td>\n      <td>...</td>\n      <td>30523</td>\n      <td>31007</td>\n      <td>31320</td>\n      <td>31646</td>\n      <td>32004</td>\n      <td>32304</td>\n      <td>32646</td>\n      <td>32952</td>\n      <td>33273</td>\n      <td>33388</td>\n    </tr>\n  </tbody>\n</table>\n<p>273 rows × 380 columns</p>\n</div>"
     },
     "metadata": {},
     "execution_count": 1
    }
   ],
   "source": [
    "import pandas as pd\n",
    "\n",
    "\n",
    "data_confirmed=\"https://github.com/CSSEGISandData/COVID-19/raw/master/csse_covid_19_data/csse_covid_19_time_series/time_series_covid19_confirmed_global.csv\"\n",
    "\n",
    "df_confirmed_wide = pd.read_csv(data_confirmed)\n",
    "df_confirmed_wide"
   ]
  },
  {
   "cell_type": "markdown",
   "metadata": {},
   "source": [
    "Die Daten liegen mit jedem Datum pro Spalte vor. Diese Art ist für die Verarbeitung mit `Pandas` sehr ungeeignet, weshalb wir aus dem **breiten** (nach rechts) Dataframe jetzt einen **langen** (nach unten) erstellen und nutzen dafür den `.melt` Befehl"
   ]
  },
  {
   "cell_type": "code",
   "execution_count": 2,
   "metadata": {},
   "outputs": [
    {
     "output_type": "execute_result",
     "data": {
      "text/plain": [
       "Index(['1/22/20', '1/23/20', '1/24/20', '1/25/20', '1/26/20', '1/27/20',\n",
       "       '1/28/20', '1/29/20', '1/30/20', '1/31/20',\n",
       "       ...\n",
       "       '1/22/21', '1/23/21', '1/24/21', '1/25/21', '1/26/21', '1/27/21',\n",
       "       '1/28/21', '1/29/21', '1/30/21', '1/31/21'],\n",
       "      dtype='object', length=376)"
      ]
     },
     "metadata": {},
     "execution_count": 2
    }
   ],
   "source": [
    "# Liste der Einträge aller Daten erstellen \n",
    "dates = df_confirmed_wide.columns[4:] # Nimm alle Spalten ab der fünften (0=erste Spalte)\n",
    "dates"
   ]
  },
  {
   "cell_type": "code",
   "execution_count": 3,
   "metadata": {},
   "outputs": [
    {
     "output_type": "execute_result",
     "data": {
      "text/plain": [
       "       Province/State      Country/Region        Lat        Long     Date  \\\n",
       "0                 NaN         Afghanistan  33.939110   67.709953  1/22/20   \n",
       "1                 NaN             Albania  41.153300   20.168300  1/22/20   \n",
       "2                 NaN             Algeria  28.033900    1.659600  1/22/20   \n",
       "3                 NaN             Andorra  42.506300    1.521800  1/22/20   \n",
       "4                 NaN              Angola -11.202700   17.873900  1/22/20   \n",
       "...               ...                 ...        ...         ...      ...   \n",
       "102643            NaN             Vietnam  14.058324  108.277199  1/31/21   \n",
       "102644            NaN  West Bank and Gaza  31.952200   35.233200  1/31/21   \n",
       "102645            NaN               Yemen  15.552727   48.516388  1/31/21   \n",
       "102646            NaN              Zambia -13.133897   27.849332  1/31/21   \n",
       "102647            NaN            Zimbabwe -19.015438   29.154857  1/31/21   \n",
       "\n",
       "        Confirmed  \n",
       "0               0  \n",
       "1               0  \n",
       "2               0  \n",
       "3               0  \n",
       "4               0  \n",
       "...           ...  \n",
       "102643       1817  \n",
       "102644     158962  \n",
       "102645       2121  \n",
       "102646      54217  \n",
       "102647      33388  \n",
       "\n",
       "[102648 rows x 6 columns]"
      ],
      "text/html": "<div>\n<style scoped>\n    .dataframe tbody tr th:only-of-type {\n        vertical-align: middle;\n    }\n\n    .dataframe tbody tr th {\n        vertical-align: top;\n    }\n\n    .dataframe thead th {\n        text-align: right;\n    }\n</style>\n<table border=\"1\" class=\"dataframe\">\n  <thead>\n    <tr style=\"text-align: right;\">\n      <th></th>\n      <th>Province/State</th>\n      <th>Country/Region</th>\n      <th>Lat</th>\n      <th>Long</th>\n      <th>Date</th>\n      <th>Confirmed</th>\n    </tr>\n  </thead>\n  <tbody>\n    <tr>\n      <th>0</th>\n      <td>NaN</td>\n      <td>Afghanistan</td>\n      <td>33.939110</td>\n      <td>67.709953</td>\n      <td>1/22/20</td>\n      <td>0</td>\n    </tr>\n    <tr>\n      <th>1</th>\n      <td>NaN</td>\n      <td>Albania</td>\n      <td>41.153300</td>\n      <td>20.168300</td>\n      <td>1/22/20</td>\n      <td>0</td>\n    </tr>\n    <tr>\n      <th>2</th>\n      <td>NaN</td>\n      <td>Algeria</td>\n      <td>28.033900</td>\n      <td>1.659600</td>\n      <td>1/22/20</td>\n      <td>0</td>\n    </tr>\n    <tr>\n      <th>3</th>\n      <td>NaN</td>\n      <td>Andorra</td>\n      <td>42.506300</td>\n      <td>1.521800</td>\n      <td>1/22/20</td>\n      <td>0</td>\n    </tr>\n    <tr>\n      <th>4</th>\n      <td>NaN</td>\n      <td>Angola</td>\n      <td>-11.202700</td>\n      <td>17.873900</td>\n      <td>1/22/20</td>\n      <td>0</td>\n    </tr>\n    <tr>\n      <th>...</th>\n      <td>...</td>\n      <td>...</td>\n      <td>...</td>\n      <td>...</td>\n      <td>...</td>\n      <td>...</td>\n    </tr>\n    <tr>\n      <th>102643</th>\n      <td>NaN</td>\n      <td>Vietnam</td>\n      <td>14.058324</td>\n      <td>108.277199</td>\n      <td>1/31/21</td>\n      <td>1817</td>\n    </tr>\n    <tr>\n      <th>102644</th>\n      <td>NaN</td>\n      <td>West Bank and Gaza</td>\n      <td>31.952200</td>\n      <td>35.233200</td>\n      <td>1/31/21</td>\n      <td>158962</td>\n    </tr>\n    <tr>\n      <th>102645</th>\n      <td>NaN</td>\n      <td>Yemen</td>\n      <td>15.552727</td>\n      <td>48.516388</td>\n      <td>1/31/21</td>\n      <td>2121</td>\n    </tr>\n    <tr>\n      <th>102646</th>\n      <td>NaN</td>\n      <td>Zambia</td>\n      <td>-13.133897</td>\n      <td>27.849332</td>\n      <td>1/31/21</td>\n      <td>54217</td>\n    </tr>\n    <tr>\n      <th>102647</th>\n      <td>NaN</td>\n      <td>Zimbabwe</td>\n      <td>-19.015438</td>\n      <td>29.154857</td>\n      <td>1/31/21</td>\n      <td>33388</td>\n    </tr>\n  </tbody>\n</table>\n<p>102648 rows × 6 columns</p>\n</div>"
     },
     "metadata": {},
     "execution_count": 3
    }
   ],
   "source": [
    "df_confirmed_long = df_confirmed_wide.melt(\n",
    "    id_vars=['Province/State', 'Country/Region', 'Lat', 'Long'], \n",
    "    value_vars=dates, \n",
    "    var_name='Date', \n",
    "    value_name='Confirmed'\n",
    ")\n",
    "df_confirmed_long"
   ]
  },
  {
   "cell_type": "markdown",
   "metadata": {},
   "source": [
    "- der neue lange Dataframe `df_long` hat **100191 rows × 6 columns** = 601.146 Einträge\n",
    "- der alte breite Dataframe `df_wide` hat **273 rows × 371 columns** = 101.283 Einträge\n",
    "\n",
    "Die Einträge haben sich also für unseren neuen Dataframe `df_long` vervielfacht, da jetzt das Datum immer dazu geschrieben werden muss und somit oft doppelt vorkommt"
   ]
  },
  {
   "cell_type": "markdown",
   "metadata": {},
   "source": [
    "### `deaths` + `recovered` analog "
   ]
  },
  {
   "cell_type": "code",
   "execution_count": 4,
   "metadata": {},
   "outputs": [],
   "source": [
    "data_death=\"https://github.com/CSSEGISandData/COVID-19/raw/master/csse_covid_19_data/csse_covid_19_time_series/time_series_covid19_deaths_global.csv\"\n",
    "data_recovered=\"https://github.com/CSSEGISandData/COVID-19/raw/master/csse_covid_19_data/csse_covid_19_time_series/time_series_covid19_recovered_global.csv\"\n",
    "\n",
    "\n",
    "df_death_wide = pd.read_csv(data_death)\n",
    "df_recovered_wide = pd.read_csv(data_recovered)\n",
    "\n",
    "df_death_long = df_death_wide.melt(\n",
    "    id_vars=['Province/State', 'Country/Region', 'Lat', 'Long'], \n",
    "    value_vars=dates, \n",
    "    var_name='Date', \n",
    "    value_name='Deaths'\n",
    ")\n",
    "\n",
    "recovered_df_long = df_recovered_wide.melt(\n",
    "    id_vars=['Province/State', 'Country/Region', 'Lat', 'Long'], \n",
    "    value_vars=dates, \n",
    "    var_name='Date', \n",
    "    value_name='Recovered'\n",
    ")\n"
   ]
  },
  {
   "cell_type": "markdown",
   "metadata": {},
   "source": [
    "#### alle drei Dataframes zusammenführen"
   ]
  },
  {
   "cell_type": "code",
   "execution_count": 5,
   "metadata": {},
   "outputs": [
    {
     "output_type": "execute_result",
     "data": {
      "text/plain": [
       "       Province/State      Country/Region        Lat        Long     Date  \\\n",
       "0                 NaN         Afghanistan  33.939110   67.709953  1/22/20   \n",
       "1                 NaN             Albania  41.153300   20.168300  1/22/20   \n",
       "2                 NaN             Algeria  28.033900    1.659600  1/22/20   \n",
       "3                 NaN             Andorra  42.506300    1.521800  1/22/20   \n",
       "4                 NaN              Angola -11.202700   17.873900  1/22/20   \n",
       "...               ...                 ...        ...         ...      ...   \n",
       "102643            NaN             Vietnam  14.058324  108.277199  1/31/21   \n",
       "102644            NaN  West Bank and Gaza  31.952200   35.233200  1/31/21   \n",
       "102645            NaN               Yemen  15.552727   48.516388  1/31/21   \n",
       "102646            NaN              Zambia -13.133897   27.849332  1/31/21   \n",
       "102647            NaN            Zimbabwe -19.015438   29.154857  1/31/21   \n",
       "\n",
       "        Confirmed  Deaths  Recovered  \n",
       "0               0       0        0.0  \n",
       "1               0       0        0.0  \n",
       "2               0       0        0.0  \n",
       "3               0       0        0.0  \n",
       "4               0       0        0.0  \n",
       "...           ...     ...        ...  \n",
       "102643       1817      35     1457.0  \n",
       "102644     158962    1833   148993.0  \n",
       "102645       2121     615     1426.0  \n",
       "102646      54217     763    48000.0  \n",
       "102647      33388    1217    26044.0  \n",
       "\n",
       "[102648 rows x 8 columns]"
      ],
      "text/html": "<div>\n<style scoped>\n    .dataframe tbody tr th:only-of-type {\n        vertical-align: middle;\n    }\n\n    .dataframe tbody tr th {\n        vertical-align: top;\n    }\n\n    .dataframe thead th {\n        text-align: right;\n    }\n</style>\n<table border=\"1\" class=\"dataframe\">\n  <thead>\n    <tr style=\"text-align: right;\">\n      <th></th>\n      <th>Province/State</th>\n      <th>Country/Region</th>\n      <th>Lat</th>\n      <th>Long</th>\n      <th>Date</th>\n      <th>Confirmed</th>\n      <th>Deaths</th>\n      <th>Recovered</th>\n    </tr>\n  </thead>\n  <tbody>\n    <tr>\n      <th>0</th>\n      <td>NaN</td>\n      <td>Afghanistan</td>\n      <td>33.939110</td>\n      <td>67.709953</td>\n      <td>1/22/20</td>\n      <td>0</td>\n      <td>0</td>\n      <td>0.0</td>\n    </tr>\n    <tr>\n      <th>1</th>\n      <td>NaN</td>\n      <td>Albania</td>\n      <td>41.153300</td>\n      <td>20.168300</td>\n      <td>1/22/20</td>\n      <td>0</td>\n      <td>0</td>\n      <td>0.0</td>\n    </tr>\n    <tr>\n      <th>2</th>\n      <td>NaN</td>\n      <td>Algeria</td>\n      <td>28.033900</td>\n      <td>1.659600</td>\n      <td>1/22/20</td>\n      <td>0</td>\n      <td>0</td>\n      <td>0.0</td>\n    </tr>\n    <tr>\n      <th>3</th>\n      <td>NaN</td>\n      <td>Andorra</td>\n      <td>42.506300</td>\n      <td>1.521800</td>\n      <td>1/22/20</td>\n      <td>0</td>\n      <td>0</td>\n      <td>0.0</td>\n    </tr>\n    <tr>\n      <th>4</th>\n      <td>NaN</td>\n      <td>Angola</td>\n      <td>-11.202700</td>\n      <td>17.873900</td>\n      <td>1/22/20</td>\n      <td>0</td>\n      <td>0</td>\n      <td>0.0</td>\n    </tr>\n    <tr>\n      <th>...</th>\n      <td>...</td>\n      <td>...</td>\n      <td>...</td>\n      <td>...</td>\n      <td>...</td>\n      <td>...</td>\n      <td>...</td>\n      <td>...</td>\n    </tr>\n    <tr>\n      <th>102643</th>\n      <td>NaN</td>\n      <td>Vietnam</td>\n      <td>14.058324</td>\n      <td>108.277199</td>\n      <td>1/31/21</td>\n      <td>1817</td>\n      <td>35</td>\n      <td>1457.0</td>\n    </tr>\n    <tr>\n      <th>102644</th>\n      <td>NaN</td>\n      <td>West Bank and Gaza</td>\n      <td>31.952200</td>\n      <td>35.233200</td>\n      <td>1/31/21</td>\n      <td>158962</td>\n      <td>1833</td>\n      <td>148993.0</td>\n    </tr>\n    <tr>\n      <th>102645</th>\n      <td>NaN</td>\n      <td>Yemen</td>\n      <td>15.552727</td>\n      <td>48.516388</td>\n      <td>1/31/21</td>\n      <td>2121</td>\n      <td>615</td>\n      <td>1426.0</td>\n    </tr>\n    <tr>\n      <th>102646</th>\n      <td>NaN</td>\n      <td>Zambia</td>\n      <td>-13.133897</td>\n      <td>27.849332</td>\n      <td>1/31/21</td>\n      <td>54217</td>\n      <td>763</td>\n      <td>48000.0</td>\n    </tr>\n    <tr>\n      <th>102647</th>\n      <td>NaN</td>\n      <td>Zimbabwe</td>\n      <td>-19.015438</td>\n      <td>29.154857</td>\n      <td>1/31/21</td>\n      <td>33388</td>\n      <td>1217</td>\n      <td>26044.0</td>\n    </tr>\n  </tbody>\n</table>\n<p>102648 rows × 8 columns</p>\n</div>"
     },
     "metadata": {},
     "execution_count": 5
    }
   ],
   "source": [
    "# Merging confirmed_df_long and deaths_df_long\n",
    "full_table = df_confirmed_long.merge(\n",
    "  right=df_death_long, \n",
    "  how='left',\n",
    "  on=['Province/State', 'Country/Region', 'Date', 'Lat', 'Long']\n",
    ")\n",
    "# Merging full_table and recovered_df_long\n",
    "full_table = full_table.merge(\n",
    "  right=recovered_df_long, \n",
    "  how='left',\n",
    "  on=['Province/State', 'Country/Region', 'Date', 'Lat', 'Long']\n",
    ")\n",
    "\n",
    "full_table"
   ]
  },
  {
   "cell_type": "markdown",
   "metadata": {},
   "source": [
    "#### Datum als Datetime"
   ]
  },
  {
   "cell_type": "code",
   "execution_count": 6,
   "metadata": {},
   "outputs": [
    {
     "output_type": "execute_result",
     "data": {
      "text/plain": [
       "  Province/State Country/Region       Lat       Long       Date  Confirmed  \\\n",
       "0            NaN    Afghanistan  33.93911  67.709953 2020-01-22          0   \n",
       "1            NaN        Albania  41.15330  20.168300 2020-01-22          0   \n",
       "2            NaN        Algeria  28.03390   1.659600 2020-01-22          0   \n",
       "3            NaN        Andorra  42.50630   1.521800 2020-01-22          0   \n",
       "4            NaN         Angola -11.20270  17.873900 2020-01-22          0   \n",
       "\n",
       "   Deaths  Recovered  \n",
       "0       0        0.0  \n",
       "1       0        0.0  \n",
       "2       0        0.0  \n",
       "3       0        0.0  \n",
       "4       0        0.0  "
      ],
      "text/html": "<div>\n<style scoped>\n    .dataframe tbody tr th:only-of-type {\n        vertical-align: middle;\n    }\n\n    .dataframe tbody tr th {\n        vertical-align: top;\n    }\n\n    .dataframe thead th {\n        text-align: right;\n    }\n</style>\n<table border=\"1\" class=\"dataframe\">\n  <thead>\n    <tr style=\"text-align: right;\">\n      <th></th>\n      <th>Province/State</th>\n      <th>Country/Region</th>\n      <th>Lat</th>\n      <th>Long</th>\n      <th>Date</th>\n      <th>Confirmed</th>\n      <th>Deaths</th>\n      <th>Recovered</th>\n    </tr>\n  </thead>\n  <tbody>\n    <tr>\n      <th>0</th>\n      <td>NaN</td>\n      <td>Afghanistan</td>\n      <td>33.93911</td>\n      <td>67.709953</td>\n      <td>2020-01-22</td>\n      <td>0</td>\n      <td>0</td>\n      <td>0.0</td>\n    </tr>\n    <tr>\n      <th>1</th>\n      <td>NaN</td>\n      <td>Albania</td>\n      <td>41.15330</td>\n      <td>20.168300</td>\n      <td>2020-01-22</td>\n      <td>0</td>\n      <td>0</td>\n      <td>0.0</td>\n    </tr>\n    <tr>\n      <th>2</th>\n      <td>NaN</td>\n      <td>Algeria</td>\n      <td>28.03390</td>\n      <td>1.659600</td>\n      <td>2020-01-22</td>\n      <td>0</td>\n      <td>0</td>\n      <td>0.0</td>\n    </tr>\n    <tr>\n      <th>3</th>\n      <td>NaN</td>\n      <td>Andorra</td>\n      <td>42.50630</td>\n      <td>1.521800</td>\n      <td>2020-01-22</td>\n      <td>0</td>\n      <td>0</td>\n      <td>0.0</td>\n    </tr>\n    <tr>\n      <th>4</th>\n      <td>NaN</td>\n      <td>Angola</td>\n      <td>-11.20270</td>\n      <td>17.873900</td>\n      <td>2020-01-22</td>\n      <td>0</td>\n      <td>0</td>\n      <td>0.0</td>\n    </tr>\n  </tbody>\n</table>\n</div>"
     },
     "metadata": {},
     "execution_count": 6
    }
   ],
   "source": [
    "full_table['Date'] = pd.to_datetime(full_table['Date'])\n",
    "full_table.head()"
   ]
  },
  {
   "cell_type": "markdown",
   "metadata": {},
   "source": [
    "#### missing NaN "
   ]
  },
  {
   "cell_type": "code",
   "execution_count": 7,
   "metadata": {
    "scrolled": true
   },
   "outputs": [
    {
     "output_type": "execute_result",
     "data": {
      "text/plain": [
       "Province/State    71064\n",
       "Country/Region        0\n",
       "Lat                 376\n",
       "Long                376\n",
       "Date                  0\n",
       "Confirmed             0\n",
       "Deaths                0\n",
       "Recovered          7896\n",
       "dtype: int64"
      ]
     },
     "metadata": {},
     "execution_count": 7
    }
   ],
   "source": [
    "full_table.isna().sum()"
   ]
  },
  {
   "cell_type": "markdown",
   "metadata": {},
   "source": [
    "#### recovered mit nullen füllen"
   ]
  },
  {
   "cell_type": "code",
   "execution_count": 8,
   "metadata": {},
   "outputs": [],
   "source": [
    "full_table['Recovered'] = full_table['Recovered'].fillna(0)"
   ]
  },
  {
   "cell_type": "markdown",
   "metadata": {},
   "source": [
    "#### Kreuzfahrtschiffe rausnehmen"
   ]
  },
  {
   "cell_type": "code",
   "execution_count": 9,
   "metadata": {},
   "outputs": [],
   "source": [
    "ship_rows = full_table['Province/State'].str.contains('Grand Princess') | full_table['Province/State'].str.contains('Diamond Princess') | full_table['Country/Region'].str.contains('Diamond Princess') | full_table['Country/Region'].str.contains('MS Zaandam')\n",
    "full_ship = full_table[ship_rows]\n",
    "\n",
    "full_table = full_table[~(ship_rows)]"
   ]
  },
  {
   "cell_type": "markdown",
   "metadata": {},
   "source": [
    "### Neue Spalte `active`"
   ]
  },
  {
   "cell_type": "code",
   "execution_count": 10,
   "metadata": {},
   "outputs": [],
   "source": [
    "# Active Case = confirmed - deaths - recovered\n",
    "full_table['Active'] = full_table['Confirmed'] - full_table['Deaths'] - full_table['Recovered']"
   ]
  },
  {
   "cell_type": "markdown",
   "metadata": {},
   "source": [
    "### Länder zusammenfassen (falls mehrere Province/State) infos vorhanden"
   ]
  },
  {
   "cell_type": "code",
   "execution_count": 11,
   "metadata": {},
   "outputs": [
    {
     "output_type": "execute_result",
     "data": {
      "text/plain": [
       "            Date      Country/Region  Confirmed  Deaths  Recovered  Active\n",
       "0     2020-01-22         Afghanistan          0       0        0.0     0.0\n",
       "1     2020-01-22             Albania          0       0        0.0     0.0\n",
       "2     2020-01-22             Algeria          0       0        0.0     0.0\n",
       "3     2020-01-22             Andorra          0       0        0.0     0.0\n",
       "4     2020-01-22              Angola          0       0        0.0     0.0\n",
       "...          ...                 ...        ...     ...        ...     ...\n",
       "71435 2021-01-31             Vietnam       1817      35     1457.0   325.0\n",
       "71436 2021-01-31  West Bank and Gaza     158962    1833   148993.0  8136.0\n",
       "71437 2021-01-31               Yemen       2121     615     1426.0    80.0\n",
       "71438 2021-01-31              Zambia      54217     763    48000.0  5454.0\n",
       "71439 2021-01-31            Zimbabwe      33388    1217    26044.0  6127.0\n",
       "\n",
       "[71440 rows x 6 columns]"
      ],
      "text/html": "<div>\n<style scoped>\n    .dataframe tbody tr th:only-of-type {\n        vertical-align: middle;\n    }\n\n    .dataframe tbody tr th {\n        vertical-align: top;\n    }\n\n    .dataframe thead th {\n        text-align: right;\n    }\n</style>\n<table border=\"1\" class=\"dataframe\">\n  <thead>\n    <tr style=\"text-align: right;\">\n      <th></th>\n      <th>Date</th>\n      <th>Country/Region</th>\n      <th>Confirmed</th>\n      <th>Deaths</th>\n      <th>Recovered</th>\n      <th>Active</th>\n    </tr>\n  </thead>\n  <tbody>\n    <tr>\n      <th>0</th>\n      <td>2020-01-22</td>\n      <td>Afghanistan</td>\n      <td>0</td>\n      <td>0</td>\n      <td>0.0</td>\n      <td>0.0</td>\n    </tr>\n    <tr>\n      <th>1</th>\n      <td>2020-01-22</td>\n      <td>Albania</td>\n      <td>0</td>\n      <td>0</td>\n      <td>0.0</td>\n      <td>0.0</td>\n    </tr>\n    <tr>\n      <th>2</th>\n      <td>2020-01-22</td>\n      <td>Algeria</td>\n      <td>0</td>\n      <td>0</td>\n      <td>0.0</td>\n      <td>0.0</td>\n    </tr>\n    <tr>\n      <th>3</th>\n      <td>2020-01-22</td>\n      <td>Andorra</td>\n      <td>0</td>\n      <td>0</td>\n      <td>0.0</td>\n      <td>0.0</td>\n    </tr>\n    <tr>\n      <th>4</th>\n      <td>2020-01-22</td>\n      <td>Angola</td>\n      <td>0</td>\n      <td>0</td>\n      <td>0.0</td>\n      <td>0.0</td>\n    </tr>\n    <tr>\n      <th>...</th>\n      <td>...</td>\n      <td>...</td>\n      <td>...</td>\n      <td>...</td>\n      <td>...</td>\n      <td>...</td>\n    </tr>\n    <tr>\n      <th>71435</th>\n      <td>2021-01-31</td>\n      <td>Vietnam</td>\n      <td>1817</td>\n      <td>35</td>\n      <td>1457.0</td>\n      <td>325.0</td>\n    </tr>\n    <tr>\n      <th>71436</th>\n      <td>2021-01-31</td>\n      <td>West Bank and Gaza</td>\n      <td>158962</td>\n      <td>1833</td>\n      <td>148993.0</td>\n      <td>8136.0</td>\n    </tr>\n    <tr>\n      <th>71437</th>\n      <td>2021-01-31</td>\n      <td>Yemen</td>\n      <td>2121</td>\n      <td>615</td>\n      <td>1426.0</td>\n      <td>80.0</td>\n    </tr>\n    <tr>\n      <th>71438</th>\n      <td>2021-01-31</td>\n      <td>Zambia</td>\n      <td>54217</td>\n      <td>763</td>\n      <td>48000.0</td>\n      <td>5454.0</td>\n    </tr>\n    <tr>\n      <th>71439</th>\n      <td>2021-01-31</td>\n      <td>Zimbabwe</td>\n      <td>33388</td>\n      <td>1217</td>\n      <td>26044.0</td>\n      <td>6127.0</td>\n    </tr>\n  </tbody>\n</table>\n<p>71440 rows × 6 columns</p>\n</div>"
     },
     "metadata": {},
     "execution_count": 11
    }
   ],
   "source": [
    "full_grouped = full_table.groupby(['Date', 'Country/Region'])['Confirmed', 'Deaths', 'Recovered', 'Active'].sum().reset_index()\n",
    "full_grouped"
   ]
  },
  {
   "cell_type": "markdown",
   "metadata": {},
   "source": [
    "### neue Spalten New cases, New deaths and New recovered"
   ]
  },
  {
   "cell_type": "code",
   "execution_count": 12,
   "metadata": {},
   "outputs": [],
   "source": [
    "import numpy as np \n",
    "\n",
    "# new cases \n",
    "temp = full_grouped.groupby(['Country/Region', 'Date', ])['Confirmed', 'Deaths', 'Recovered']\n",
    "temp = temp.sum().diff().reset_index()\n",
    "mask = temp['Country/Region'] != temp['Country/Region'].shift(1)\n",
    "temp.loc[mask, 'Confirmed'] = np.nan\n",
    "temp.loc[mask, 'Deaths'] = np.nan\n",
    "temp.loc[mask, 'Recovered'] = np.nan\n",
    "# renaming columns\n",
    "temp.columns = ['Country/Region', 'Date', 'New cases', 'New deaths', 'New recovered']\n",
    "# merging new values\n",
    "full_grouped = pd.merge(full_grouped, temp, on=['Country/Region', 'Date'])\n",
    "# filling na with 0\n",
    "full_grouped = full_grouped.fillna(0)\n",
    "# fixing data types\n",
    "cols = ['New cases', 'New deaths', 'New recovered']\n",
    "full_grouped[cols] = full_grouped[cols].astype('int')\n",
    "# \n",
    "full_grouped['New cases'] = full_grouped['New cases'].apply(lambda x: 0 if x<0 else x)"
   ]
  },
  {
   "cell_type": "code",
   "execution_count": 13,
   "metadata": {},
   "outputs": [],
   "source": [
    "full_grouped.to_csv(\"JH_Corona_global.csv\", index=False)"
   ]
  },
  {
   "source": [
    "## Deutschland rausfiltern"
   ],
   "cell_type": "markdown",
   "metadata": {}
  },
  {
   "cell_type": "code",
   "execution_count": 17,
   "metadata": {},
   "outputs": [],
   "source": [
    "Deutschland = full_grouped.loc[full_grouped[\"Country/Region\"] == \"Germany\"]\n",
    "Deutschland.to_csv(\"JH_Corona_Deutschland.csv\", index=False)"
   ]
  }
 ],
 "metadata": {
  "kernelspec": {
   "display_name": "Python 3",
   "language": "python",
   "name": "python3"
  },
  "language_info": {
   "codemirror_mode": {
    "name": "ipython",
    "version": 3
   },
   "file_extension": ".py",
   "mimetype": "text/x-python",
   "name": "python",
   "nbconvert_exporter": "python",
   "pygments_lexer": "ipython3",
   "version": "3.8.5-final"
  }
 },
 "nbformat": 4,
 "nbformat_minor": 4
}