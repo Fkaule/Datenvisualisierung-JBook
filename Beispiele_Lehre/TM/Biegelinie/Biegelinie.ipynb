{
 "cells": [
  {
   "cell_type": "markdown",
   "id": "8c96633e",
   "metadata": {},
   "source": [
    "# Herleitung\n",
    "\n",
    "![](Biegelinie1.png)"
   ]
  },
  {
   "cell_type": "markdown",
   "id": "55666da6",
   "metadata": {},
   "source": [
    "Imports"
   ]
  },
  {
   "cell_type": "code",
   "execution_count": 1,
   "id": "c3d3af95",
   "metadata": {},
   "outputs": [],
   "source": [
    "from sympy import *\n",
    "from sympy import init_printing\n",
    "init_printing() "
   ]
  },
  {
   "cell_type": "markdown",
   "id": "b5a89a1e",
   "metadata": {},
   "source": [
    "Differentialgleichung definieren"
   ]
  },
  {
   "cell_type": "code",
   "execution_count": 2,
   "id": "acce6c48",
   "metadata": {},
   "outputs": [
    {
     "data": {
      "image/png": "[encoded data removed]",
      "text/latex": [
       "$\\displaystyle E I \\frac{d^{2}}{d x^{2}} u{\\left(x \\right)} = - F L - F x$"
      ],
      "text/plain": [
       "      2                   \n",
       "     d                    \n",
       "E⋅I⋅───(u(x)) = -F⋅L - F⋅x\n",
       "      2                   \n",
       "    dx                    "
      ]
     },
     "execution_count": 2,
     "metadata": {},
     "output_type": "execute_result"
    }
   ],
   "source": [
    "E,I,x,L,F =symbols('E I x L F')\n",
    "u=symbols('u',cls=Function)\n",
    "M=F*L+F*x\n",
    "dglg=Eq(E*I*u(x).diff(x,2),-M)\n",
    "dglg"
   ]
  },
  {
   "cell_type": "markdown",
   "id": "43002290",
   "metadata": {},
   "source": [
    "Differentialgleichung lösen"
   ]
  },
  {
   "cell_type": "code",
   "execution_count": 3,
   "id": "61c11a32",
   "metadata": {},
   "outputs": [
    {
     "data": {
      "image/png": "[encoded data removed]",
      "text/latex": [
       "$\\displaystyle u{\\left(x \\right)} = C_{1} + \\frac{x \\left(C_{2} E I - \\frac{F L x}{2} - \\frac{F x^{2}}{6}\\right)}{E I}$"
      ],
      "text/plain": [
       "              ⎛                    2⎞\n",
       "              ⎜         F⋅L⋅x   F⋅x ⎟\n",
       "            x⋅⎜C₂⋅E⋅I - ───── - ────⎟\n",
       "              ⎝           2      6  ⎠\n",
       "u(x) = C₁ + ─────────────────────────\n",
       "                       E⋅I           "
      ]
     },
     "execution_count": 3,
     "metadata": {},
     "output_type": "execute_result"
    }
   ],
   "source": [
    "u=dsolve(dglg,u(x))\n",
    "u"
   ]
  },
  {
   "cell_type": "markdown",
   "id": "fb8144f1",
   "metadata": {},
   "source": [
    "Integrationskonstanten mit Hilfe von Randbedingungen bestimmen"
   ]
  },
  {
   "cell_type": "code",
   "execution_count": 4,
   "id": "34deea90",
   "metadata": {},
   "outputs": [
    {
     "data": {
      "image/png": "[encoded data removed]",
      "text/latex": [
       "$\\displaystyle \\left\\{ C_{1} : 0, \\  C_{2} : 0\\right\\}$"
      ],
      "text/plain": [
       "{C₁: 0, C₂: 0}"
      ]
     },
     "execution_count": 4,
     "metadata": {},
     "output_type": "execute_result"
    }
   ],
   "source": [
    "bed1 = u.rhs.subs(x,0) - 0\n",
    "bed2 = u.rhs.diff(x).subs(x,0) - 0\n",
    "C = solve([bed1,bed2])\n",
    "C"
   ]
  },
  {
   "cell_type": "markdown",
   "id": "f82efad8",
   "metadata": {},
   "source": [
    "Integrationskonstanten einsetzen"
   ]
  },
  {
   "cell_type": "code",
   "execution_count": 5,
   "id": "bd3db092",
   "metadata": {},
   "outputs": [
    {
     "data": {
      "image/png": "[encoded data removed]",
      "text/latex": [
       "$\\displaystyle u{\\left(x \\right)} = \\frac{x \\left(- \\frac{F L x}{2} - \\frac{F x^{2}}{6}\\right)}{E I}$"
      ],
      "text/plain": [
       "         ⎛             2⎞\n",
       "         ⎜  F⋅L⋅x   F⋅x ⎟\n",
       "       x⋅⎜- ───── - ────⎟\n",
       "         ⎝    2      6  ⎠\n",
       "u(x) = ──────────────────\n",
       "              E⋅I        "
      ]
     },
     "execution_count": 5,
     "metadata": {},
     "output_type": "execute_result"
    }
   ],
   "source": [
    "u = u.subs(C)\n",
    "u"
   ]
  },
  {
   "cell_type": "markdown",
   "id": "39390ed3",
   "metadata": {},
   "source": [
    "Gleichung vereinfachen"
   ]
  },
  {
   "cell_type": "code",
   "execution_count": 6,
   "id": "188160e2",
   "metadata": {},
   "outputs": [
    {
     "data": {
      "image/png": "[encoded data removed]",
      "text/latex": [
       "$\\displaystyle u{\\left(x \\right)} = - \\frac{F x^{2} \\left(3 L + x\\right)}{6 E I}$"
      ],
      "text/plain": [
       "           2           \n",
       "       -F⋅x ⋅(3⋅L + x) \n",
       "u(x) = ────────────────\n",
       "            6⋅E⋅I      "
      ]
     },
     "execution_count": 6,
     "metadata": {},
     "output_type": "execute_result"
    }
   ],
   "source": [
    "u.simplify()"
   ]
  },
  {
   "cell_type": "markdown",
   "id": "b2372729",
   "metadata": {},
   "source": [
    "Daten einsetzen"
   ]
  },
  {
   "cell_type": "code",
   "execution_count": 7,
   "id": "a0bb5312",
   "metadata": {},
   "outputs": [
    {
     "data": {
      "image/png": "[encoded data removed]",
      "text/latex": [
       "$\\displaystyle \\left( x \\mapsto 4.76190476190476 \\cdot 10^{-6} x \\left(- \\frac{5 x^{2}}{6} - 25 x\\right) \\right)$"
      ],
      "text/plain": [
       "                          ⎛     2       ⎞\n",
       "                          ⎜  5⋅x        ⎟\n",
       "x ↦ 4.76190476190476e-6⋅x⋅⎜- ──── - 25⋅x⎟\n",
       "                          ⎝   6         ⎠"
      ]
     },
     "execution_count": 7,
     "metadata": {},
     "output_type": "execute_result"
    }
   ],
   "source": [
    "data=[(F,5),(L,10),(E,210e3),(I,1)]\n",
    "ux = Lambda(x, u.rhs.subs(data))\n",
    "ux"
   ]
  },
  {
   "cell_type": "markdown",
   "id": "5ab86f7e",
   "metadata": {},
   "source": [
    "plotten"
   ]
  },
  {
   "cell_type": "code",
   "execution_count": 8,
   "id": "9282e5bb",
   "metadata": {},
   "outputs": [
    {
     "data": {
      "image/png": "[encoded data removed]",
      "text/plain": [
       "<Figure size 432x288 with 1 Axes>"
      ]
     },
     "metadata": {
      "needs_background": "light"
     },
     "output_type": "display_data"
    }
   ],
   "source": [
    "plot(ux(x),(x,0,L.subs(data)));"
   ]
  }
 ],
 "metadata": {
  "kernelspec": {
   "display_name": "Python 3",
   "language": "python",
   "name": "python3"
  },
  "language_info": {
   "codemirror_mode": {
    "name": "ipython",
    "version": 3
   },
   "file_extension": ".py",
   "mimetype": "text/x-python",
   "name": "python",
   "nbconvert_exporter": "python",
   "pygments_lexer": "ipython3",
   "version": "3.8.5"
  }
 },
 "nbformat": 4,
 "nbformat_minor": 5
}
