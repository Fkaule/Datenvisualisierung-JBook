{
 "cells": [
  {
   "cell_type": "markdown",
   "id": "44ed648f",
   "metadata": {},
   "source": [
    "# Herleitung\n",
    "\n",
    "![](Biegelinie1.png)"
   ]
  },
  {
   "cell_type": "markdown",
   "id": "1c5dd01b",
   "metadata": {},
   "source": [
    "Imports"
   ]
  },
  {
   "cell_type": "code",
   "execution_count": 1,
   "id": "8ee4a1f8",
   "metadata": {},
   "outputs": [],
   "source": [
    "from sympy import *\n",
    "from sympy import init_printing\n",
    "init_printing() "
   ]
  },
  {
   "cell_type": "markdown",
   "id": "3965cd00",
   "metadata": {},
   "source": [
    "Differentialgleichung definieren"
   ]
  },
  {
   "cell_type": "code",
   "execution_count": 2,
   "id": "6b328d04",
   "metadata": {},
   "outputs": [
    {
     "data": {
      "image/png": "[encoded data removed]",
      "text/latex": [
       "$\\displaystyle E I_{y} \\frac{d^{2}}{d x^{2}} u{\\left(x \\right)} = - M$"
      ],
      "text/plain": [
       "        2           \n",
       "       d            \n",
       "E⋅I_y⋅───(u(x)) = -M\n",
       "        2           \n",
       "      dx            "
      ]
     },
     "execution_count": 2,
     "metadata": {},
     "output_type": "execute_result"
    }
   ],
   "source": [
    "E,Iy,x,L,F, M =symbols('E I_y x L F M')\n",
    "u=symbols('u',cls=Function)\n",
    "dglg=Eq(E*Iy*u(x).diff(x,2),-M)\n",
    "dglg"
   ]
  },
  {
   "cell_type": "markdown",
   "id": "45e955b6",
   "metadata": {},
   "source": [
    "Momentenverlauf\n",
    "\n",
    "![](Biegelinie2.png)"
   ]
  },
  {
   "cell_type": "code",
   "execution_count": 3,
   "id": "a07526f0",
   "metadata": {},
   "outputs": [],
   "source": [
    "M=F*L+F*x"
   ]
  },
  {
   "cell_type": "markdown",
   "id": "a8ed5ced",
   "metadata": {},
   "source": [
    "Falls nicht klar ist wie man auf die Gleichung kommt, hier eine mögliche Herleitung:"
   ]
  },
  {
   "cell_type": "code",
   "execution_count": 4,
   "id": "17f11e1b",
   "metadata": {},
   "outputs": [],
   "source": [
    "# y(x=0) = FL\n",
    "x1=0\n",
    "y1=F*L \n",
    "\n",
    "# y(x=L) = 0\n",
    "x2=L\n",
    "y2=0\n",
    "\n",
    "M = (y2-y1)/(x2-x1) * (x-x1) + y1"
   ]
  },
  {
   "cell_type": "markdown",
   "id": "957e76fc",
   "metadata": {},
   "source": [
    "Die komplette Differentialgleichung lautet dann wie folgt:"
   ]
  },
  {
   "cell_type": "code",
   "execution_count": 5,
   "id": "55f27882",
   "metadata": {},
   "outputs": [
    {
     "data": {
      "image/png": "[encoded data removed]",
      "text/latex": [
       "$\\displaystyle E I_{y} \\frac{d^{2}}{d x^{2}} u{\\left(x \\right)} = - F L + F x$"
      ],
      "text/plain": [
       "        2                   \n",
       "       d                    \n",
       "E⋅I_y⋅───(u(x)) = -F⋅L + F⋅x\n",
       "        2                   \n",
       "      dx                    "
      ]
     },
     "execution_count": 5,
     "metadata": {},
     "output_type": "execute_result"
    }
   ],
   "source": [
    "dglg=Eq(E*Iy*u(x).diff(x,2),-M)\n",
    "dglg"
   ]
  },
  {
   "cell_type": "markdown",
   "id": "1054fa3f",
   "metadata": {},
   "source": [
    "Differentialgleichung lösen"
   ]
  },
  {
   "cell_type": "code",
   "execution_count": 6,
   "id": "2ee85742",
   "metadata": {},
   "outputs": [
    {
     "data": {
      "image/png": "[encoded data removed]",
      "text/latex": [
       "$\\displaystyle u{\\left(x \\right)} = C_{1} + \\frac{x \\left(C_{2} E I_{y} - \\frac{F L x}{2} + \\frac{F x^{2}}{6}\\right)}{E I_{y}}$"
      ],
      "text/plain": [
       "              ⎛                      2⎞\n",
       "              ⎜           F⋅L⋅x   F⋅x ⎟\n",
       "            x⋅⎜C₂⋅E⋅I_y - ───── + ────⎟\n",
       "              ⎝             2      6  ⎠\n",
       "u(x) = C₁ + ───────────────────────────\n",
       "                       E⋅I_y           "
      ]
     },
     "execution_count": 6,
     "metadata": {},
     "output_type": "execute_result"
    }
   ],
   "source": [
    "u=dsolve(dglg,u(x))\n",
    "u"
   ]
  },
  {
   "cell_type": "markdown",
   "id": "fcf45f81",
   "metadata": {},
   "source": [
    "Integrationskonstanten mit Hilfe von Randbedingungen bestimmen\n",
    "\n",
    "- u(x=0) = 0 -> muss umgestellt werden das Gleichung == 0 (ist bereits erfolgt)\n",
    "- u'(x=0) = 0 -> muss umgestellt werden das Gleichung == 0 (ist bereits erfolgt)\n",
    "\n",
    "<div class=\"alert alert-block alert-info\">\n",
    "<b>Hinweis zum Umstellung der Gleichung ==0:</b> Wäre die Randbedingung u(x=L)=1 so müsste stehen: u.rhs.subs(x,L)-1\n",
    "</div>\n"
   ]
  },
  {
   "cell_type": "code",
   "execution_count": 7,
   "id": "37a25de3",
   "metadata": {},
   "outputs": [
    {
     "data": {
      "image/png": "[encoded data removed]",
      "text/latex": [
       "$\\displaystyle \\left\\{ C_{1} : 0, \\  C_{2} : 0\\right\\}$"
      ],
      "text/plain": [
       "{C₁: 0, C₂: 0}"
      ]
     },
     "execution_count": 7,
     "metadata": {},
     "output_type": "execute_result"
    }
   ],
   "source": [
    "bed1 = u.rhs.subs(x,0)\n",
    "bed2 = u.rhs.diff(x).subs(x,0)\n",
    "C = solve([bed1,bed2])\n",
    "C"
   ]
  },
  {
   "cell_type": "markdown",
   "id": "da2eef5c",
   "metadata": {},
   "source": [
    "Integrationskonstanten einsetzen"
   ]
  },
  {
   "cell_type": "code",
   "execution_count": 8,
   "id": "517166d2",
   "metadata": {},
   "outputs": [
    {
     "data": {
      "image/png": "[encoded data removed]",
      "text/latex": [
       "$\\displaystyle u{\\left(x \\right)} = \\frac{x \\left(- \\frac{F L x}{2} + \\frac{F x^{2}}{6}\\right)}{E I_{y}}$"
      ],
      "text/plain": [
       "         ⎛             2⎞\n",
       "         ⎜  F⋅L⋅x   F⋅x ⎟\n",
       "       x⋅⎜- ───── + ────⎟\n",
       "         ⎝    2      6  ⎠\n",
       "u(x) = ──────────────────\n",
       "             E⋅I_y       "
      ]
     },
     "execution_count": 8,
     "metadata": {},
     "output_type": "execute_result"
    }
   ],
   "source": [
    "u = u.subs(C)\n",
    "u"
   ]
  },
  {
   "cell_type": "markdown",
   "id": "e08776bd",
   "metadata": {},
   "source": [
    "Gleichung vereinfachen"
   ]
  },
  {
   "cell_type": "code",
   "execution_count": 9,
   "id": "91e9c87f",
   "metadata": {},
   "outputs": [
    {
     "data": {
      "image/png": "[encoded data removed]",
      "text/latex": [
       "$\\displaystyle u{\\left(x \\right)} = \\frac{F x^{2} \\left(- 3 L + x\\right)}{6 E I_{y}}$"
      ],
      "text/plain": [
       "          2           \n",
       "       F⋅x ⋅(-3⋅L + x)\n",
       "u(x) = ───────────────\n",
       "           6⋅E⋅I_y    "
      ]
     },
     "execution_count": 9,
     "metadata": {},
     "output_type": "execute_result"
    }
   ],
   "source": [
    "u.simplify()"
   ]
  },
  {
   "cell_type": "markdown",
   "id": "e080a070",
   "metadata": {},
   "source": [
    "Daten einsetzen\n",
    "\n",
    "Will man die das Ergebnis grafisch darstellen, so muss man Werte einsetzen\n",
    "\n",
    "Beispieldaten: \n",
    "- $F=5N$\n",
    "- $L=10mm$\n",
    "- $E=210000MPa$\n",
    "- $I_y=1mm^4$\n",
    "\n",
    "Das Ergebnis ist dann in den Einheiten in denen die Beispieldaten gegeben sind (also hier in mm)"
   ]
  },
  {
   "cell_type": "code",
   "execution_count": 10,
   "id": "9fc0b124",
   "metadata": {},
   "outputs": [
    {
     "data": {
      "image/png": "[encoded data removed]",
      "text/latex": [
       "$\\displaystyle \\left( x \\mapsto 4.76190476190476 \\cdot 10^{-6} x \\left(\\frac{5 x^{2}}{6} - 25 x\\right) \\right)$"
      ],
      "text/plain": [
       "                          ⎛   2       ⎞\n",
       "                          ⎜5⋅x        ⎟\n",
       "x ↦ 4.76190476190476e-6⋅x⋅⎜──── - 25⋅x⎟\n",
       "                          ⎝ 6         ⎠"
      ]
     },
     "execution_count": 10,
     "metadata": {},
     "output_type": "execute_result"
    }
   ],
   "source": [
    "data=[(F,5),(L,10),(E,210e3),(Iy,1)]\n",
    "ux = Lambda(x, u.rhs.subs(data))\n",
    "ux"
   ]
  },
  {
   "cell_type": "markdown",
   "id": "b0d2f178",
   "metadata": {},
   "source": [
    "plotten"
   ]
  },
  {
   "cell_type": "code",
   "execution_count": 11,
   "id": "89b919d7",
   "metadata": {},
   "outputs": [
    {
     "data": {
      "image/png": "[encoded data removed]",
      "text/plain": [
       "<Figure size 432x288 with 1 Axes>"
      ]
     },
     "metadata": {
      "needs_background": "light"
     },
     "output_type": "display_data"
    }
   ],
   "source": [
    "plot(ux(x),(x,0,L.subs(data)));"
   ]
  }
 ],
 "metadata": {
  "kernelspec": {
   "display_name": "Python 3",
   "language": "python",
   "name": "python3"
  },
  "language_info": {
   "codemirror_mode": {
    "name": "ipython",
    "version": 3
   },
   "file_extension": ".py",
   "mimetype": "text/x-python",
   "name": "python",
   "nbconvert_exporter": "python",
   "pygments_lexer": "ipython3",
   "version": "3.8.5"
  }
 },
 "nbformat": 4,
 "nbformat_minor": 5
}
