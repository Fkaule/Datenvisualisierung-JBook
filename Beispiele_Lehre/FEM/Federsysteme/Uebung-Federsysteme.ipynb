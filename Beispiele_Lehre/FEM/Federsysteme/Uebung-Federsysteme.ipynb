{
 "cells": [
  {
   "cell_type": "markdown",
   "id": "a258d45e",
   "metadata": {},
   "source": [
    "# Übung Federsysteme"
   ]
  },
  {
   "cell_type": "markdown",
   "id": "60839acf",
   "metadata": {},
   "source": [
    "![](Uebung-Federsysteme.png)"
   ]
  },
  {
   "cell_type": "markdown",
   "id": "643c4a4f",
   "metadata": {},
   "source": [
    "**Gesucht:** <br>\n",
    "\n",
    "- Verschiebungen für $p_1$ und $p_2$\n",
    "- Federkräfte $N_1$ , $N_2$ und $N_3$\n",
    "\n",
    "**Gegeben:** <br>\n",
    "\n",
    "- $c_1=2k$ , $c_2=4k$ , $c_3=k$ , $f_1=3F$ , $f_2=-F$"
   ]
  },
  {
   "cell_type": "markdown",
   "id": "34b3516d",
   "metadata": {},
   "source": [
    "## Lösung ohne Verwendung von Listen (übersichtlicher)\n",
    "\n",
    "<div class=\"alert alert-block alert-info\">\n",
    "<b>Hinweis:</b> Da keine Listen verwendet werden ist  der Code übersichtlicher, jedoch sind Anpassungen aufwendiger. Weiter unten wird ein Lösungsweg mit der Verwendung von Listen aufgezeigt\n",
    "</div>\n"
   ]
  },
  {
   "cell_type": "markdown",
   "id": "c66f6d2e",
   "metadata": {},
   "source": [
    "### notwendige Python Bilbiotheken importieren"
   ]
  },
  {
   "cell_type": "code",
   "execution_count": 1,
   "id": "3471bec2",
   "metadata": {},
   "outputs": [],
   "source": [
    "import numpy as np"
   ]
  },
  {
   "cell_type": "markdown",
   "id": "edae8417",
   "metadata": {},
   "source": [
    "### Steifigkeitsmatritzen (Elemente)\n",
    "\n",
    "$Ke_1$ = $\\left(\\begin{array}{rrr} \n",
    "2k & -2k \\\\ \n",
    "-2k & 2k \\\\ \n",
    "\\end{array}\\right)$\n",
    "\n",
    "$Ke_2$ = $\\left(\\begin{array}{rrr} \n",
    "4k & -4k \\\\ \n",
    "-4k & 4k \\\\ \n",
    "\\end{array}\\right)$\n",
    "\n",
    "$Ke_3$ = $\\left(\\begin{array}{rrr} \n",
    "1k & -1k \\\\ \n",
    "-1k & 1k \\\\ \n",
    "\\end{array}\\right)$\n",
    "\n",
    "<div class=\"alert alert-block alert-info\">\n",
    "<b>Hinweis:</b> Da wir numerisch rechnen, setzen wir k=1\n",
    "</div>"
   ]
  },
  {
   "cell_type": "code",
   "execution_count": 2,
   "id": "4630235e",
   "metadata": {},
   "outputs": [
    {
     "name": "stdout",
     "output_type": "stream",
     "text": [
      "Elementsteifigkeitsmatrix K1 :\n",
      " [[ 2 -2]\n",
      " [-2  2]] \n",
      "\n",
      "Elementsteifigkeitsmatrix K2 :\n",
      " [[ 4 -4]\n",
      " [-4  4]] \n",
      "\n",
      "Elementsteifigkeitsmatrix K3 :\n",
      " [[ 1 -1]\n",
      " [-1  1]] \n",
      "\n"
     ]
    }
   ],
   "source": [
    "#gegeben\n",
    "c1=2\n",
    "c2=4\n",
    "c3=1 \n",
    "Ke_1 = np.array([[1, -1], [-1, 1]]) * c1\n",
    "Ke_2 = np.array([[1, -1], [-1, 1]]) * c2\n",
    "Ke_3 = np.array([[1, -1], [-1, 1]]) * c3\n",
    "\n",
    "#Ausgabe zur optischen Kontrolle\n",
    "print(\"Elementsteifigkeitsmatrix K1 :\\n\",Ke_1,\"\\n\")\n",
    "print(\"Elementsteifigkeitsmatrix K2 :\\n\",Ke_2,\"\\n\")\n",
    "print(\"Elementsteifigkeitsmatrix K3 :\\n\",Ke_3,\"\\n\")"
   ]
  },
  {
   "cell_type": "markdown",
   "id": "2337f389",
   "metadata": {},
   "source": [
    "### Freiheitsgrade (System)\n",
    "\n",
    "$q_{sys}$ = $\\left(\\begin{array}{rrr} \n",
    "3F \\\\ \n",
    "-F \\\\ \n",
    "\\end{array}\\right)$\n",
    "\n",
    "<div class=\"alert alert-block alert-info\">\n",
    "<b>Hinweis:</b> Da wir numerisch rechnen, setzen wir F=1\n",
    "</div>"
   ]
  },
  {
   "cell_type": "code",
   "execution_count": 3,
   "id": "45149a10",
   "metadata": {},
   "outputs": [
    {
     "name": "stdout",
     "output_type": "stream",
     "text": [
      "Lastvektor:\n",
      " [[ 3]\n",
      " [-1]]\n"
     ]
    }
   ],
   "source": [
    "# Lastvektor\n",
    "q_sys = np.array([[3], [-1]])\n",
    "\n",
    "#Ausgabe zur optischen Kontrolle\n",
    "print(\"Lastvektor:\\n\",q_sys)"
   ]
  },
  {
   "cell_type": "markdown",
   "id": "37a86091",
   "metadata": {},
   "source": [
    "### Inzidenzmatritzen (Elemente)\n",
    "\n",
    "![](Inzidenzmatritzen.png)\n",
    "\n",
    "$\\Lambda_1$ = $\\left(\\begin{array}{rrr} \n",
    "0 & 1 \\\\ \n",
    "0 & 0 \\\\ \n",
    "\\end{array}\\right)$\n",
    "\n",
    "$\\Lambda_2$ = $\\left(\\begin{array}{rrr} \n",
    "1 & 0 \\\\ \n",
    "0 & 1 \\\\ \n",
    "\\end{array}\\right)$\n",
    "\n",
    "$\\Lambda_3$ = $\\left(\\begin{array}{rrr} \n",
    "1 & 0 \\\\ \n",
    "0 & 0 \\\\ \n",
    "\\end{array}\\right)$"
   ]
  },
  {
   "cell_type": "code",
   "execution_count": 4,
   "id": "b93fb674",
   "metadata": {},
   "outputs": [
    {
     "name": "stdout",
     "output_type": "stream",
     "text": [
      "Inzidenzmatrix 1 :\n",
      " [[0 1]\n",
      " [0 0]] \n",
      "\n",
      "Inzidenzmatrix 2 :\n",
      " [[1 0]\n",
      " [0 1]] \n",
      "\n",
      "Inzidenzmatrix 3 :\n",
      " [[1 0]\n",
      " [0 0]] \n",
      "\n"
     ]
    }
   ],
   "source": [
    "inz_1=np.array([[0, 1], [0, 0]]) #Lambda_1\n",
    "inz_2=np.array([[1, 0], [0, 1]]) #Lambda_2\n",
    "inz_3=np.array([[1, 0], [0, 0]]) #Lambda_3\n",
    "\n",
    "#Ausgabe zur optischen Kontrolle\n",
    "print(\"Inzidenzmatrix 1 :\\n\",inz_1,\"\\n\")\n",
    "print(\"Inzidenzmatrix 2 :\\n\",inz_2,\"\\n\")\n",
    "print(\"Inzidenzmatrix 3 :\\n\",inz_3,\"\\n\")"
   ]
  },
  {
   "cell_type": "markdown",
   "id": "9f660a77",
   "metadata": {},
   "source": [
    "### Steifigkeitsmatrix (System)\n",
    "\n",
    "$ K_{sys} = \\sum_{e=1}^3 {\\Lambda^e}^T {K^e} {\\Lambda^e} $"
   ]
  },
  {
   "cell_type": "code",
   "execution_count": 5,
   "id": "800fd9f9",
   "metadata": {},
   "outputs": [
    {
     "name": "stdout",
     "output_type": "stream",
     "text": [
      "Gesamtsteifigkeitsmatrix:\n",
      " [[ 5 -4]\n",
      " [-4  6]]\n"
     ]
    }
   ],
   "source": [
    "Ksyspart_1 = np.matmul(np.matmul(np.transpose(inz_1),Ke_1),inz_1)\n",
    "Ksyspart_2 = np.matmul(np.matmul(np.transpose(inz_2),Ke_2),inz_2)\n",
    "Ksyspart_3 = np.matmul(np.matmul(np.transpose(inz_3),Ke_3),inz_3)\n",
    "\n",
    "K_sys= Ksyspart_1 + Ksyspart_2 + Ksyspart_3\n",
    "#Ausgabe zur optischen Kontrolle\n",
    "print(\"Gesamtsteifigkeitsmatrix:\\n\",K_sys)"
   ]
  },
  {
   "cell_type": "markdown",
   "id": "efcbaeb9",
   "metadata": {},
   "source": [
    "### Freiheitsgrade (System)\n",
    "\n",
    "lösen von $p_{sys}$ : <br>\n",
    "$K_{sys} p_{sys} = q_{sys}$"
   ]
  },
  {
   "cell_type": "code",
   "execution_count": 6,
   "id": "6b995031",
   "metadata": {},
   "outputs": [
    {
     "name": "stdout",
     "output_type": "stream",
     "text": [
      "Systemfreiheitsgrade p_sys:\n",
      " [[1. ]\n",
      " [0.5]] \n",
      "\n",
      "Lösung: p_1 = [1.]\n",
      "Lösung: p_2 = [0.5]\n"
     ]
    }
   ],
   "source": [
    "p_sys = np.linalg.solve(K_sys, q_sys)\n",
    "print(\"Systemfreiheitsgrade p_sys:\\n\",p_sys,\"\\n\")\n",
    "\n",
    "#Ausgabe der Lösung\n",
    "print(\"Lösung: p_1 =\",p_sys[0])\n",
    "print(\"Lösung: p_2 =\",p_sys[1])"
   ]
  },
  {
   "cell_type": "markdown",
   "id": "ed226f14",
   "metadata": {},
   "source": [
    "### Freiheitsgrade (Elemente)"
   ]
  },
  {
   "cell_type": "code",
   "execution_count": 7,
   "id": "1e5ab68e",
   "metadata": {},
   "outputs": [
    {
     "name": "stdout",
     "output_type": "stream",
     "text": [
      "Elementfreiheitsgrad 1:\n",
      " [[0.5]\n",
      " [0. ]] \n",
      "\n",
      "Elementfreiheitsgrad 2:\n",
      " [[1. ]\n",
      " [0.5]] \n",
      "\n",
      "Elementfreiheitsgrad 3:\n",
      " [[1.]\n",
      " [0.]] \n",
      "\n"
     ]
    }
   ],
   "source": [
    "pe_1=np.matmul(inz_1,p_sys)\n",
    "pe_2=np.matmul(inz_2,p_sys)\n",
    "pe_3=np.matmul(inz_3,p_sys)\n",
    "\n",
    "#Ausgabe zur optischen Kontrolle\n",
    "print(\"Elementfreiheitsgrad 1:\\n\",pe_1,\"\\n\")\n",
    "print(\"Elementfreiheitsgrad 2:\\n\",pe_2,\"\\n\")\n",
    "print(\"Elementfreiheitsgrad 3:\\n\",pe_3,\"\\n\")"
   ]
  },
  {
   "cell_type": "markdown",
   "id": "09a1205c",
   "metadata": {},
   "source": [
    "### Federkräfte (Elemente)"
   ]
  },
  {
   "cell_type": "code",
   "execution_count": 8,
   "id": "33626cd6",
   "metadata": {},
   "outputs": [
    {
     "name": "stdout",
     "output_type": "stream",
     "text": [
      "Lösung: Federkraft N1: [1.]\n",
      "Lösung: Federkraft N2: [2.]\n",
      "Lösung: Federkraft N3: [1.]\n"
     ]
    }
   ],
   "source": [
    "Ne_1 = c1*(pe_1[0]-pe_1[1])\n",
    "Ne_2 = c2*(pe_2[0]-pe_2[1])\n",
    "Ne_3 = c3*(pe_3[0]-pe_3[1])\n",
    "\n",
    "#Ausgabe der Lösung\n",
    "print(\"Lösung: Federkraft N_1:\",Ne_1)\n",
    "print(\"Lösung: Federkraft N_2:\",Ne_2)\n",
    "print(\"Lösung: Federkraft N_3:\",Ne_3)"
   ]
  },
  {
   "cell_type": "markdown",
   "id": "fbfaeb66",
   "metadata": {},
   "source": [
    "## Lösung mit der Verwendung von Listen (Fortgeschritten)\n",
    "\n",
    "<div class=\"alert alert-block alert-info\">\n",
    "<b>Hinweis:</b> Die Verwendung von Listen sieht kompliziert aus, vereinfacht aber die Eingabe, weil weniger geändert werden muss\n",
    "</div>\n"
   ]
  },
  {
   "cell_type": "markdown",
   "id": "93c28605",
   "metadata": {},
   "source": [
    "### notwendige Python Bilbiotheken importieren"
   ]
  },
  {
   "cell_type": "code",
   "execution_count": 9,
   "id": "e4ed0c56",
   "metadata": {},
   "outputs": [],
   "source": [
    "import numpy as np"
   ]
  },
  {
   "cell_type": "markdown",
   "id": "e1d0bd1f",
   "metadata": {},
   "source": [
    "### Steifigkeitsmatritzen (Elemente)\n",
    "\n",
    "$Ke_1$ = $\\left(\\begin{array}{rrr} \n",
    "2k & -2k \\\\ \n",
    "-2k & 2k \\\\ \n",
    "\\end{array}\\right)$\n",
    "\n",
    "$Ke_2$ = $\\left(\\begin{array}{rrr} \n",
    "4k & -4k \\\\ \n",
    "-4k & 4k \\\\ \n",
    "\\end{array}\\right)$\n",
    "\n",
    "$Ke_3$ = $\\left(\\begin{array}{rrr} \n",
    "1k & -1k \\\\ \n",
    "-1k & 1k \\\\ \n",
    "\\end{array}\\right)$\n",
    "\n",
    "<div class=\"alert alert-block alert-info\">\n",
    "<b>Hinweis:</b> Da wir numerisch rechnen, setzen wir k=1\n",
    "</div>"
   ]
  },
  {
   "cell_type": "code",
   "execution_count": 10,
   "id": "82e96003",
   "metadata": {},
   "outputs": [
    {
     "name": "stdout",
     "output_type": "stream",
     "text": [
      "Elementsteifigkeitsmatrix  1 :\n",
      " [[ 2 -2]\n",
      " [-2  2]] \n",
      "\n",
      "Elementsteifigkeitsmatrix  2 :\n",
      " [[ 4 -4]\n",
      " [-4  4]] \n",
      "\n",
      "Elementsteifigkeitsmatrix  3 :\n",
      " [[ 1 -1]\n",
      " [-1  1]] \n",
      "\n"
     ]
    }
   ],
   "source": [
    "#gegeben\n",
    "c_list = [2,4,1] #k\n",
    "\n",
    "Ke = [] # leere Liste anlegen\n",
    "i=0 # Laufvariable\n",
    "# Schleife mit allen Einträgen in c_list\n",
    "for c in c_list:\n",
    "    i+=1 # Laufvariable + 1\n",
    "    Ke_i=np.array([[1, -1], [-1, 1]])*c\n",
    "    Ke.append(Ke_i)\n",
    "    #Ausgabe zur optischen Kontrolle\n",
    "    print(\"Elementsteifigkeitsmatrix \",i,\":\\n\",Ke_i,\"\\n\")\n"
   ]
  },
  {
   "cell_type": "markdown",
   "id": "6236b2c8",
   "metadata": {},
   "source": [
    "### Freiheitsgrade (System)\n",
    "\n",
    "$q_{sys}$ = $\\left(\\begin{array}{rrr} \n",
    "3F \\\\ \n",
    "-F \\\\ \n",
    "\\end{array}\\right)$\n",
    "\n",
    "<div class=\"alert alert-block alert-info\">\n",
    "<b>Hinweis:</b> Da wir numerisch rechnen, setzen wir F=1\n",
    "</div>"
   ]
  },
  {
   "cell_type": "code",
   "execution_count": 11,
   "id": "84e662fa",
   "metadata": {},
   "outputs": [
    {
     "name": "stdout",
     "output_type": "stream",
     "text": [
      "Lastvektor:\n",
      " [[ 3]\n",
      " [-1]]\n"
     ]
    }
   ],
   "source": [
    "# Lastvektor\n",
    "q_sys = np.array([[3], [-1]])\n",
    "\n",
    "#Ausgabe zur optischen Kontrolle\n",
    "print(\"Lastvektor:\\n\",q_sys)"
   ]
  },
  {
   "cell_type": "markdown",
   "id": "b07d39b7",
   "metadata": {},
   "source": [
    "### Inzidenzmatritzen (Elemente)\n",
    "\n",
    "![](Inzidenzmatritzen.png)\n",
    "\n",
    "$\\Lambda_1$ = $\\left(\\begin{array}{rrr} \n",
    "0 & 1 \\\\ \n",
    "0 & 0 \\\\ \n",
    "\\end{array}\\right)$\n",
    "\n",
    "$\\Lambda_2$ = $\\left(\\begin{array}{rrr} \n",
    "1 & 0 \\\\ \n",
    "0 & 1 \\\\ \n",
    "\\end{array}\\right)$\n",
    "\n",
    "$\\Lambda_3$ = $\\left(\\begin{array}{rrr} \n",
    "1 & 0 \\\\ \n",
    "0 & 0 \\\\ \n",
    "\\end{array}\\right)$"
   ]
  },
  {
   "cell_type": "code",
   "execution_count": 12,
   "id": "ce5aabc1",
   "metadata": {},
   "outputs": [
    {
     "name": "stdout",
     "output_type": "stream",
     "text": [
      "Inzidenzmatrix 1 :\n",
      " [[0 1]\n",
      " [0 0]] \n",
      "\n",
      "Inzidenzmatrix 2 :\n",
      " [[1 0]\n",
      " [0 1]] \n",
      "\n",
      "Inzidenzmatrix 3 :\n",
      " [[1 0]\n",
      " [0 0]] \n",
      "\n"
     ]
    }
   ],
   "source": [
    "inz=[] # leere Liste anlegen\n",
    "inz.append(np.array([[0, 1], [0, 0]])) #Lambda_1\n",
    "inz.append(np.array([[1, 0], [0, 1]])) #Lambda_2\n",
    "inz.append(np.array([[1, 0], [0, 0]])) #Lambda_3\n",
    "\n",
    "#Ausgabe zur optischen Kontrolle\n",
    "i=0\n",
    "for inz_i in inz: i+=1;print(\"Inzidenzmatrix\",i,\":\\n\",inz_i,\"\\n\")"
   ]
  },
  {
   "cell_type": "markdown",
   "id": "8283adfe",
   "metadata": {},
   "source": [
    "### Steifigkeitsmatrix (System)\n",
    "\n",
    "$ K_{sys} = \\sum_{e=1}^3 {\\Lambda^e}^T {K^e} {\\Lambda^e} $"
   ]
  },
  {
   "cell_type": "code",
   "execution_count": 13,
   "id": "a8928a76",
   "metadata": {},
   "outputs": [
    {
     "name": "stdout",
     "output_type": "stream",
     "text": [
      "Gesamtsteifigkeitsmatrix:\n",
      " [[ 5 -4]\n",
      " [-4  6]]\n"
     ]
    }
   ],
   "source": [
    "K_i=[] # leere Liste anlegen\n",
    "\n",
    "# Schleife über alle Elemente (Anzahl Einträge von inz)\n",
    "for i in range(len(inz)):\n",
    "    K_i.append(np.matmul(np.matmul(np.transpose(inz[i]),Ke[i]),inz[i]))\n",
    "\n",
    "K_sys=np.sum(K_i, axis=0)\n",
    "\n",
    "#Ausgabe zur optischen Kontrolle\n",
    "print(\"Gesamtsteifigkeitsmatrix:\\n\",K_sys)"
   ]
  },
  {
   "cell_type": "markdown",
   "id": "6e897309",
   "metadata": {},
   "source": [
    "### Freiheitsgrade (System)\n",
    "\n",
    "lösen von $p_{sys}$ : <br>\n",
    "$K_{sys} p_{sys} = q_{sys}$"
   ]
  },
  {
   "cell_type": "code",
   "execution_count": 14,
   "id": "bc069fa5",
   "metadata": {},
   "outputs": [
    {
     "name": "stdout",
     "output_type": "stream",
     "text": [
      "Systemfreiheitsgrade p_sys:\n",
      " [[1. ]\n",
      " [0.5]] \n",
      "\n",
      "Lösung: p_1 = [1.]\n",
      "Lösung: p_2 = [0.5]\n"
     ]
    }
   ],
   "source": [
    "p_sys = np.linalg.solve(K_sys, q_sys)\n",
    "print(\"Systemfreiheitsgrade p_sys:\\n\",p_sys,\"\\n\")\n",
    "\n",
    "#Ausgabe der Lösung\n",
    "print(\"Lösung: p_1 =\",p_sys[0])\n",
    "print(\"Lösung: p_2 =\",p_sys[1])"
   ]
  },
  {
   "cell_type": "markdown",
   "id": "83a7725d",
   "metadata": {},
   "source": [
    "### Freiheitsgrade (Elemente)"
   ]
  },
  {
   "cell_type": "code",
   "execution_count": 15,
   "id": "05fad674",
   "metadata": {},
   "outputs": [
    {
     "name": "stdout",
     "output_type": "stream",
     "text": [
      "Elementfreiheitsgrad  0 :\n",
      " [[0.5]\n",
      " [0. ]] \n",
      "\n",
      "Elementfreiheitsgrad  1 :\n",
      " [[1. ]\n",
      " [0.5]] \n",
      "\n",
      "Elementfreiheitsgrad  2 :\n",
      " [[1.]\n",
      " [0.]] \n",
      "\n"
     ]
    }
   ],
   "source": [
    "pe = [] # leere Liste anlegen\n",
    "# Schleife über alle Elemente (Anzahl Einträge von c_list)\n",
    "for i in range(len(c_list)):\n",
    "    pe_i=np.matmul(inz[i],p_sys)\n",
    "    pe.append(pe_i)\n",
    "    #Ausgabe zur optischen Kontrolle\n",
    "    print(\"Elementfreiheitsgrad \",i,\":\\n\",pe_i,\"\\n\")"
   ]
  },
  {
   "cell_type": "markdown",
   "id": "553bd4dc",
   "metadata": {},
   "source": [
    "### Federkräfte (Elemente)"
   ]
  },
  {
   "cell_type": "code",
   "execution_count": 16,
   "id": "443dc407",
   "metadata": {},
   "outputs": [
    {
     "name": "stdout",
     "output_type": "stream",
     "text": [
      "Lösung: Federkraft N_ 1 = [1.]\n",
      "Lösung: Federkraft N_ 2 = [2.]\n",
      "Lösung: Federkraft N_ 3 = [1.]\n"
     ]
    }
   ],
   "source": [
    "Ne = [] # leere Liste anlegen\n",
    "i=0 # Laufvariable\n",
    "# Schleife mit allen Einträgen in c_list\n",
    "for c in c_list:\n",
    "    i+=1 # Laufvariable + 1\n",
    "    Ne_i=c*(pe[i-1][0]-pe[i-1][1]) # ersten Listenindex = 0 (deswegen) i-1)\n",
    "    Ne.append(Ne_i)\n",
    "    #Ausgabe der Lösung\n",
    "    print(\"Lösung: Federkraft N_\",i,\"=\",Ne_i)"
   ]
  },
  {
   "cell_type": "code",
   "execution_count": null,
   "id": "3e92b228",
   "metadata": {},
   "outputs": [],
   "source": []
  }
 ],
 "metadata": {
  "kernelspec": {
   "display_name": "Python 3",
   "language": "python",
   "name": "python3"
  },
  "language_info": {
   "codemirror_mode": {
    "name": "ipython",
    "version": 3
   },
   "file_extension": ".py",
   "mimetype": "text/x-python",
   "name": "python",
   "nbconvert_exporter": "python",
   "pygments_lexer": "ipython3",
   "version": "3.8.5"
  },
  "toc-autonumbering": true
 },
 "nbformat": 4,
 "nbformat_minor": 5
}
