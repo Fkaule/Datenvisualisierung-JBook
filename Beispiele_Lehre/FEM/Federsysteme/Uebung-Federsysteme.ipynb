{
 "cells": [
  {
   "cell_type": "markdown",
   "id": "a29e61c9",
   "metadata": {},
   "source": [
    "# Übung Federsysteme"
   ]
  },
  {
   "cell_type": "markdown",
   "id": "8654f09b",
   "metadata": {},
   "source": [
    "![](Uebung-Federsysteme.png)"
   ]
  },
  {
   "cell_type": "markdown",
   "id": "12c67b69",
   "metadata": {},
   "source": [
    "**Gesucht:** <br>\n",
    "\n",
    "- Verschiebungen für $p_1$ und $p_2$\n",
    "- Federkräfte $N_1$ , $N_2$ und $N_3$\n",
    "\n",
    "**Gegeben:** <br>\n",
    "\n",
    "- $c_1=2k$ , $c_2=4k$ , $c_3=k$ , $f_1=3F$ , $f_2=-F$"
   ]
  },
  {
   "cell_type": "markdown",
   "id": "7cbb211b",
   "metadata": {},
   "source": [
    "## Lösung"
   ]
  },
  {
   "cell_type": "markdown",
   "id": "4b3d2d46",
   "metadata": {},
   "source": [
    "### notwendige Python Bilbiotheken importieren"
   ]
  },
  {
   "cell_type": "code",
   "execution_count": 106,
   "id": "c7f7588f",
   "metadata": {},
   "outputs": [],
   "source": [
    "import numpy as np"
   ]
  },
  {
   "cell_type": "markdown",
   "id": "e693f45e",
   "metadata": {},
   "source": [
    "### Element-Steifigkeitsmatritzen\n",
    "\n",
    "$Ke_1$ = $\\left(\\begin{array}{rrr} \n",
    "2k & -2k \\\\ \n",
    "-2k & 2k \\\\ \n",
    "\\end{array}\\right)$\n",
    "\n",
    "$Ke_2$ = $\\left(\\begin{array}{rrr} \n",
    "4k & -4k \\\\ \n",
    "-4k & 4k \\\\ \n",
    "\\end{array}\\right)$\n",
    "\n",
    "$Ke_3$ = $\\left(\\begin{array}{rrr} \n",
    "1k & -1k \\\\ \n",
    "-1k & 1k \\\\ \n",
    "\\end{array}\\right)$\n",
    "\n",
    "<div class=\"alert alert-block alert-info\">\n",
    "<b>Hinweis:</b> Da wir numerisch rechnen, setzen wir k=1\n",
    "</div>"
   ]
  },
  {
   "cell_type": "code",
   "execution_count": 112,
   "id": "b2f52df6",
   "metadata": {},
   "outputs": [
    {
     "name": "stdout",
     "output_type": "stream",
     "text": [
      "Elementsteifigkeitsmatrix  1 :\n",
      " [[ 2 -2]\n",
      " [-2  2]] \n",
      "\n",
      "Elementsteifigkeitsmatrix  2 :\n",
      " [[ 4 -4]\n",
      " [-4  4]] \n",
      "\n",
      "Elementsteifigkeitsmatrix  3 :\n",
      " [[ 1 -1]\n",
      " [-1  1]] \n",
      "\n"
     ]
    }
   ],
   "source": [
    "#gegeben\n",
    "c_list = [2,4,1] #k\n",
    "\n",
    "Ke = [] # leere Liste anlegen\n",
    "i=0 # Laufvariable\n",
    "# Schleife mit allen Einträgen in c_list\n",
    "for c in c_list:\n",
    "    i+=1 # Laufvariable + 1\n",
    "    Ke_i=np.array([[1, -1], [-1, 1]])*c\n",
    "    Ke.append(Ke_i)\n",
    "    print(\"Elementsteifigkeitsmatrix \",i,\":\\n\",Ke_i,\"\\n\")\n"
   ]
  },
  {
   "cell_type": "markdown",
   "id": "86733bd9",
   "metadata": {},
   "source": [
    "### System-Freiheitsgrade\n",
    "\n",
    "$q_{sys}$ = $\\left(\\begin{array}{rrr} \n",
    "3F \\\\ \n",
    "-F \\\\ \n",
    "\\end{array}\\right)$\n",
    "\n",
    "<div class=\"alert alert-block alert-info\">\n",
    "<b>Hinweis:</b> Da wir numerisch rechnen, setzen wir F=1\n",
    "</div>"
   ]
  },
  {
   "cell_type": "code",
   "execution_count": 104,
   "id": "77510fa6",
   "metadata": {},
   "outputs": [
    {
     "name": "stdout",
     "output_type": "stream",
     "text": [
      "Lastvektor:\n",
      " [[ 3]\n",
      " [-1]]\n"
     ]
    }
   ],
   "source": [
    "# Lastvektor\n",
    "q_sys = np.array([[3], [-1]])\n",
    "print(\"Lastvektor:\\n\",q_sys)"
   ]
  },
  {
   "cell_type": "markdown",
   "id": "77b33826",
   "metadata": {},
   "source": [
    "### Inzidenzmatritzen\n",
    "\n",
    "$\\Lambda_1$ = $\\left(\\begin{array}{rrr} \n",
    "0 & 1 \\\\ \n",
    "0 & 0 \\\\ \n",
    "\\end{array}\\right)$\n",
    "\n",
    "$\\Lambda_2$ = $\\left(\\begin{array}{rrr} \n",
    "1 & 0 \\\\ \n",
    "0 & 1 \\\\ \n",
    "\\end{array}\\right)$\n",
    "\n",
    "$\\Lambda_3$ = $\\left(\\begin{array}{rrr} \n",
    "1 & 0 \\\\ \n",
    "0 & 0 \\\\ \n",
    "\\end{array}\\right)$"
   ]
  },
  {
   "cell_type": "code",
   "execution_count": 86,
   "id": "08a0b606",
   "metadata": {},
   "outputs": [],
   "source": [
    "inz=[] # leere Liste anlegen\n",
    "inz.append(np.array([[0, 1], [0, 0]])) #Lambda_1\n",
    "inz.append(np.array([[1, 0], [0, 1]])) #Lambda_1\n",
    "inz.append(np.array([[1, 0], [0, 0]])) #Lambda_1"
   ]
  },
  {
   "cell_type": "markdown",
   "id": "bb171e91",
   "metadata": {},
   "source": [
    "### System-Steifigkeitsmatrix\n",
    "\n",
    "$ K_{sys} = \\sum_{e=1}^3 {\\Lambda^e}^T {K^e} {\\Lambda^e} $"
   ]
  },
  {
   "cell_type": "code",
   "execution_count": 107,
   "id": "67f7018f",
   "metadata": {},
   "outputs": [
    {
     "name": "stdout",
     "output_type": "stream",
     "text": [
      "Gesamtsteifigkeitsmatrix:\n",
      " [[ 5 -4]\n",
      " [-4  6]]\n"
     ]
    }
   ],
   "source": [
    "K_i=[] # leere Liste anlegen\n",
    "\n",
    "# Schleife über alle Elemente (Anzahl Einträge von inz)\n",
    "for i in range(len(inz)):\n",
    "    K_i.append(np.matmul(np.matmul(np.transpose(inz[i]),Ke[i]),inz[i]))\n",
    "\n",
    "K_sys=np.sum(Ki, axis=0)\n",
    "print(\"Gesamtsteifigkeitsmatrix:\\n\",K_ges)"
   ]
  },
  {
   "cell_type": "markdown",
   "id": "756e99e3",
   "metadata": {},
   "source": [
    "### Systemfreiheitsgrade\n",
    "\n",
    "lösen von $p_{sys}$ : <br>\n",
    "$K_{sys} p_{sys} = q_{sys}$"
   ]
  },
  {
   "cell_type": "code",
   "execution_count": 135,
   "id": "57db655a",
   "metadata": {},
   "outputs": [
    {
     "name": "stdout",
     "output_type": "stream",
     "text": [
      "Systemfreiheitsgrade p_sys:\n",
      " [[1. ]\n",
      " [0.5]] \n",
      "\n",
      "p_1 = [1.]\n",
      "p_2 = [0.5]\n"
     ]
    }
   ],
   "source": [
    "p_sys = np.linalg.solve(K_sys, q_sys)\n",
    "print(\"Systemfreiheitsgrade p_sys:\\n\",p_sys,\"\\n\")\n",
    "\n",
    "print(\"p_1 =\",p_sys[0])\n",
    "print(\"p_2 =\",p_sys[1])"
   ]
  },
  {
   "cell_type": "markdown",
   "id": "4546d493",
   "metadata": {},
   "source": [
    "### Elementfreiheitsgrade"
   ]
  },
  {
   "cell_type": "code",
   "execution_count": 115,
   "id": "03d59bc8",
   "metadata": {},
   "outputs": [
    {
     "name": "stdout",
     "output_type": "stream",
     "text": [
      "Elementfreiheitsgrad  0 :\n",
      " [[0.5]\n",
      " [0. ]] \n",
      "\n",
      "Elementfreiheitsgrad  1 :\n",
      " [[1. ]\n",
      " [0.5]] \n",
      "\n",
      "Elementfreiheitsgrad  2 :\n",
      " [[1.]\n",
      " [0.]] \n",
      "\n"
     ]
    }
   ],
   "source": [
    "pe = [] # leere Liste anlegen\n",
    "# Schleife über alle Elemente (Anzahl Einträge von c_list)\n",
    "for i in range(len(c_list)):\n",
    "    pe_i=np.matmul(inz[i],p_sys)\n",
    "    pe.append(pe_i)\n",
    "    print(\"Elementfreiheitsgrad \",i,\":\\n\",pe_i,\"\\n\")"
   ]
  },
  {
   "cell_type": "markdown",
   "id": "d37a5342",
   "metadata": {},
   "source": [
    "### Federkräfte"
   ]
  },
  {
   "cell_type": "code",
   "execution_count": 139,
   "id": "d73fa9f1",
   "metadata": {},
   "outputs": [
    {
     "name": "stdout",
     "output_type": "stream",
     "text": [
      "Federkraft N_ 1 = [1.]\n",
      "Federkraft N_ 2 = [2.]\n",
      "Federkraft N_ 3 = [1.]\n"
     ]
    }
   ],
   "source": [
    "Ne = [] # leere Liste anlegen\n",
    "i=0 # Laufvariable\n",
    "# Schleife mit allen Einträgen in c_list\n",
    "for c in c_list:\n",
    "    i+=1 # Laufvariable + 1\n",
    "    Ne_i=c*(pe[i-1][0]-pe[i-1][1]) # ersten Listenindex = 0 (deswegen) i-1)\n",
    "    Ne.append(Ne_i)\n",
    "    print(\"Federkraft N_\",i,\"=\",Ne_i)"
   ]
  }
 ],
 "metadata": {
  "kernelspec": {
   "display_name": "Python 3",
   "language": "python",
   "name": "python3"
  },
  "language_info": {
   "codemirror_mode": {
    "name": "ipython",
    "version": 3
   },
   "file_extension": ".py",
   "mimetype": "text/x-python",
   "name": "python",
   "nbconvert_exporter": "python",
   "pygments_lexer": "ipython3",
   "version": "3.8.5"
  },
  "toc-autonumbering": true
 },
 "nbformat": 4,
 "nbformat_minor": 5
}
