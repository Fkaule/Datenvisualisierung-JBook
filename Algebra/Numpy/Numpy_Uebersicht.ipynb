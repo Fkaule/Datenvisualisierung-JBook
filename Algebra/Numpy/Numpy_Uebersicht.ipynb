{
 "cells": [
  {
   "cell_type": "markdown",
   "id": "3e36c8d7",
   "metadata": {},
   "source": [
    "# NumPy"
   ]
  },
  {
   "cell_type": "markdown",
   "id": "673ae000",
   "metadata": {},
   "source": [
    "<div class=\"alert alert-block alert-danger\">\n",
    "<b>ToDo:</b> Übersicht erstellen\n",
    "</div>"
   ]
  },
  {
   "cell_type": "markdown",
   "id": "dac7ee33",
   "metadata": {},
   "source": [
    "**Lehrbeispiele**\n",
    "\n",
    "[FEM - Federsysteme](../../Beispiele_Lehre/FEM/Federsysteme/Uebung-Federsysteme.ipynb)"
   ]
  },
  {
   "cell_type": "code",
   "execution_count": null,
   "id": "2f429726",
   "metadata": {},
   "outputs": [],
   "source": []
  }
 ],
 "metadata": {
  "kernelspec": {
   "display_name": "Python 3",
   "language": "python",
   "name": "python3"
  },
  "language_info": {
   "codemirror_mode": {
    "name": "ipython",
    "version": 3
   },
   "file_extension": ".py",
   "mimetype": "text/x-python",
   "name": "python",
   "nbconvert_exporter": "python",
   "pygments_lexer": "ipython3",
   "version": "3.8.5"
  }
 },
 "nbformat": 4,
 "nbformat_minor": 5
}
